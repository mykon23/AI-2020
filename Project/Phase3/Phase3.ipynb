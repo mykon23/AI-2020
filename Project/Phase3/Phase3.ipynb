{
  "nbformat": 4,
  "nbformat_minor": 0,
  "metadata": {
    "colab": {
      "name": "Phase3.ipynb",
      "provenance": [],
      "collapsed_sections": [],
      "toc_visible": true,
      "authorship_tag": "ABX9TyPFffGYyr0WxBlPA86SBc+E",
      "include_colab_link": true
    },
    "kernelspec": {
      "display_name": "Python 3",
      "name": "python3"
    }
  },
  "cells": [
    {
      "cell_type": "markdown",
      "metadata": {
        "id": "view-in-github",
        "colab_type": "text"
      },
      "source": [
        "<a href=\"https://colab.research.google.com/github/mykon23/AI-2020/blob/project_phase_3/Project/Phase3/Phase3.ipynb\" target=\"_parent\"><img src=\"https://colab.research.google.com/assets/colab-badge.svg\" alt=\"Open In Colab\"/></a>"
      ]
    },
    {
      "cell_type": "markdown",
      "metadata": {
        "id": "W_zE-m3PRo-n"
      },
      "source": [
        "##MoneyBall Model: Feature Significance and Feature Reduction"
      ]
    },
    {
      "cell_type": "markdown",
      "metadata": {
        "id": "PYHUHsXxj9z7"
      },
      "source": [
        "##Define Development Set: Training and Validation"
      ]
    },
    {
      "cell_type": "code",
      "metadata": {
        "colab": {
          "base_uri": "https://localhost:8080/"
        },
        "id": "dYDpz3oyj36A",
        "outputId": "3139534a-6822-4c2d-8bb8-5c74d87a2425"
      },
      "source": [
        "!wget -O Baseball.csv https://github.com/mykon23/AI-2020/blob/master/Data/Baseball.csv?raw=True"
      ],
      "execution_count": 1,
      "outputs": [
        {
          "output_type": "stream",
          "text": [
            "--2020-12-04 05:57:12--  https://github.com/mykon23/AI-2020/blob/master/Data/Baseball.csv?raw=True\n",
            "Resolving github.com (github.com)... 140.82.121.3\n",
            "Connecting to github.com (github.com)|140.82.121.3|:443... connected.\n",
            "HTTP request sent, awaiting response... 302 Found\n",
            "Location: https://github.com/mykon23/AI-2020/raw/master/Data/Baseball.csv [following]\n",
            "--2020-12-04 05:57:12--  https://github.com/mykon23/AI-2020/raw/master/Data/Baseball.csv\n",
            "Reusing existing connection to github.com:443.\n",
            "HTTP request sent, awaiting response... 302 Found\n",
            "Location: https://raw.githubusercontent.com/mykon23/AI-2020/master/Data/Baseball.csv [following]\n",
            "--2020-12-04 05:57:12--  https://raw.githubusercontent.com/mykon23/AI-2020/master/Data/Baseball.csv\n",
            "Resolving raw.githubusercontent.com (raw.githubusercontent.com)... 151.101.0.133, 151.101.64.133, 151.101.128.133, ...\n",
            "Connecting to raw.githubusercontent.com (raw.githubusercontent.com)|151.101.0.133|:443... connected.\n",
            "HTTP request sent, awaiting response... 200 OK\n",
            "Length: 67157 (66K) [text/plain]\n",
            "Saving to: ‘Baseball.csv’\n",
            "\n",
            "Baseball.csv        100%[===================>]  65.58K  --.-KB/s    in 0.005s  \n",
            "\n",
            "2020-12-04 05:57:12 (14.1 MB/s) - ‘Baseball.csv’ saved [67157/67157]\n",
            "\n"
          ],
          "name": "stdout"
        }
      ]
    },
    {
      "cell_type": "code",
      "metadata": {
        "colab": {
          "base_uri": "https://localhost:8080/",
          "height": 204
        },
        "id": "oB5c7zhAkYS2",
        "outputId": "b6370d74-d9b8-4baf-d4fb-a1e68680fb3f"
      },
      "source": [
        "import pandas as pd\n",
        "\n",
        "data = pd.read_csv('Baseball.csv')\n",
        "data.head()"
      ],
      "execution_count": 2,
      "outputs": [
        {
          "output_type": "execute_result",
          "data": {
            "text/html": [
              "<div>\n",
              "<style scoped>\n",
              "    .dataframe tbody tr th:only-of-type {\n",
              "        vertical-align: middle;\n",
              "    }\n",
              "\n",
              "    .dataframe tbody tr th {\n",
              "        vertical-align: top;\n",
              "    }\n",
              "\n",
              "    .dataframe thead th {\n",
              "        text-align: right;\n",
              "    }\n",
              "</style>\n",
              "<table border=\"1\" class=\"dataframe\">\n",
              "  <thead>\n",
              "    <tr style=\"text-align: right;\">\n",
              "      <th></th>\n",
              "      <th>Team</th>\n",
              "      <th>League</th>\n",
              "      <th>Year</th>\n",
              "      <th>RS</th>\n",
              "      <th>RA</th>\n",
              "      <th>W</th>\n",
              "      <th>OBP</th>\n",
              "      <th>SLG</th>\n",
              "      <th>BA</th>\n",
              "      <th>Playoffs</th>\n",
              "      <th>RankSeason</th>\n",
              "      <th>RankPlayoffs</th>\n",
              "      <th>G</th>\n",
              "      <th>OOBP</th>\n",
              "      <th>OSLG</th>\n",
              "    </tr>\n",
              "  </thead>\n",
              "  <tbody>\n",
              "    <tr>\n",
              "      <th>0</th>\n",
              "      <td>ARI</td>\n",
              "      <td>NL</td>\n",
              "      <td>2012</td>\n",
              "      <td>734</td>\n",
              "      <td>688</td>\n",
              "      <td>81</td>\n",
              "      <td>0.328</td>\n",
              "      <td>0.418</td>\n",
              "      <td>0.259</td>\n",
              "      <td>0</td>\n",
              "      <td>NaN</td>\n",
              "      <td>NaN</td>\n",
              "      <td>162</td>\n",
              "      <td>0.317</td>\n",
              "      <td>0.415</td>\n",
              "    </tr>\n",
              "    <tr>\n",
              "      <th>1</th>\n",
              "      <td>ATL</td>\n",
              "      <td>NL</td>\n",
              "      <td>2012</td>\n",
              "      <td>700</td>\n",
              "      <td>600</td>\n",
              "      <td>94</td>\n",
              "      <td>0.320</td>\n",
              "      <td>0.389</td>\n",
              "      <td>0.247</td>\n",
              "      <td>1</td>\n",
              "      <td>4.0</td>\n",
              "      <td>5.0</td>\n",
              "      <td>162</td>\n",
              "      <td>0.306</td>\n",
              "      <td>0.378</td>\n",
              "    </tr>\n",
              "    <tr>\n",
              "      <th>2</th>\n",
              "      <td>BAL</td>\n",
              "      <td>AL</td>\n",
              "      <td>2012</td>\n",
              "      <td>712</td>\n",
              "      <td>705</td>\n",
              "      <td>93</td>\n",
              "      <td>0.311</td>\n",
              "      <td>0.417</td>\n",
              "      <td>0.247</td>\n",
              "      <td>1</td>\n",
              "      <td>5.0</td>\n",
              "      <td>4.0</td>\n",
              "      <td>162</td>\n",
              "      <td>0.315</td>\n",
              "      <td>0.403</td>\n",
              "    </tr>\n",
              "    <tr>\n",
              "      <th>3</th>\n",
              "      <td>BOS</td>\n",
              "      <td>AL</td>\n",
              "      <td>2012</td>\n",
              "      <td>734</td>\n",
              "      <td>806</td>\n",
              "      <td>69</td>\n",
              "      <td>0.315</td>\n",
              "      <td>0.415</td>\n",
              "      <td>0.260</td>\n",
              "      <td>0</td>\n",
              "      <td>NaN</td>\n",
              "      <td>NaN</td>\n",
              "      <td>162</td>\n",
              "      <td>0.331</td>\n",
              "      <td>0.428</td>\n",
              "    </tr>\n",
              "    <tr>\n",
              "      <th>4</th>\n",
              "      <td>CHC</td>\n",
              "      <td>NL</td>\n",
              "      <td>2012</td>\n",
              "      <td>613</td>\n",
              "      <td>759</td>\n",
              "      <td>61</td>\n",
              "      <td>0.302</td>\n",
              "      <td>0.378</td>\n",
              "      <td>0.240</td>\n",
              "      <td>0</td>\n",
              "      <td>NaN</td>\n",
              "      <td>NaN</td>\n",
              "      <td>162</td>\n",
              "      <td>0.335</td>\n",
              "      <td>0.424</td>\n",
              "    </tr>\n",
              "  </tbody>\n",
              "</table>\n",
              "</div>"
            ],
            "text/plain": [
              "  Team League  Year   RS   RA  ...  RankSeason  RankPlayoffs    G   OOBP   OSLG\n",
              "0  ARI     NL  2012  734  688  ...         NaN           NaN  162  0.317  0.415\n",
              "1  ATL     NL  2012  700  600  ...         4.0           5.0  162  0.306  0.378\n",
              "2  BAL     AL  2012  712  705  ...         5.0           4.0  162  0.315  0.403\n",
              "3  BOS     AL  2012  734  806  ...         NaN           NaN  162  0.331  0.428\n",
              "4  CHC     NL  2012  613  759  ...         NaN           NaN  162  0.335  0.424\n",
              "\n",
              "[5 rows x 15 columns]"
            ]
          },
          "metadata": {
            "tags": []
          },
          "execution_count": 2
        }
      ]
    },
    {
      "cell_type": "code",
      "metadata": {
        "id": "l0Fl-2UCWGOZ"
      },
      "source": [
        "!rm Baseball.csv\n",
        "!rm *.tar"
      ],
      "execution_count": 3,
      "outputs": []
    },
    {
      "cell_type": "code",
      "metadata": {
        "id": "-LExfrr2kfev"
      },
      "source": [
        "##Set the features of interest and the output\n",
        "features = ['OBP', 'SLG', 'BA']\n",
        "output = ['RS']"
      ],
      "execution_count": 4,
      "outputs": []
    },
    {
      "cell_type": "code",
      "metadata": {
        "id": "jgD3eclRyreF"
      },
      "source": [
        "import numpy as np\n",
        "\n",
        "work_data = data[features + output].to_numpy()\n",
        "np.random.shuffle(work_data)\n",
        "\n",
        "##Define the split point for the training set and the validation set\n",
        "split_pt = int(0.25 * len(work_data))\n",
        "\n",
        "##Set the data as two new tensors to permit normalization\n",
        "TRAIN = work_data[split_pt:]\n",
        "VALID = work_data[:split_pt]\n",
        "\n",
        "XTRAIN = TRAIN[:, :-1]\n",
        "XVALID = VALID[:, :-1]\n",
        "\n",
        "YTRAIN = TRAIN[:, -1]\n",
        "YVALID = VALID[:, -1]\n",
        "\n",
        "##Normalize the training set\n",
        "mean = XTRAIN.mean(axis = 0)\n",
        "XTRAIN -= mean\n",
        "std = XTRAIN.std(axis = 0)\n",
        "XTRAIN /= std\n",
        "\n",
        "##Normalize the validation set\n",
        "XVALID -= mean\n",
        "XVALID /= std"
      ],
      "execution_count": 5,
      "outputs": []
    },
    {
      "cell_type": "markdown",
      "metadata": {
        "id": "BG__qqF6lJM2"
      },
      "source": [
        "Define Evaluation Utilities"
      ]
    },
    {
      "cell_type": "code",
      "metadata": {
        "id": "I_JRH5srlMdh"
      },
      "source": [
        "import matplotlib.pyplot as plt\n",
        "from sklearn import metrics\n",
        "\n",
        "class PlotUtil:\n",
        "  @staticmethod\n",
        "  def get_learning_curve(history):\n",
        "    f, ax = plt.subplots()\n",
        "    ax.plot(history.history['loss'], '-', label = 'Training', color = 'blue')\n",
        "    ax.plot(history.history['val_loss'], '--', label = 'Validation', color = 'orange')\n",
        "    ax.set_ylabel('Loss')\n",
        "    ax.set_xlabel('epoch')\n",
        "    ax.set_yscale('log')\n",
        "    ax.legend()\n",
        "    return (f, ax)\n",
        "\n",
        "class RegEvalUtil:\n",
        "  @staticmethod\n",
        "  def get_eval_metrics(y_true, y_pred):\n",
        "    return { 'mse': metrics.mean_squared_error(y_true, y_pred),\n",
        "            'mae': metrics.mean_absolute_error(y_true, y_pred) }"
      ],
      "execution_count": 6,
      "outputs": []
    },
    {
      "cell_type": "markdown",
      "metadata": {
        "id": "F8cNczRzlT3p"
      },
      "source": [
        "Define Model Utilities"
      ]
    },
    {
      "cell_type": "code",
      "metadata": {
        "id": "BizS23AOlZCx"
      },
      "source": [
        "from tensorflow.keras.models import Sequential\n",
        "from tensorflow.keras.layers import Dense\n",
        "from tensorflow.keras.callbacks import EarlyStopping, ModelCheckpoint\n",
        "\n",
        "class ModelUtil:\n",
        "  @staticmethod\n",
        "  def get_model(input):\n",
        "    model = Sequential()\n",
        "    model.add( Dense(18, input_dim = input, activation='elu'))\n",
        "    model.add( Dense(6, activation = 'elu' ))\n",
        "    model.add( Dense(3, activation = 'elu'))\n",
        "    model.add( Dense(1, activation = 'linear' ))\n",
        "    return model\n",
        "  @staticmethod\n",
        "  def get_callbacks(model_path):\n",
        "    return [ ModelCheckpoint(filepath = model_path, \n",
        "                        monitor='val_loss', save_best_only = True, \n",
        "                        save_weights_only = True, verbose = 0), \n",
        "             EarlyStopping(monitor='val_loss', mode='min', \n",
        "                           patience=64, verbose=0) ]\n",
        "\n",
        "DEFAULT_EPOCHS = 512\n",
        "DEFAULT_BATCH = int(32 * 1.5)"
      ],
      "execution_count": 7,
      "outputs": []
    },
    {
      "cell_type": "markdown",
      "metadata": {
        "id": "J_PeFZAUmhpE"
      },
      "source": [
        "##Feature Significance"
      ]
    },
    {
      "cell_type": "code",
      "metadata": {
        "colab": {
          "base_uri": "https://localhost:8080/",
          "height": 851
        },
        "id": "DEqUMl8LlhoA",
        "outputId": "8e395855-fbca-42c2-8e2c-dde60d8c07d0"
      },
      "source": [
        "##Keep a dictionary to keep track of the loss\n",
        "val_loss = {}\n",
        "\n",
        "##Set the model with default weights\n",
        "DEFAULT_WEIGHTS = 'default.hdf5'\n",
        "model = ModelUtil.get_model(1)\n",
        "model.save_weights(DEFAULT_WEIGHTS)\n",
        "\n",
        "for i in range(len(features)):\n",
        "  \n",
        "  model.load_weights(DEFAULT_WEIGHTS)\n",
        "  model.compile(loss = 'mse', optimizer = 'rmsprop', metrics = ['mse'])\n",
        "\n",
        "  ##Define the model name\n",
        "  model_path = features[i] + '.hdf5'\n",
        "  model_callbacks = ModelUtil.get_callbacks(model_path)\n",
        "\n",
        "  ##Train the model\n",
        "  history = model.fit( XTRAIN[:,i], YTRAIN[:],\n",
        "                      validation_data = (XVALID[:,i], YVALID[:]),\n",
        "                      epochs = DEFAULT_EPOCHS,\n",
        "                      batch_size = DEFAULT_BATCH,\n",
        "                      callbacks = model_callbacks,\n",
        "                      verbose = 0)\n",
        "  \n",
        "  ##View the Learning Curve for the model\n",
        "  figs = PlotUtil.get_learning_curve(history)\n",
        "  figs[1].set_title(features[i])\n",
        "  plt.savefig(features[i] + '.png')\n",
        "  figs[0].show()\n",
        "\n",
        "  ##Get the predictions from the best weights from model checkpointing\n",
        "  model.load_weights(model_path)\n",
        "  train_pred = model.predict(XTRAIN[:, i])\n",
        "  valid_pred = model.predict(XVALID[:, i])\n",
        "\n",
        "  eval = { 'train': RegEvalUtil.get_eval_metrics(YTRAIN, train_pred),\n",
        "              'valid': RegEvalUtil.get_eval_metrics(YVALID, valid_pred)}\n",
        "  \n",
        "  val_loss[features[i]] = eval['valid']['mae']\n"
      ],
      "execution_count": 8,
      "outputs": [
        {
          "output_type": "display_data",
          "data": {
            "image/png": "[encoded data removed]",
            "text/plain": [
              "<Figure size 432x288 with 1 Axes>"
            ]
          },
          "metadata": {
            "tags": [],
            "needs_background": "light"
          }
        },
        {
          "output_type": "display_data",
          "data": {
            "image/png": "[encoded data removed]",
            "text/plain": [
              "<Figure size 432x288 with 1 Axes>"
            ]
          },
          "metadata": {
            "tags": [],
            "needs_background": "light"
          }
        },
        {
          "output_type": "display_data",
          "data": {
            "image/png": "[encoded data removed]",
            "text/plain": [
              "<Figure size 432x288 with 1 Axes>"
            ]
          },
          "metadata": {
            "tags": [],
            "needs_background": "light"
          }
        }
      ]
    },
    {
      "cell_type": "code",
      "metadata": {
        "colab": {
          "base_uri": "https://localhost:8080/",
          "height": 142
        },
        "id": "ecOUB5B02bg6",
        "outputId": "4fd3de8a-553e-4f3b-eabe-d8493b66564d"
      },
      "source": [
        "##Sort features by validation loss\n",
        "ranked_loss = pd.DataFrame( {'feature': val_loss.keys(), 'loss': val_loss.values()}, columns=['feature', 'loss'])\n",
        "ranked_loss = ranked_loss.sort_values(by = ['loss'])\n",
        "ranked_loss.to_csv('Single_Feature_Loss.csv')\n",
        "ranked_loss.head(len(ranked_loss))"
      ],
      "execution_count": 9,
      "outputs": [
        {
          "output_type": "execute_result",
          "data": {
            "text/html": [
              "<div>\n",
              "<style scoped>\n",
              "    .dataframe tbody tr th:only-of-type {\n",
              "        vertical-align: middle;\n",
              "    }\n",
              "\n",
              "    .dataframe tbody tr th {\n",
              "        vertical-align: top;\n",
              "    }\n",
              "\n",
              "    .dataframe thead th {\n",
              "        text-align: right;\n",
              "    }\n",
              "</style>\n",
              "<table border=\"1\" class=\"dataframe\">\n",
              "  <thead>\n",
              "    <tr style=\"text-align: right;\">\n",
              "      <th></th>\n",
              "      <th>feature</th>\n",
              "      <th>loss</th>\n",
              "    </tr>\n",
              "  </thead>\n",
              "  <tbody>\n",
              "    <tr>\n",
              "      <th>1</th>\n",
              "      <td>SLG</td>\n",
              "      <td>26.589306</td>\n",
              "    </tr>\n",
              "    <tr>\n",
              "      <th>0</th>\n",
              "      <td>OBP</td>\n",
              "      <td>30.913499</td>\n",
              "    </tr>\n",
              "    <tr>\n",
              "      <th>2</th>\n",
              "      <td>BA</td>\n",
              "      <td>42.748085</td>\n",
              "    </tr>\n",
              "  </tbody>\n",
              "</table>\n",
              "</div>"
            ],
            "text/plain": [
              "  feature       loss\n",
              "1     SLG  26.589306\n",
              "0     OBP  30.913499\n",
              "2      BA  42.748085"
            ]
          },
          "metadata": {
            "tags": []
          },
          "execution_count": 9
        }
      ]
    },
    {
      "cell_type": "code",
      "metadata": {
        "colab": {
          "base_uri": "https://localhost:8080/",
          "height": 281
        },
        "id": "yxJ3oQbJ4r9u",
        "outputId": "65b14b74-7e6f-48b0-bf53-d5887d9d8c9d"
      },
      "source": [
        "import matplotlib.pyplot as plt\n",
        "\n",
        "plt.bar(ranked_loss['feature'], ranked_loss['loss'])\n",
        "plt.ylabel('MAE')\n",
        "plt.title('MAE per Single Feature Training')\n",
        "plt.savefig('Single_Feature_Loss.png')\n",
        "plt.show()"
      ],
      "execution_count": 10,
      "outputs": [
        {
          "output_type": "display_data",
          "data": {
            "image/png": "[encoded data removed]",
            "text/plain": [
              "<Figure size 432x288 with 1 Axes>"
            ]
          },
          "metadata": {
            "tags": [],
            "needs_background": "light"
          }
        }
      ]
    },
    {
      "cell_type": "markdown",
      "metadata": {
        "id": "ouwbOqqSUzNo"
      },
      "source": [
        "##Feature Reduction"
      ]
    },
    {
      "cell_type": "code",
      "metadata": {
        "colab": {
          "base_uri": "https://localhost:8080/",
          "height": 573
        },
        "id": "etsr6dh2U1q4",
        "outputId": "42769f97-c53c-443d-d0a7-63deeeb03850"
      },
      "source": [
        "##Set the reduce features list to contain the indices for each features\n",
        "feature_red = [ features.index(u) for u in ranked_loss['feature']]\n",
        "\n",
        "##Keep a dictionary to keep track of the loss\n",
        "val_loss_red = {}\n",
        "\n",
        "##Train reduced model for features greater than one\n",
        "while len(feature_red) > 1:\n",
        "\n",
        "  ##Set the updated np array\n",
        "  x_train_red = XTRAIN[:, feature_red]\n",
        "  x_valid_red = VALID[:, feature_red]\n",
        "  \n",
        "  model = ModelUtil.get_model(len(feature_red))\n",
        "  model.compile(loss = 'mse', optimizer = 'rmsprop', metrics = ['mse'])\n",
        "\n",
        "  ##Set the indentifier\n",
        "  key = '-'.join(sorted([features[i] for i in feature_red]))\n",
        "  model_path = key + '.hdf5'\n",
        "  model_callbacks = ModelUtil.get_callbacks(model_path)\n",
        "\n",
        "  ##Train the model\n",
        "  history = model.fit( x_train_red, YTRAIN[:],\n",
        "                      validation_data = (x_valid_red, YVALID[:]),\n",
        "                      epochs = DEFAULT_EPOCHS,\n",
        "                      batch_size = DEFAULT_BATCH,\n",
        "                      callbacks = model_callbacks,\n",
        "                      verbose = 0)\n",
        "  \n",
        "  ##View the Learning Curve for the model\n",
        "  figs = PlotUtil.get_learning_curve(history)\n",
        "  figs[1].set_title(key)\n",
        "  plt.savefig(key + '.png')\n",
        "  figs[0].show()\n",
        "\n",
        "  ##Get the predictions from the best weights from model checkpointing\n",
        "  model.load_weights(model_path)\n",
        "  train_pred = model.predict(x_train_red)\n",
        "  valid_pred = model.predict(x_valid_red)\n",
        "\n",
        "  eval = { 'train': RegEvalUtil.get_eval_metrics(YTRAIN, train_pred),\n",
        "              'valid': RegEvalUtil.get_eval_metrics(YVALID, valid_pred)}\n",
        "  \n",
        "  val_loss_red[key] = eval['valid']['mae']\n",
        "\n",
        "  ##Remove the least import feature\n",
        "  feature_red.pop()\n"
      ],
      "execution_count": 18,
      "outputs": [
        {
          "output_type": "display_data",
          "data": {
            "image/png": "[encoded data removed]",
            "text/plain": [
              "<Figure size 432x288 with 1 Axes>"
            ]
          },
          "metadata": {
            "tags": [],
            "needs_background": "light"
          }
        },
        {
          "output_type": "display_data",
          "data": {
            "image/png": "[encoded data removed]",
            "text/plain": [
              "<Figure size 432x288 with 1 Axes>"
            ]
          },
          "metadata": {
            "tags": [],
            "needs_background": "light"
          }
        }
      ]
    },
    {
      "cell_type": "code",
      "metadata": {
        "colab": {
          "base_uri": "https://localhost:8080/",
          "height": 111
        },
        "id": "sYToufqFizso",
        "outputId": "dc5d7bfb-a74a-460a-dcce-090ff16b0ae3"
      },
      "source": [
        "##Sort features by validation loss\n",
        "ranked_loss_red = pd.DataFrame( {'feature': val_loss_red.keys(), 'loss': val_loss_red.values()}, columns=['feature', 'loss'])\n",
        "ranked_loss_red.to_csv('Feature_Reduction_Loss.csv')\n",
        "ranked_loss_red.head(len(ranked_loss_red))"
      ],
      "execution_count": 19,
      "outputs": [
        {
          "output_type": "execute_result",
          "data": {
            "text/html": [
              "<div>\n",
              "<style scoped>\n",
              "    .dataframe tbody tr th:only-of-type {\n",
              "        vertical-align: middle;\n",
              "    }\n",
              "\n",
              "    .dataframe tbody tr th {\n",
              "        vertical-align: top;\n",
              "    }\n",
              "\n",
              "    .dataframe thead th {\n",
              "        text-align: right;\n",
              "    }\n",
              "</style>\n",
              "<table border=\"1\" class=\"dataframe\">\n",
              "  <thead>\n",
              "    <tr style=\"text-align: right;\">\n",
              "      <th></th>\n",
              "      <th>feature</th>\n",
              "      <th>loss</th>\n",
              "    </tr>\n",
              "  </thead>\n",
              "  <tbody>\n",
              "    <tr>\n",
              "      <th>0</th>\n",
              "      <td>BA-OBP-SLG</td>\n",
              "      <td>18.976946</td>\n",
              "    </tr>\n",
              "    <tr>\n",
              "      <th>1</th>\n",
              "      <td>OBP-SLG</td>\n",
              "      <td>18.907755</td>\n",
              "    </tr>\n",
              "  </tbody>\n",
              "</table>\n",
              "</div>"
            ],
            "text/plain": [
              "      feature       loss\n",
              "0  BA-OBP-SLG  18.976946\n",
              "1     OBP-SLG  18.907755"
            ]
          },
          "metadata": {
            "tags": []
          },
          "execution_count": 19
        }
      ]
    },
    {
      "cell_type": "code",
      "metadata": {
        "colab": {
          "base_uri": "https://localhost:8080/",
          "height": 321
        },
        "id": "0P9vJq3XjAKw",
        "outputId": "c52c0a78-a682-4346-dd26-10bc71e7bff8"
      },
      "source": [
        "import matplotlib.pyplot as plt\n",
        "\n",
        "plt.bar(ranked_loss_red['feature'], ranked_loss_red['loss'])\n",
        "plt.xticks(rotation = 45)\n",
        "plt.ylabel('MAE')\n",
        "plt.title('MAE Feature Reduction')\n",
        "plt.savefig('Feature_Reduction_Loss.png')\n",
        "plt.show()"
      ],
      "execution_count": 20,
      "outputs": [
        {
          "output_type": "display_data",
          "data": {
            "image/png": "[encoded data removed]",
            "text/plain": [
              "<Figure size 432x288 with 1 Axes>"
            ]
          },
          "metadata": {
            "tags": [],
            "needs_background": "light"
          }
        }
      ]
    },
    {
      "cell_type": "markdown",
      "metadata": {
        "id": "86kOGHqfWao_"
      },
      "source": [
        "##Collect Information for Report"
      ]
    },
    {
      "cell_type": "code",
      "metadata": {
        "id": "tvWu3B5RXKoY"
      },
      "source": [
        "##Create directory to contain all the desired contents\n",
        "!if [[ ! -e proj_dir ]]; then mkdir proj_dir; fi"
      ],
      "execution_count": 14,
      "outputs": []
    },
    {
      "cell_type": "code",
      "metadata": {
        "id": "DmqwUQ2mXVbl"
      },
      "source": [
        "!mv *.csv proj_dir/\n",
        "!mv *.png proj_dir/"
      ],
      "execution_count": 15,
      "outputs": []
    },
    {
      "cell_type": "code",
      "metadata": {
        "colab": {
          "base_uri": "https://localhost:8080/"
        },
        "id": "icFyR2CiYd0y",
        "outputId": "e0fe72aa-2252-4c0c-b6ce-1cb63d1cbd80"
      },
      "source": [
        "!tar -cvf phase3.tar proj_dir/"
      ],
      "execution_count": 16,
      "outputs": [
        {
          "output_type": "stream",
          "text": [
            "proj_dir/\n",
            "proj_dir/BA.png\n",
            "proj_dir/BA-OBP-SLG.png\n",
            "proj_dir/Single_Feature_Loss.png\n",
            "proj_dir/Feature_Reduction_Loss.png\n",
            "proj_dir/Single_Feature_Loss.csv\n",
            "proj_dir/OBP-SLG.png\n",
            "proj_dir/Feature_Reduction_Loss.csv\n",
            "proj_dir/SLG.png\n",
            "proj_dir/OBP.png\n"
          ],
          "name": "stdout"
        }
      ]
    },
    {
      "cell_type": "code",
      "metadata": {
        "id": "RVTbSZ3ZWj7u",
        "colab": {
          "base_uri": "https://localhost:8080/",
          "height": 17
        },
        "outputId": "0170a850-54b3-4075-fcee-0864987dfae0"
      },
      "source": [
        "from google.colab import files\n",
        "\n",
        "files.download('phase3.tar')"
      ],
      "execution_count": 21,
      "outputs": [
        {
          "output_type": "display_data",
          "data": {
            "application/javascript": [
              "\n",
              "    async function download(id, filename, size) {\n",
              "      if (!google.colab.kernel.accessAllowed) {\n",
              "        return;\n",
              "      }\n",
              "      const div = document.createElement('div');\n",
              "      const label = document.createElement('label');\n",
              "      label.textContent = `Downloading \"${filename}\": `;\n",
              "      div.appendChild(label);\n",
              "      const progress = document.createElement('progress');\n",
              "      progress.max = size;\n",
              "      div.appendChild(progress);\n",
              "      document.body.appendChild(div);\n",
              "\n",
              "      const buffers = [];\n",
              "      let downloaded = 0;\n",
              "\n",
              "      const channel = await google.colab.kernel.comms.open(id);\n",
              "      // Send a message to notify the kernel that we're ready.\n",
              "      channel.send({})\n",
              "\n",
              "      for await (const message of channel.messages) {\n",
              "        // Send a message to notify the kernel that we're ready.\n",
              "        channel.send({})\n",
              "        if (message.buffers) {\n",
              "          for (const buffer of message.buffers) {\n",
              "            buffers.push(buffer);\n",
              "            downloaded += buffer.byteLength;\n",
              "            progress.value = downloaded;\n",
              "          }\n",
              "        }\n",
              "      }\n",
              "      const blob = new Blob(buffers, {type: 'application/binary'});\n",
              "      const a = document.createElement('a');\n",
              "      a.href = window.URL.createObjectURL(blob);\n",
              "      a.download = filename;\n",
              "      div.appendChild(a);\n",
              "      a.click();\n",
              "      div.remove();\n",
              "    }\n",
              "  "
            ],
            "text/plain": [
              "<IPython.core.display.Javascript object>"
            ]
          },
          "metadata": {
            "tags": []
          }
        },
        {
          "output_type": "display_data",
          "data": {
            "application/javascript": [
              "download(\"download_7a8eeef1-1d18-45d4-8f90-69a19a7b0e7c\", \"phase3.tar\", 92160)"
            ],
            "text/plain": [
              "<IPython.core.display.Javascript object>"
            ]
          },
          "metadata": {
            "tags": []
          }
        }
      ]
    }
  ]
}