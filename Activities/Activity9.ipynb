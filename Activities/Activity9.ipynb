{
  "nbformat": 4,
  "nbformat_minor": 0,
  "metadata": {
    "colab": {
      "name": "Activity9.ipynb",
      "provenance": [],
      "authorship_tag": "ABX9TyOFIzlsFB2yijNFsRuCESCF",
      "include_colab_link": true
    },
    "kernelspec": {
      "name": "python3",
      "display_name": "Python 3"
    }
  },
  "cells": [
    {
      "cell_type": "markdown",
      "metadata": {
        "id": "view-in-github",
        "colab_type": "text"
      },
      "source": [
        "<a href=\"https://colab.research.google.com/github/mykon23/AI-2020/blob/master/Activities/Activity9.ipynb\" target=\"_parent\"><img src=\"https://colab.research.google.com/assets/colab-badge.svg\" alt=\"Open In Colab\"/></a>"
      ]
    },
    {
      "cell_type": "markdown",
      "metadata": {
        "id": "SeTd2dOZLH0C"
      },
      "source": [
        "##Breadth-First Search"
      ]
    },
    {
      "cell_type": "markdown",
      "metadata": {
        "id": "5s_XtqFKLtt_"
      },
      "source": [
        "Define the adjacency structure"
      ]
    },
    {
      "cell_type": "code",
      "metadata": {
        "id": "TR1cQYpdLBAl"
      },
      "source": [
        "##Cities for mapping\n",
        "cities = { 's': 'Sibiu', 'f': 'Fagaras', 'r': 'Rimnicu Vilcea',\n",
        "          'c': 'Craiova', 'p': 'Pitesti', 'b': 'Bucharest',\n",
        "          'g': 'Girugiu'}\n",
        "\n",
        "adj = { 's': ['f', 'r'], 'f': ['s', 'b'], 'r': ['s', 'p', 'c'],\n",
        "       'c': ['r', 'p'], 'p' : ['r', 'c', 'b'],\n",
        "       'b': ['f', 'p', 'g'], 'g': ['b'] }"
      ],
      "execution_count": 1,
      "outputs": []
    },
    {
      "cell_type": "markdown",
      "metadata": {
        "id": "hCIhLQQFOCb8"
      },
      "source": [
        "Implementation of Breadth-First Search"
      ]
    },
    {
      "cell_type": "code",
      "metadata": {
        "id": "NYE7jcUhOIyS"
      },
      "source": [
        "##Function to return the short path in terms of vertices\n",
        "def do_bfs_search(adj, s, goal):\n",
        "\n",
        "    ##Assume worst case that only one edge exists per vertex as default\n",
        "    edges = len(adj.keys()) - 1\n",
        "\n",
        "    ##Create the summary of the tree per the nodes\n",
        "    nodes = {}\n",
        "    for k in adj.keys():\n",
        "        nodes[k] = { 'color' : 'white', 'distance' : edges, 'parent' : None }\n",
        "\n",
        "    nodes[s]['color'] = 'gray'\n",
        "    nodes[s]['distance'] = 0\n",
        "    nodes[s]['parent'] = None\n",
        "\n",
        "    ##Establish the queue for traversing the graph\n",
        "    queue = []\n",
        "    queue.append(s)\n",
        "\n",
        "    ##Keep track of whether the goal state was found\n",
        "    found = s == goal\n",
        "\n",
        "    ##Traverse through the graph if there are nodes to explore or goal state isn't found\n",
        "    while len( queue ) != 0 and not found:\n",
        "        u = queue.pop(0)\n",
        "        for v in adj[u]:\n",
        "            ##Expand a node if it is unexplored\n",
        "            if nodes[v]['color'] == 'white':\n",
        "                nodes[v]['color'] = 'grey'\n",
        "                nodes[v]['distance'] = nodes[u]['distance'] + 1\n",
        "                nodes[v]['parent'] = u\n",
        "                queue.append(v)\n",
        "\n",
        "                ##Stop searching when goal state is found\n",
        "                if v == goal:\n",
        "                    found = True\n",
        "                    break\n",
        "\n",
        "        nodes[u]['color'] = 'black'\n",
        "\n",
        "    ##Determine if a solution to the goal state was found\n",
        "    if not found:\n",
        "        return { 'path': None, 'summary': nodes }\n",
        "\n",
        "    ##Return the path to the goal state\n",
        "    path = []\n",
        "    trv = goal\n",
        "    while trv != None:\n",
        "        path.insert(0, trv)\n",
        "        trv = nodes[trv]['parent']\n",
        "    return { 'path': path, 'summary' : nodes }\n"
      ],
      "execution_count": 2,
      "outputs": []
    },
    {
      "cell_type": "markdown",
      "metadata": {
        "id": "RTFXdrYVOXZN"
      },
      "source": [
        "Find shortest path from Sibiu to Bucharest"
      ]
    },
    {
      "cell_type": "code",
      "metadata": {
        "id": "ZNbu_gOqOeVq",
        "outputId": "08122708-f6b0-4a94-d8ae-bc1bdbe99f02",
        "colab": {
          "base_uri": "https://localhost:8080/",
          "height": 50
        }
      },
      "source": [
        "result = do_bfs_search(adj, 's', 'b')\n",
        "print( '->'.join(cities[c] for c in result['path']))\n",
        "\n",
        "##Determine the distance\n",
        "distance = result['summary']['b']['distance']\n",
        "print(f'Distance: {distance}')"
      ],
      "execution_count": 3,
      "outputs": [
        {
          "output_type": "stream",
          "text": [
            "Sibiu->Fagaras->Bucharest\n",
            "Distance: 2\n"
          ],
          "name": "stdout"
        }
      ]
    },
    {
      "cell_type": "code",
      "metadata": {
        "id": "_LUZ5-13P-7T"
      },
      "source": [
        "##Ensure that not all nodes were explored as termination occurs on goal state\n",
        "remaining = [ n for n in result['summary'] if result['summary'][n]['distance'] > distance]\n",
        "assert( len(remaining) > 0 )\n",
        "assert( result['summary']['g']['parent'] == None)"
      ],
      "execution_count": 4,
      "outputs": []
    },
    {
      "cell_type": "markdown",
      "metadata": {
        "id": "b9YlqGRnTzw9"
      },
      "source": [
        "Find shortest path from Sibui to Sibiu"
      ]
    },
    {
      "cell_type": "code",
      "metadata": {
        "id": "N2LYANViT5GV",
        "outputId": "0f43ae9c-680e-4a4b-a2a6-b9ab290fd48c",
        "colab": {
          "base_uri": "https://localhost:8080/",
          "height": 50
        }
      },
      "source": [
        "result = do_bfs_search(adj, 's', 's')\n",
        "print( '->'.join(cities[c] for c in result['path']))\n",
        "\n",
        "##Determine the distance\n",
        "distance = result['summary']['s']['distance']\n",
        "print(f'Distance: {distance}')"
      ],
      "execution_count": 5,
      "outputs": [
        {
          "output_type": "stream",
          "text": [
            "Sibiu\n",
            "Distance: 0\n"
          ],
          "name": "stdout"
        }
      ]
    },
    {
      "cell_type": "code",
      "metadata": {
        "id": "yr-CBdoZT6Xb"
      },
      "source": [
        "##Ensure that not all nodes were explored as termination occurs on goal state\n",
        "remaining = [ n for n in result['summary'] if result['summary'][n]['color'] != 'black']\n",
        "assert( len(remaining) > 0 )\n",
        "assert( result['summary']['g']['parent'] == None)"
      ],
      "execution_count": 6,
      "outputs": []
    },
    {
      "cell_type": "markdown",
      "metadata": {
        "id": "ZJonuisVUNOD"
      },
      "source": [
        "Find Shortest Path from Pitesti to Fagaras"
      ]
    },
    {
      "cell_type": "code",
      "metadata": {
        "id": "_0ajqyYgURMz",
        "outputId": "29188ce6-3c4f-4c48-ac11-45cee0ad3e7b",
        "colab": {
          "base_uri": "https://localhost:8080/",
          "height": 50
        }
      },
      "source": [
        "result = do_bfs_search(adj, 'p', 'f')\n",
        "print( '->'.join(cities[c] for c in result['path']))\n",
        "\n",
        "##Determine the distance\n",
        "distance = result['summary']['f']['distance']\n",
        "print(f'Distance: {distance}')"
      ],
      "execution_count": 7,
      "outputs": [
        {
          "output_type": "stream",
          "text": [
            "Pitesti->Bucharest->Fagaras\n",
            "Distance: 2\n"
          ],
          "name": "stdout"
        }
      ]
    },
    {
      "cell_type": "code",
      "metadata": {
        "id": "3oLRgGnRUY1m"
      },
      "source": [
        "##Ensure that not all nodes were explored as termination occurs on goal state\n",
        "remaining = [ n for n in result['summary'] if result['summary'][n]['distance'] != 'black']\n",
        "assert( len(remaining) > 0 )"
      ],
      "execution_count": 8,
      "outputs": []
    },
    {
      "cell_type": "markdown",
      "metadata": {
        "id": "BKKKPbwVVE90"
      },
      "source": [
        "Find a Shortest Path from Craiova to Fagaras"
      ]
    },
    {
      "cell_type": "code",
      "metadata": {
        "id": "beE1XkRAVK_U",
        "outputId": "b36618ed-bbdc-460d-ae5c-98e62277e923",
        "colab": {
          "base_uri": "https://localhost:8080/",
          "height": 50
        }
      },
      "source": [
        "result = do_bfs_search(adj, 'c', 'f')\n",
        "print( '->'.join(cities[c] for c in result['path']))\n",
        "\n",
        "##Determine the distance\n",
        "distance = result['summary']['f']['distance']\n",
        "print(f'Distance: {distance}')"
      ],
      "execution_count": 9,
      "outputs": [
        {
          "output_type": "stream",
          "text": [
            "Craiova->Rimnicu Vilcea->Sibiu->Fagaras\n",
            "Distance: 3\n"
          ],
          "name": "stdout"
        }
      ]
    }
  ]
}