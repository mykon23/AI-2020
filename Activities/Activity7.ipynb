{
  "nbformat": 4,
  "nbformat_minor": 0,
  "metadata": {
    "colab": {
      "name": "Activity7.ipynb",
      "provenance": [],
      "authorship_tag": "ABX9TyPDjtewtyElqUYsPMvQj98L",
      "include_colab_link": true
    },
    "kernelspec": {
      "name": "python3",
      "display_name": "Python 3"
    }
  },
  "cells": [
    {
      "cell_type": "markdown",
      "metadata": {
        "id": "view-in-github",
        "colab_type": "text"
      },
      "source": [
        "<a href=\"https://colab.research.google.com/github/mykon23/AI-2020/blob/master/Activities/Activity7.ipynb\" target=\"_parent\"><img src=\"https://colab.research.google.com/assets/colab-badge.svg\" alt=\"Open In Colab\"/></a>"
      ]
    },
    {
      "cell_type": "markdown",
      "metadata": {
        "id": "SasC3ID6ihNI",
        "colab_type": "text"
      },
      "source": [
        "##Binary classification with Neural Networks"
      ]
    },
    {
      "cell_type": "code",
      "metadata": {
        "id": "kIb47KN3ZlHd",
        "colab_type": "code",
        "colab": {
          "base_uri": "https://localhost:8080/",
          "height": 353
        },
        "outputId": "081b9f2c-5843-4b98-fa29-ec81910e150c"
      },
      "source": [
        "!wget -O Baseball.csv https://github.com/mykon23/AI-2020/blob/master/Data/Baseball.csv?raw=True"
      ],
      "execution_count": 53,
      "outputs": [
        {
          "output_type": "stream",
          "text": [
            "--2020-09-19 16:53:24--  https://github.com/mykon23/AI-2020/blob/master/Data/Baseball.csv?raw=True\n",
            "Resolving github.com (github.com)... 140.82.112.3\n",
            "Connecting to github.com (github.com)|140.82.112.3|:443... connected.\n",
            "HTTP request sent, awaiting response... 302 Found\n",
            "Location: https://github.com/mykon23/AI-2020/raw/master/Data/Baseball.csv [following]\n",
            "--2020-09-19 16:53:25--  https://github.com/mykon23/AI-2020/raw/master/Data/Baseball.csv\n",
            "Reusing existing connection to github.com:443.\n",
            "HTTP request sent, awaiting response... 302 Found\n",
            "Location: https://raw.githubusercontent.com/mykon23/AI-2020/master/Data/Baseball.csv [following]\n",
            "--2020-09-19 16:53:25--  https://raw.githubusercontent.com/mykon23/AI-2020/master/Data/Baseball.csv\n",
            "Resolving raw.githubusercontent.com (raw.githubusercontent.com)... 151.101.0.133, 151.101.64.133, 151.101.128.133, ...\n",
            "Connecting to raw.githubusercontent.com (raw.githubusercontent.com)|151.101.0.133|:443... connected.\n",
            "HTTP request sent, awaiting response... 200 OK\n",
            "Length: 67157 (66K) [text/plain]\n",
            "Saving to: ‘Baseball.csv’\n",
            "\n",
            "Baseball.csv        100%[===================>]  65.58K  --.-KB/s    in 0.03s   \n",
            "\n",
            "2020-09-19 16:53:25 (2.29 MB/s) - ‘Baseball.csv’ saved [67157/67157]\n",
            "\n"
          ],
          "name": "stdout"
        }
      ]
    },
    {
      "cell_type": "code",
      "metadata": {
        "id": "tiQyYqybZ0fa",
        "colab_type": "code",
        "colab": {
          "base_uri": "https://localhost:8080/",
          "height": 195
        },
        "outputId": "259ba8a3-e07d-4b4c-d5ad-c98fd456dc73"
      },
      "source": [
        "import pandas as pd\n",
        "data = pd.read_csv('Baseball.csv', delimiter=',')\n",
        "data.head()"
      ],
      "execution_count": 54,
      "outputs": [
        {
          "output_type": "execute_result",
          "data": {
            "text/html": [
              "<div>\n",
              "<style scoped>\n",
              "    .dataframe tbody tr th:only-of-type {\n",
              "        vertical-align: middle;\n",
              "    }\n",
              "\n",
              "    .dataframe tbody tr th {\n",
              "        vertical-align: top;\n",
              "    }\n",
              "\n",
              "    .dataframe thead th {\n",
              "        text-align: right;\n",
              "    }\n",
              "</style>\n",
              "<table border=\"1\" class=\"dataframe\">\n",
              "  <thead>\n",
              "    <tr style=\"text-align: right;\">\n",
              "      <th></th>\n",
              "      <th>Team</th>\n",
              "      <th>League</th>\n",
              "      <th>Year</th>\n",
              "      <th>RS</th>\n",
              "      <th>RA</th>\n",
              "      <th>W</th>\n",
              "      <th>OBP</th>\n",
              "      <th>SLG</th>\n",
              "      <th>BA</th>\n",
              "      <th>Playoffs</th>\n",
              "      <th>RankSeason</th>\n",
              "      <th>RankPlayoffs</th>\n",
              "      <th>G</th>\n",
              "      <th>OOBP</th>\n",
              "      <th>OSLG</th>\n",
              "    </tr>\n",
              "  </thead>\n",
              "  <tbody>\n",
              "    <tr>\n",
              "      <th>0</th>\n",
              "      <td>ARI</td>\n",
              "      <td>NL</td>\n",
              "      <td>2012</td>\n",
              "      <td>734</td>\n",
              "      <td>688</td>\n",
              "      <td>81</td>\n",
              "      <td>0.328</td>\n",
              "      <td>0.418</td>\n",
              "      <td>0.259</td>\n",
              "      <td>0</td>\n",
              "      <td>NaN</td>\n",
              "      <td>NaN</td>\n",
              "      <td>162</td>\n",
              "      <td>0.317</td>\n",
              "      <td>0.415</td>\n",
              "    </tr>\n",
              "    <tr>\n",
              "      <th>1</th>\n",
              "      <td>ATL</td>\n",
              "      <td>NL</td>\n",
              "      <td>2012</td>\n",
              "      <td>700</td>\n",
              "      <td>600</td>\n",
              "      <td>94</td>\n",
              "      <td>0.320</td>\n",
              "      <td>0.389</td>\n",
              "      <td>0.247</td>\n",
              "      <td>1</td>\n",
              "      <td>4.0</td>\n",
              "      <td>5.0</td>\n",
              "      <td>162</td>\n",
              "      <td>0.306</td>\n",
              "      <td>0.378</td>\n",
              "    </tr>\n",
              "    <tr>\n",
              "      <th>2</th>\n",
              "      <td>BAL</td>\n",
              "      <td>AL</td>\n",
              "      <td>2012</td>\n",
              "      <td>712</td>\n",
              "      <td>705</td>\n",
              "      <td>93</td>\n",
              "      <td>0.311</td>\n",
              "      <td>0.417</td>\n",
              "      <td>0.247</td>\n",
              "      <td>1</td>\n",
              "      <td>5.0</td>\n",
              "      <td>4.0</td>\n",
              "      <td>162</td>\n",
              "      <td>0.315</td>\n",
              "      <td>0.403</td>\n",
              "    </tr>\n",
              "    <tr>\n",
              "      <th>3</th>\n",
              "      <td>BOS</td>\n",
              "      <td>AL</td>\n",
              "      <td>2012</td>\n",
              "      <td>734</td>\n",
              "      <td>806</td>\n",
              "      <td>69</td>\n",
              "      <td>0.315</td>\n",
              "      <td>0.415</td>\n",
              "      <td>0.260</td>\n",
              "      <td>0</td>\n",
              "      <td>NaN</td>\n",
              "      <td>NaN</td>\n",
              "      <td>162</td>\n",
              "      <td>0.331</td>\n",
              "      <td>0.428</td>\n",
              "    </tr>\n",
              "    <tr>\n",
              "      <th>4</th>\n",
              "      <td>CHC</td>\n",
              "      <td>NL</td>\n",
              "      <td>2012</td>\n",
              "      <td>613</td>\n",
              "      <td>759</td>\n",
              "      <td>61</td>\n",
              "      <td>0.302</td>\n",
              "      <td>0.378</td>\n",
              "      <td>0.240</td>\n",
              "      <td>0</td>\n",
              "      <td>NaN</td>\n",
              "      <td>NaN</td>\n",
              "      <td>162</td>\n",
              "      <td>0.335</td>\n",
              "      <td>0.424</td>\n",
              "    </tr>\n",
              "  </tbody>\n",
              "</table>\n",
              "</div>"
            ],
            "text/plain": [
              "  Team League  Year   RS   RA  ...  RankSeason  RankPlayoffs    G   OOBP   OSLG\n",
              "0  ARI     NL  2012  734  688  ...         NaN           NaN  162  0.317  0.415\n",
              "1  ATL     NL  2012  700  600  ...         4.0           5.0  162  0.306  0.378\n",
              "2  BAL     AL  2012  712  705  ...         5.0           4.0  162  0.315  0.403\n",
              "3  BOS     AL  2012  734  806  ...         NaN           NaN  162  0.331  0.428\n",
              "4  CHC     NL  2012  613  759  ...         NaN           NaN  162  0.335  0.424\n",
              "\n",
              "[5 rows x 15 columns]"
            ]
          },
          "metadata": {
            "tags": []
          },
          "execution_count": 54
        }
      ]
    },
    {
      "cell_type": "markdown",
      "metadata": {
        "id": "fHyBMaYFirnN",
        "colab_type": "text"
      },
      "source": [
        "##Binary classification of whether an MLB enters Playoffs (Wildcard Era)"
      ]
    },
    {
      "cell_type": "code",
      "metadata": {
        "id": "4HMMVXYzaHC1",
        "colab_type": "code",
        "colab": {
          "base_uri": "https://localhost:8080/",
          "height": 252
        },
        "outputId": "82150589-9af6-42a5-ddfd-80762d4c2452"
      },
      "source": [
        "##Get the features of interest\n",
        "x_features = [ 'RS', 'RA', 'W', 'OBP', 'SLG', 'BA' ]\n",
        "##Binary value of whether a team made it to the playofss\n",
        "y_output = [ 'Playoffs' ]\n",
        "\n",
        "##Only get the data from teams after 1994 when the wildcard was introduced\n",
        "##Prior to the wildcard game, only four or two teams made it to playoffs instead of 8\n",
        "work_data = data[ data['Year'] > 1994 ]\n",
        "work_data = work_data[ x_features + y_output ]\n",
        "print(work_data)"
      ],
      "execution_count": 55,
      "outputs": [
        {
          "output_type": "stream",
          "text": [
            "      RS   RA   W    OBP    SLG     BA  Playoffs\n",
            "0    734  688  81  0.328  0.418  0.259         0\n",
            "1    700  600  94  0.320  0.389  0.247         1\n",
            "2    712  705  93  0.311  0.417  0.247         1\n",
            "3    734  806  69  0.315  0.415  0.260         0\n",
            "4    613  759  61  0.302  0.378  0.240         0\n",
            "..   ...  ...  ..    ...    ...    ...       ...\n",
            "501  993  895  85  0.366  0.484  0.287         0\n",
            "502  752  862  68  0.331  0.388  0.253         0\n",
            "503  759  706  88  0.330  0.407  0.267         1\n",
            "504  928  799  90  0.358  0.469  0.284         1\n",
            "505  766  809  74  0.331  0.420  0.259         0\n",
            "\n",
            "[506 rows x 7 columns]\n"
          ],
          "name": "stdout"
        }
      ]
    },
    {
      "cell_type": "code",
      "metadata": {
        "id": "LXf9yDAravGR",
        "colab_type": "code",
        "colab": {}
      },
      "source": [
        "##Convert the working data into numpy array\n",
        "import numpy as np\n",
        "work_data = work_data.to_numpy().astype(np.float64)"
      ],
      "execution_count": 56,
      "outputs": []
    },
    {
      "cell_type": "code",
      "metadata": {
        "id": "r14b1f2Nb0Jw",
        "colab_type": "code",
        "colab": {}
      },
      "source": [
        "X = work_data[:, :-1]\n",
        "Y = work_data[:, -1]"
      ],
      "execution_count": 57,
      "outputs": []
    },
    {
      "cell_type": "markdown",
      "metadata": {
        "id": "4nCug0Eq8av-",
        "colab_type": "text"
      },
      "source": [
        "Standardization"
      ]
    },
    {
      "cell_type": "code",
      "metadata": {
        "id": "7s9yMkxzck0K",
        "colab_type": "code",
        "colab": {}
      },
      "source": [
        "##Standardization\n",
        "mean = X.mean(axis = 0)\n",
        "X -= mean\n",
        "std = X.std(axis = 0)\n",
        "X /= std"
      ],
      "execution_count": 58,
      "outputs": []
    },
    {
      "cell_type": "markdown",
      "metadata": {
        "id": "3HTzgqz58Uyk",
        "colab_type": "text"
      },
      "source": [
        "Determine Baseline Accuracy"
      ]
    },
    {
      "cell_type": "code",
      "metadata": {
        "id": "hTYNlIJe8c-p",
        "colab_type": "code",
        "colab": {
          "base_uri": "https://localhost:8080/",
          "height": 34
        },
        "outputId": "9d8c82ed-8689-4137-a589-77dadf9157cb"
      },
      "source": [
        "##Baseline Accuracy will favor that non-playoff teams as only 8 teams enter per season\n",
        "print(f'Baseline Accuracy: {Y.sum()/len(Y):2f}')"
      ],
      "execution_count": 59,
      "outputs": [
        {
          "output_type": "stream",
          "text": [
            "Baseline Accuracy: 0.272727\n"
          ],
          "name": "stdout"
        }
      ]
    },
    {
      "cell_type": "markdown",
      "metadata": {
        "id": "Ps041u7hQ-BU",
        "colab_type": "text"
      },
      "source": [
        "The baseline accuracy is low as it favors classifying a team as a non-playoff team.  This is due to only 8 teams entering the playoffs from 1994 to 2011 and 10 teams entering in 2012 with the introduction of the second wildcard per league.  Data is not balanced as only a fraction of the 30 teams become playoff contenders."
      ]
    },
    {
      "cell_type": "markdown",
      "metadata": {
        "id": "ICWL6gclibSd",
        "colab_type": "text"
      },
      "source": [
        "##Build a Neural Network "
      ]
    },
    {
      "cell_type": "code",
      "metadata": {
        "id": "1QHzrzmsi2SG",
        "colab_type": "code",
        "colab": {
          "base_uri": "https://localhost:8080/",
          "height": 252
        },
        "outputId": "afcee44d-529c-4421-b427-4ed71452bf03"
      },
      "source": [
        "from tensorflow.keras.models import Sequential\n",
        "from tensorflow.keras.layers import Dense\n",
        "\n",
        "model = Sequential()\n",
        "model.add(Dense( 12, input_dim=len(X[0,:]), activation='relu'))\n",
        "model.add(Dense( 4, activation='relu'))\n",
        "model.add(Dense( 1, activation='sigmoid'))\n",
        "model.summary()"
      ],
      "execution_count": 60,
      "outputs": [
        {
          "output_type": "stream",
          "text": [
            "Model: \"sequential_6\"\n",
            "_________________________________________________________________\n",
            "Layer (type)                 Output Shape              Param #   \n",
            "=================================================================\n",
            "dense_12 (Dense)             (None, 12)                84        \n",
            "_________________________________________________________________\n",
            "dense_13 (Dense)             (None, 4)                 52        \n",
            "_________________________________________________________________\n",
            "dense_14 (Dense)             (None, 1)                 5         \n",
            "=================================================================\n",
            "Total params: 141\n",
            "Trainable params: 141\n",
            "Non-trainable params: 0\n",
            "_________________________________________________________________\n"
          ],
          "name": "stdout"
        }
      ]
    },
    {
      "cell_type": "code",
      "metadata": {
        "id": "WM_Ux8gbjZjm",
        "colab_type": "code",
        "colab": {
          "base_uri": "https://localhost:8080/",
          "height": 422
        },
        "outputId": "b53be161-0cd9-4855-e175-46c7271f1560"
      },
      "source": [
        "from tensorflow.keras.utils import plot_model\n",
        "plot_model(model, show_layer_names=True, show_shapes=True)"
      ],
      "execution_count": 61,
      "outputs": [
        {
          "output_type": "execute_result",
          "data": {
            "image/png": "[encoded data removed]",
            "text/plain": [
              "<IPython.core.display.Image object>"
            ]
          },
          "metadata": {
            "tags": []
          },
          "execution_count": 61
        }
      ]
    },
    {
      "cell_type": "code",
      "metadata": {
        "id": "ESLWksh8jy18",
        "colab_type": "code",
        "colab": {
          "base_uri": "https://localhost:8080/",
          "height": 34
        },
        "outputId": "6abfa9b8-fd0c-493d-af89-b966360f0093"
      },
      "source": [
        "model.compile(loss='binary_crossentropy', optimizer='rmsprop', metrics=['accuracy'])\n",
        "model.fit(X, Y, epochs = 512, verbose=0)"
      ],
      "execution_count": 62,
      "outputs": [
        {
          "output_type": "execute_result",
          "data": {
            "text/plain": [
              "<tensorflow.python.keras.callbacks.History at 0x7f3d39294a90>"
            ]
          },
          "metadata": {
            "tags": []
          },
          "execution_count": 62
        }
      ]
    },
    {
      "cell_type": "markdown",
      "metadata": {
        "id": "OejX-IoZHGLh",
        "colab_type": "text"
      },
      "source": [
        "Evaluate Validation Set (Most Recent Teams Playoffs)"
      ]
    },
    {
      "cell_type": "code",
      "metadata": {
        "id": "IuRlwj-nkdal",
        "colab_type": "code",
        "colab": {
          "base_uri": "https://localhost:8080/",
          "height": 538
        },
        "outputId": "5b465349-6bb9-4b87-ce33-eb448fbf5cbc"
      },
      "source": [
        "##Get the preditions for the most current year in the data for 30 teams\n",
        "nn_prediction = model.predict(X)\n",
        "print(f'{\"Val\":^8s}  {\"Pred\":^8s}')\n",
        "for i in range(30):\n",
        "  print(f'{Y[i]:2f}  {nn_prediction[i].T[0]:2f}')"
      ],
      "execution_count": 63,
      "outputs": [
        {
          "output_type": "stream",
          "text": [
            "  Val       Pred  \n",
            "0.000000  0.001861\n",
            "1.000000  0.993778\n",
            "1.000000  0.996256\n",
            "0.000000  0.000000\n",
            "0.000000  0.000000\n",
            "0.000000  0.000303\n",
            "1.000000  0.999691\n",
            "0.000000  0.000000\n",
            "0.000000  0.000000\n",
            "1.000000  0.730436\n",
            "0.000000  0.000000\n",
            "0.000000  0.000001\n",
            "0.000000  0.105333\n",
            "0.000000  0.104991\n",
            "0.000000  0.000000\n",
            "0.000000  0.000091\n",
            "0.000000  0.000000\n",
            "0.000000  0.000001\n",
            "1.000000  0.990217\n",
            "1.000000  0.995680\n",
            "0.000000  0.000124\n",
            "0.000000  0.000000\n",
            "0.000000  0.000008\n",
            "0.000000  0.000000\n",
            "1.000000  0.975729\n",
            "1.000000  0.374620\n",
            "0.000000  0.024453\n",
            "1.000000  0.678437\n",
            "0.000000  0.000000\n",
            "1.000000  0.999412\n"
          ],
          "name": "stdout"
        }
      ]
    },
    {
      "cell_type": "markdown",
      "metadata": {
        "id": "KG-IAgudSqzU",
        "colab_type": "text"
      },
      "source": [
        "The model's predictions on the most recent year yield one misclassification.  The misclassification can be due the most recent season containing 10 playoff teams or an be an outlier in that its the best team within a poor performing division."
      ]
    },
    {
      "cell_type": "markdown",
      "metadata": {
        "id": "ANTX40HpDr9A",
        "colab_type": "text"
      },
      "source": [
        "Evaluate Model Performance"
      ]
    },
    {
      "cell_type": "code",
      "metadata": {
        "id": "XqSivgQIDmTX",
        "colab_type": "code",
        "colab": {
          "base_uri": "https://localhost:8080/",
          "height": 84
        },
        "outputId": "2c129d42-3ed4-4bab-8622-9dfd616839e0"
      },
      "source": [
        "from sklearn.metrics import accuracy_score, precision_score, recall_score, f1_score\n",
        "nn_metrics = { 'accuracy': accuracy_score(Y, nn_prediction.round()),\n",
        "              'precision': precision_score(Y, nn_prediction.round()),\n",
        "              'recall': recall_score(Y, nn_prediction.round()),\n",
        "              'f1_score': f1_score(Y, nn_prediction.round())\n",
        "              }\n",
        "\n",
        "for k in sorted(nn_metrics.keys()):\n",
        "  print(f'{k:16s} {nn_metrics[k]:2f}')"
      ],
      "execution_count": 64,
      "outputs": [
        {
          "output_type": "stream",
          "text": [
            "accuracy         0.958498\n",
            "f1_score         0.923077\n",
            "precision        0.933333\n",
            "recall           0.913043\n"
          ],
          "name": "stdout"
        }
      ]
    },
    {
      "cell_type": "markdown",
      "metadata": {
        "id": "WBbVhDlOT-Va",
        "colab_type": "text"
      },
      "source": [
        "The neural network yields an accuracy of 0.95 which is greater than baseline accuracy of 0.27 for playoff teams or 0.83 for non-playoff teams.  The model has a precision of 0.93 indicating that 0.93 of the predictions marked as playoff teams were correct.  The recall value of 0.91 indicates that the model was capable of classifying 0.91 of the actual playoff teams correctly.\n",
        "\n",
        "\n"
      ]
    },
    {
      "cell_type": "markdown",
      "metadata": {
        "id": "VWHpDb0XGv0F",
        "colab_type": "text"
      },
      "source": [
        "##Build Logistic Regrssion Model"
      ]
    },
    {
      "cell_type": "code",
      "metadata": {
        "id": "XTup4oKkcQZy",
        "colab_type": "code",
        "colab": {
          "base_uri": "https://localhost:8080/",
          "height": 34
        },
        "outputId": "99edbc91-fe9b-4eb7-b632-78bb0f57c837"
      },
      "source": [
        "from tensorflow.keras.models import Sequential\n",
        "from tensorflow.keras.layers import Dense\n",
        "\n",
        "model = Sequential()\n",
        "model.add(Dense(1, input_dim = len(X[0, :]), activation='sigmoid'))\n",
        "model.compile(loss='binary_crossentropy', optimizer = 'rmsprop', metrics=['accuracy'])\n",
        "model.fit(X, Y, epochs = 512, verbose = 0)"
      ],
      "execution_count": 65,
      "outputs": [
        {
          "output_type": "execute_result",
          "data": {
            "text/plain": [
              "<tensorflow.python.keras.callbacks.History at 0x7f3d3823eac8>"
            ]
          },
          "metadata": {
            "tags": []
          },
          "execution_count": 65
        }
      ]
    },
    {
      "cell_type": "code",
      "metadata": {
        "id": "xoOXHISwcaNd",
        "colab_type": "code",
        "colab": {
          "base_uri": "https://localhost:8080/",
          "height": 538
        },
        "outputId": "06b9137e-de4d-4bba-efd8-55a240ced9d4"
      },
      "source": [
        "##Get the preditions for the most current year in the data for 30 teams\n",
        "log_prediction = model.predict(X)\n",
        "print(f'{\"Val\":^8s}  {\"Pred\":^8s}')\n",
        "for i in range(30):\n",
        "  print(f'{Y[i]:2f}  {log_prediction[i].T[0]:2f}')"
      ],
      "execution_count": 66,
      "outputs": [
        {
          "output_type": "stream",
          "text": [
            "  Val       Pred  \n",
            "0.000000  0.061491\n",
            "1.000000  0.828749\n",
            "1.000000  0.545566\n",
            "0.000000  0.000307\n",
            "0.000000  0.000019\n",
            "0.000000  0.152810\n",
            "1.000000  0.917209\n",
            "0.000000  0.000187\n",
            "0.000000  0.000060\n",
            "1.000000  0.432653\n",
            "0.000000  0.000002\n",
            "0.000000  0.001003\n",
            "0.000000  0.426021\n",
            "0.000000  0.206269\n",
            "0.000000  0.000363\n",
            "0.000000  0.083252\n",
            "0.000000  0.000116\n",
            "0.000000  0.002830\n",
            "1.000000  0.922497\n",
            "1.000000  0.790638\n",
            "0.000000  0.033965\n",
            "0.000000  0.012370\n",
            "0.000000  0.005862\n",
            "0.000000  0.002796\n",
            "1.000000  0.755246\n",
            "1.000000  0.520917\n",
            "0.000000  0.645784\n",
            "1.000000  0.762634\n",
            "0.000000  0.001164\n",
            "1.000000  0.955360\n"
          ],
          "name": "stdout"
        }
      ]
    },
    {
      "cell_type": "markdown",
      "metadata": {
        "id": "xmLw59byUb7G",
        "colab_type": "text"
      },
      "source": [
        "The model's predictions on the most recent year yield two misclassifications."
      ]
    },
    {
      "cell_type": "code",
      "metadata": {
        "id": "xcw8guG_HR3N",
        "colab_type": "code",
        "colab": {
          "base_uri": "https://localhost:8080/",
          "height": 84
        },
        "outputId": "9a2b265f-1578-48c4-9940-f283bb4f334d"
      },
      "source": [
        "from sklearn.metrics import accuracy_score, precision_score, recall_score, f1_score\n",
        "log_metrics = { 'accuracy': accuracy_score(Y, log_prediction.round()),\n",
        "              'precision': precision_score(Y, log_prediction.round()),\n",
        "              'recall': recall_score(Y, log_prediction.round()),\n",
        "              'f1_score': f1_score(Y, log_prediction.round())\n",
        "              }\n",
        "              \n",
        "for k in sorted(log_metrics.keys()):\n",
        "  print(f'{k:16s} {log_metrics[k]:2f}')"
      ],
      "execution_count": 67,
      "outputs": [
        {
          "output_type": "stream",
          "text": [
            "accuracy         0.922925\n",
            "f1_score         0.856089\n",
            "precision        0.872180\n",
            "recall           0.840580\n"
          ],
          "name": "stdout"
        }
      ]
    },
    {
      "cell_type": "markdown",
      "metadata": {
        "id": "nWR2z0iGVPK5",
        "colab_type": "text"
      },
      "source": [
        "The neural network yields an accuracy of 0.92 which is greater than baseline accuracy of 0.27 for playoff teams or 0.83 for non-playoff teams.  The precision is 0.87 indicating that only 0.87 of the teams marked as playoff teams are true playoff teams.  The recall value of 0.84 indicates that the model can only correctly identify 0.84 of the playoff teams.\n",
        "\n",
        "\n"
      ]
    },
    {
      "cell_type": "markdown",
      "metadata": {
        "id": "UntU6Cj9-VAK",
        "colab_type": "text"
      },
      "source": [
        "##Evaluate Performance of Neural Network vs Logistic Regression"
      ]
    },
    {
      "cell_type": "code",
      "metadata": {
        "id": "QgN6pkw_F2vL",
        "colab_type": "code",
        "colab": {
          "base_uri": "https://localhost:8080/",
          "height": 538
        },
        "outputId": "f7a4a7ef-8d5a-479b-9999-04d4fa4d6bbb"
      },
      "source": [
        "##Compare the validation results\n",
        "print(f'{\"Val\":^8s} {\"NN\":^8s} {\"Log\":^8s}')\n",
        "for i in range(30):\n",
        "  print(f'{Y[i]:2f} {nn_prediction[i].T[0]:2f} {log_prediction[i].T[0]:2f}')"
      ],
      "execution_count": 68,
      "outputs": [
        {
          "output_type": "stream",
          "text": [
            "  Val       NN      Log   \n",
            "0.000000 0.001861 0.061491\n",
            "1.000000 0.993778 0.828749\n",
            "1.000000 0.996256 0.545566\n",
            "0.000000 0.000000 0.000307\n",
            "0.000000 0.000000 0.000019\n",
            "0.000000 0.000303 0.152810\n",
            "1.000000 0.999691 0.917209\n",
            "0.000000 0.000000 0.000187\n",
            "0.000000 0.000000 0.000060\n",
            "1.000000 0.730436 0.432653\n",
            "0.000000 0.000000 0.000002\n",
            "0.000000 0.000001 0.001003\n",
            "0.000000 0.105333 0.426021\n",
            "0.000000 0.104991 0.206269\n",
            "0.000000 0.000000 0.000363\n",
            "0.000000 0.000091 0.083252\n",
            "0.000000 0.000000 0.000116\n",
            "0.000000 0.000001 0.002830\n",
            "1.000000 0.990217 0.922497\n",
            "1.000000 0.995680 0.790638\n",
            "0.000000 0.000124 0.033965\n",
            "0.000000 0.000000 0.012370\n",
            "0.000000 0.000008 0.005862\n",
            "0.000000 0.000000 0.002796\n",
            "1.000000 0.975729 0.755246\n",
            "1.000000 0.374620 0.520917\n",
            "0.000000 0.024453 0.645784\n",
            "1.000000 0.678437 0.762634\n",
            "0.000000 0.000000 0.001164\n",
            "1.000000 0.999412 0.955360\n"
          ],
          "name": "stdout"
        }
      ]
    },
    {
      "cell_type": "markdown",
      "metadata": {
        "id": "X0wIfpm5V7RR",
        "colab_type": "text"
      },
      "source": [
        "The neural network was capable of predicting more teams as a playoff team than those of the logistic model.  The comparisons of the predictions indicate not only that the neural network classified them correctly, but also that the neural network is more confident in the classifications with the exception of a few outliers.  There is one team that neither the neural network nor the logistic model confidently predicts as a playoff team suggesting that the team is an outlier."
      ]
    },
    {
      "cell_type": "code",
      "metadata": {
        "id": "mjuWDNX--apF",
        "colab_type": "code",
        "colab": {
          "base_uri": "https://localhost:8080/",
          "height": 101
        },
        "outputId": "30ddfdca-445a-4318-91e1-97e002ba586c"
      },
      "source": [
        "##Baseline Accuracy will favor that non-playoff teams as only 8 teams enter per season\n",
        "print(f'Baseline Accuracy: {Y.sum()/len(Y):2f}')\n",
        "\n",
        "##Display the metrics of interest\n",
        "for k in sorted(nn_metrics.keys()):\n",
        "  print(f'{\"NN \" + k:16s} {nn_metrics[k]:2f} {\"Log \" + k:16s} {log_metrics[k]:2f}')"
      ],
      "execution_count": 69,
      "outputs": [
        {
          "output_type": "stream",
          "text": [
            "Baseline Accuracy: 0.272727\n",
            "NN accuracy      0.958498 Log accuracy     0.922925\n",
            "NN f1_score      0.923077 Log f1_score     0.856089\n",
            "NN precision     0.933333 Log precision    0.872180\n",
            "NN recall        0.913043 Log recall       0.840580\n"
          ],
          "name": "stdout"
        }
      ]
    },
    {
      "cell_type": "markdown",
      "metadata": {
        "id": "sdue0ZqbXH5E",
        "colab_type": "text"
      },
      "source": [
        "The neural network outperformed the logistic model in terms of accuracy, f1 score, precision, and recall.  Both models exceeded baseline accuracy.  The neural network especially exceeds in terms of precision and recall.  The neural network network predictions are more reliable as its precision is 0.93 compared to that of the logistic model with value 0.87.  The predictions from the neural network are more likely to be true than those of the logistic model.  The neural network is also capable of identifying the true playoff teams than those of the logistic model with the neural network being able to identify 0.91 compared to the 0.84 of the logistic model. "
      ]
    }
  ]
}