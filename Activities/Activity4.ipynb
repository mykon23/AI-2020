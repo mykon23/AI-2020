{
  "nbformat": 4,
  "nbformat_minor": 0,
  "metadata": {
    "colab": {
      "name": "Activity4.ipynb",
      "provenance": [],
      "authorship_tag": "ABX9TyMVsJ5PL4WWt+729/p9NEnM",
      "include_colab_link": true
    },
    "kernelspec": {
      "name": "python3",
      "display_name": "Python 3"
    }
  },
  "cells": [
    {
      "cell_type": "markdown",
      "metadata": {
        "id": "view-in-github",
        "colab_type": "text"
      },
      "source": [
        "<a href=\"https://colab.research.google.com/github/mykon23/AI-2020/blob/master/Activities/Activity4.ipynb\" target=\"_parent\"><img src=\"https://colab.research.google.com/assets/colab-badge.svg\" alt=\"Open In Colab\"/></a>"
      ]
    },
    {
      "cell_type": "markdown",
      "metadata": {
        "id": "0YII6tkS4PtD",
        "colab_type": "text"
      },
      "source": [
        "#Univariate Linear Regression  "
      ]
    },
    {
      "cell_type": "code",
      "metadata": {
        "id": "IZKpm8rJ4Jvf",
        "colab_type": "code",
        "colab": {
          "base_uri": "https://localhost:8080/",
          "height": 353
        },
        "outputId": "e370a2c6-5af5-4172-bb40-40ba2f0402f0"
      },
      "source": [
        "!wget -O Pokemon.csv https://github.com/mykon23/AI-2020/blob/master/Data/Pokemon.csv?raw=True"
      ],
      "execution_count": 430,
      "outputs": [
        {
          "output_type": "stream",
          "text": [
            "--2020-09-12 04:00:53--  https://github.com/mykon23/AI-2020/blob/master/Data/Pokemon.csv?raw=True\n",
            "Resolving github.com (github.com)... 192.30.255.112\n",
            "Connecting to github.com (github.com)|192.30.255.112|:443... connected.\n",
            "HTTP request sent, awaiting response... 302 Found\n",
            "Location: https://github.com/mykon23/AI-2020/raw/master/Data/Pokemon.csv [following]\n",
            "--2020-09-12 04:00:53--  https://github.com/mykon23/AI-2020/raw/master/Data/Pokemon.csv\n",
            "Reusing existing connection to github.com:443.\n",
            "HTTP request sent, awaiting response... 302 Found\n",
            "Location: https://raw.githubusercontent.com/mykon23/AI-2020/master/Data/Pokemon.csv [following]\n",
            "--2020-09-12 04:00:53--  https://raw.githubusercontent.com/mykon23/AI-2020/master/Data/Pokemon.csv\n",
            "Resolving raw.githubusercontent.com (raw.githubusercontent.com)... 151.101.0.133, 151.101.64.133, 151.101.128.133, ...\n",
            "Connecting to raw.githubusercontent.com (raw.githubusercontent.com)|151.101.0.133|:443... connected.\n",
            "HTTP request sent, awaiting response... 200 OK\n",
            "Length: 44028 (43K) [text/plain]\n",
            "Saving to: ‘Pokemon.csv’\n",
            "\n",
            "\rPokemon.csv           0%[                    ]       0  --.-KB/s               \rPokemon.csv         100%[===================>]  43.00K  --.-KB/s    in 0.01s   \n",
            "\n",
            "2020-09-12 04:00:53 (3.10 MB/s) - ‘Pokemon.csv’ saved [44028/44028]\n",
            "\n"
          ],
          "name": "stdout"
        }
      ]
    },
    {
      "cell_type": "code",
      "metadata": {
        "id": "kFJymG_t5BQW",
        "colab_type": "code",
        "colab": {
          "base_uri": "https://localhost:8080/",
          "height": 195
        },
        "outputId": "209b1420-d9a8-44f6-e562-dc1c732c7a3c"
      },
      "source": [
        "import pandas as pd\n",
        "pokemon_data = pd.read_csv('Pokemon.csv')\n",
        "pokemon_data.head()"
      ],
      "execution_count": 431,
      "outputs": [
        {
          "output_type": "execute_result",
          "data": {
            "text/html": [
              "<div>\n",
              "<style scoped>\n",
              "    .dataframe tbody tr th:only-of-type {\n",
              "        vertical-align: middle;\n",
              "    }\n",
              "\n",
              "    .dataframe tbody tr th {\n",
              "        vertical-align: top;\n",
              "    }\n",
              "\n",
              "    .dataframe thead th {\n",
              "        text-align: right;\n",
              "    }\n",
              "</style>\n",
              "<table border=\"1\" class=\"dataframe\">\n",
              "  <thead>\n",
              "    <tr style=\"text-align: right;\">\n",
              "      <th></th>\n",
              "      <th>#</th>\n",
              "      <th>Name</th>\n",
              "      <th>Type 1</th>\n",
              "      <th>Type 2</th>\n",
              "      <th>Total</th>\n",
              "      <th>HP</th>\n",
              "      <th>Attack</th>\n",
              "      <th>Defense</th>\n",
              "      <th>Sp. Atk</th>\n",
              "      <th>Sp. Def</th>\n",
              "      <th>Speed</th>\n",
              "      <th>Generation</th>\n",
              "      <th>Legendary</th>\n",
              "    </tr>\n",
              "  </thead>\n",
              "  <tbody>\n",
              "    <tr>\n",
              "      <th>0</th>\n",
              "      <td>1</td>\n",
              "      <td>Bulbasaur</td>\n",
              "      <td>Grass</td>\n",
              "      <td>Poison</td>\n",
              "      <td>318</td>\n",
              "      <td>45</td>\n",
              "      <td>49</td>\n",
              "      <td>49</td>\n",
              "      <td>65</td>\n",
              "      <td>65</td>\n",
              "      <td>45</td>\n",
              "      <td>1</td>\n",
              "      <td>False</td>\n",
              "    </tr>\n",
              "    <tr>\n",
              "      <th>1</th>\n",
              "      <td>2</td>\n",
              "      <td>Ivysaur</td>\n",
              "      <td>Grass</td>\n",
              "      <td>Poison</td>\n",
              "      <td>405</td>\n",
              "      <td>60</td>\n",
              "      <td>62</td>\n",
              "      <td>63</td>\n",
              "      <td>80</td>\n",
              "      <td>80</td>\n",
              "      <td>60</td>\n",
              "      <td>1</td>\n",
              "      <td>False</td>\n",
              "    </tr>\n",
              "    <tr>\n",
              "      <th>2</th>\n",
              "      <td>3</td>\n",
              "      <td>Venusaur</td>\n",
              "      <td>Grass</td>\n",
              "      <td>Poison</td>\n",
              "      <td>525</td>\n",
              "      <td>80</td>\n",
              "      <td>82</td>\n",
              "      <td>83</td>\n",
              "      <td>100</td>\n",
              "      <td>100</td>\n",
              "      <td>80</td>\n",
              "      <td>1</td>\n",
              "      <td>False</td>\n",
              "    </tr>\n",
              "    <tr>\n",
              "      <th>3</th>\n",
              "      <td>3</td>\n",
              "      <td>VenusaurMega Venusaur</td>\n",
              "      <td>Grass</td>\n",
              "      <td>Poison</td>\n",
              "      <td>625</td>\n",
              "      <td>80</td>\n",
              "      <td>100</td>\n",
              "      <td>123</td>\n",
              "      <td>122</td>\n",
              "      <td>120</td>\n",
              "      <td>80</td>\n",
              "      <td>1</td>\n",
              "      <td>False</td>\n",
              "    </tr>\n",
              "    <tr>\n",
              "      <th>4</th>\n",
              "      <td>4</td>\n",
              "      <td>Charmander</td>\n",
              "      <td>Fire</td>\n",
              "      <td>NaN</td>\n",
              "      <td>309</td>\n",
              "      <td>39</td>\n",
              "      <td>52</td>\n",
              "      <td>43</td>\n",
              "      <td>60</td>\n",
              "      <td>50</td>\n",
              "      <td>65</td>\n",
              "      <td>1</td>\n",
              "      <td>False</td>\n",
              "    </tr>\n",
              "  </tbody>\n",
              "</table>\n",
              "</div>"
            ],
            "text/plain": [
              "   #                   Name Type 1  ... Speed  Generation  Legendary\n",
              "0  1              Bulbasaur  Grass  ...    45           1      False\n",
              "1  2                Ivysaur  Grass  ...    60           1      False\n",
              "2  3               Venusaur  Grass  ...    80           1      False\n",
              "3  3  VenusaurMega Venusaur  Grass  ...    80           1      False\n",
              "4  4             Charmander   Fire  ...    65           1      False\n",
              "\n",
              "[5 rows x 13 columns]"
            ]
          },
          "metadata": {
            "tags": []
          },
          "execution_count": 431
        }
      ]
    },
    {
      "cell_type": "code",
      "metadata": {
        "id": "u4Mlp7yP5Q3d",
        "colab_type": "code",
        "colab": {}
      },
      "source": [
        "## Only acquire the stats of the Pokemon\n",
        "stats = { 'x': 'Speed', 'y': 'HP' }\n",
        "x_col = pokemon_data.columns.to_list().index( stats['x'] )\n",
        "y_col = pokemon_data.columns.to_list().index( stats['y'] )"
      ],
      "execution_count": 432,
      "outputs": []
    },
    {
      "cell_type": "code",
      "metadata": {
        "id": "YnvUlKHP7Jx5",
        "colab_type": "code",
        "colab": {
          "base_uri": "https://localhost:8080/",
          "height": 118
        },
        "outputId": "e419b326-908f-4e3c-cfa4-b855a7cceb1c"
      },
      "source": [
        "import numpy as np\n",
        "dataset = np.loadtxt('Pokemon.csv', delimiter=',', usecols = (x_col, y_col) )\n",
        "\n",
        "print(dataset.shape)\n",
        "print(dataset[0:5])"
      ],
      "execution_count": 433,
      "outputs": [
        {
          "output_type": "stream",
          "text": [
            "(800, 2)\n",
            "[[45. 45.]\n",
            " [60. 60.]\n",
            " [80. 80.]\n",
            " [80. 80.]\n",
            " [65. 39.]]\n"
          ],
          "name": "stdout"
        }
      ]
    },
    {
      "cell_type": "code",
      "metadata": {
        "id": "WEmw0w5iTxGN",
        "colab_type": "code",
        "colab": {}
      },
      "source": [
        "X = dataset[:,0]\n",
        "Y = dataset[:,1]"
      ],
      "execution_count": 434,
      "outputs": []
    },
    {
      "cell_type": "code",
      "metadata": {
        "id": "vmAplF__8Xhs",
        "colab_type": "code",
        "colab": {
          "base_uri": "https://localhost:8080/",
          "height": 279
        },
        "outputId": "39a05dcb-cb84-49ff-e93d-744077f2ebb4"
      },
      "source": [
        "import matplotlib.pyplot as plt\n",
        "\n",
        "##Print the un-normalized data\n",
        "\n",
        "plt.figure(figsize=(4,4))\n",
        "plt.scatter(X, Y)\n",
        "plt.xlabel(stats['x'])\n",
        "plt.ylabel(stats['y'])\n",
        "plt.show()"
      ],
      "execution_count": 435,
      "outputs": [
        {
          "output_type": "display_data",
          "data": {
            "image/png": "[encoded data removed]",
            "text/plain": [
              "<Figure size 288x288 with 1 Axes>"
            ]
          },
          "metadata": {
            "tags": [],
            "needs_background": "light"
          }
        }
      ]
    },
    {
      "cell_type": "code",
      "metadata": {
        "id": "JCB6lBbO8qt8",
        "colab_type": "code",
        "colab": {}
      },
      "source": [
        "from tensorflow.keras.models import Sequential\n",
        "from tensorflow.keras.layers import Dense\n",
        "\n",
        "model = Sequential()\n",
        "model.add(Dense(1, input_dim = 1, activation='linear'))"
      ],
      "execution_count": 436,
      "outputs": []
    },
    {
      "cell_type": "code",
      "metadata": {
        "id": "ijYOcMjs8-7x",
        "colab_type": "code",
        "colab": {
          "base_uri": "https://localhost:8080/",
          "height": 34
        },
        "outputId": "a81988ec-5fd5-4bf4-ebeb-281395a82d25"
      },
      "source": [
        "model.compile(loss='mse', optimizer = 'rmsprop', metrics=['mse'])\n",
        "model.fit( X, Y, epochs = 256, verbose = 0)"
      ],
      "execution_count": 437,
      "outputs": [
        {
          "output_type": "execute_result",
          "data": {
            "text/plain": [
              "<tensorflow.python.keras.callbacks.History at 0x7f97079ebf98>"
            ]
          },
          "metadata": {
            "tags": []
          },
          "execution_count": 437
        }
      ]
    },
    {
      "cell_type": "code",
      "metadata": {
        "id": "N3QrOCeD9COb",
        "colab_type": "code",
        "colab": {
          "base_uri": "https://localhost:8080/",
          "height": 67
        },
        "outputId": "66c4fb57-bd17-418b-ac5c-a8d84bc65760"
      },
      "source": [
        "print('Model weights - w0(slope m), bias):')\n",
        "w0 = model.layers[0].get_weights()[0][0]\n",
        "b0 = model.layers[0].get_weights()[1]\n",
        "print(w0)\n",
        "print(b0)"
      ],
      "execution_count": 438,
      "outputs": [
        {
          "output_type": "stream",
          "text": [
            "Model weights - w0(slope m), bias):\n",
            "[0.8200873]\n",
            "[5.1846485]\n"
          ],
          "name": "stdout"
        }
      ]
    },
    {
      "cell_type": "code",
      "metadata": {
        "id": "VRKNn4-49Glb",
        "colab_type": "code",
        "colab": {
          "base_uri": "https://localhost:8080/",
          "height": 279
        },
        "outputId": "bd2b37e4-716f-409c-8896-9895ef34c132"
      },
      "source": [
        "plt.figure(figsize=(4,4))\n",
        "plt.scatter(X, Y)\n",
        "plt.plot(X, b0 + w0 * X, '-', color = 'red')\n",
        "plt.xlabel(stats['x'])\n",
        "plt.ylabel(stats['y'])\n",
        "plt.show()"
      ],
      "execution_count": 439,
      "outputs": [
        {
          "output_type": "display_data",
          "data": {
            "image/png": "[encoded data removed]",
            "text/plain": [
              "<Figure size 288x288 with 1 Axes>"
            ]
          },
          "metadata": {
            "tags": [],
            "needs_background": "light"
          }
        }
      ]
    },
    {
      "cell_type": "markdown",
      "metadata": {
        "id": "5XjxT_uUUiAQ",
        "colab_type": "text"
      },
      "source": [
        "# Univariate Linear Regression with Normalization"
      ]
    },
    {
      "cell_type": "code",
      "metadata": {
        "id": "XGwqvSzvU4qM",
        "colab_type": "code",
        "colab": {}
      },
      "source": [
        "# Min-max normalization\n",
        "min = X.min(axis = 0) \n",
        "max = X.max(axis = 0) \n",
        "X = (X - min) / (max - min)"
      ],
      "execution_count": 440,
      "outputs": []
    },
    {
      "cell_type": "code",
      "metadata": {
        "id": "MdXX1JP2VNoi",
        "colab_type": "code",
        "colab": {
          "base_uri": "https://localhost:8080/",
          "height": 279
        },
        "outputId": "b8151e48-45eb-46aa-bd83-43faf47acdd5"
      },
      "source": [
        "## Plot normalized data points\n",
        "\n",
        "plt.figure(figsize=(4,4))\n",
        "plt.scatter(X, Y)\n",
        "plt.xlabel(stats['x'])\n",
        "plt.ylabel(stats['y'])\n",
        "plt.show()"
      ],
      "execution_count": 441,
      "outputs": [
        {
          "output_type": "display_data",
          "data": {
            "image/png": "[encoded data removed]",
            "text/plain": [
              "<Figure size 288x288 with 1 Axes>"
            ]
          },
          "metadata": {
            "tags": [],
            "needs_background": "light"
          }
        }
      ]
    },
    {
      "cell_type": "code",
      "metadata": {
        "id": "7VR_uZTOVqFD",
        "colab_type": "code",
        "colab": {}
      },
      "source": [
        "from tensorflow.keras.models import Sequential\n",
        "from tensorflow.keras.layers import Dense\n",
        "\n",
        "model = Sequential()\n",
        "model.add(Dense(1, input_dim = 1, activation='linear'))"
      ],
      "execution_count": 442,
      "outputs": []
    },
    {
      "cell_type": "code",
      "metadata": {
        "id": "18JNMwrgVqyq",
        "colab_type": "code",
        "colab": {
          "base_uri": "https://localhost:8080/",
          "height": 34
        },
        "outputId": "0d339dc6-5a8e-46f4-e3e9-dd0cc13d8fce"
      },
      "source": [
        "model.compile(loss='mse', optimizer = 'rmsprop', metrics=['mse'])\n",
        "model.fit( X, Y, epochs = 1024, verbose = 0)\n",
        "model.fit( X, Y, epochs = 1024, verbose = 0)"
      ],
      "execution_count": 443,
      "outputs": [
        {
          "output_type": "execute_result",
          "data": {
            "text/plain": [
              "<tensorflow.python.keras.callbacks.History at 0x7f9713d554a8>"
            ]
          },
          "metadata": {
            "tags": []
          },
          "execution_count": 443
        }
      ]
    },
    {
      "cell_type": "code",
      "metadata": {
        "id": "OyzCuhLdVwHb",
        "colab_type": "code",
        "colab": {
          "base_uri": "https://localhost:8080/",
          "height": 67
        },
        "outputId": "070c13c4-47a5-41ed-a7ad-6e998b03d4d2"
      },
      "source": [
        "print('Model weights - w0(slope m), bias):')\n",
        "w0 = model.layers[0].get_weights()[0][0]\n",
        "b0 = model.layers[0].get_weights()[1]\n",
        "print(w0)\n",
        "print(b0)"
      ],
      "execution_count": 444,
      "outputs": [
        {
          "output_type": "stream",
          "text": [
            "Model weights - w0(slope m), bias):\n",
            "[48.62038]\n",
            "[48.856304]\n"
          ],
          "name": "stdout"
        }
      ]
    },
    {
      "cell_type": "code",
      "metadata": {
        "id": "HIb1BobtVw9q",
        "colab_type": "code",
        "colab": {
          "base_uri": "https://localhost:8080/",
          "height": 279
        },
        "outputId": "b4befd3f-20f0-41f3-f579-9ec69520c500"
      },
      "source": [
        "plt.figure(figsize=(4,4))\n",
        "plt.scatter(X, Y)\n",
        "plt.plot(X, b0 + w0 * X, '-', color = 'red')\n",
        "plt.xlabel(stats['x'])\n",
        "plt.ylabel(stats['y'])\n",
        "plt.show()"
      ],
      "execution_count": 445,
      "outputs": [
        {
          "output_type": "display_data",
          "data": {
            "image/png": "[encoded data removed]",
            "text/plain": [
              "<Figure size 288x288 with 1 Axes>"
            ]
          },
          "metadata": {
            "tags": [],
            "needs_background": "light"
          }
        }
      ]
    },
    {
      "cell_type": "markdown",
      "metadata": {
        "id": "u3mJppnPdx9t",
        "colab_type": "text"
      },
      "source": [
        "Perhaps More Epochs are needed based on the output of Univariate Regression"
      ]
    }
  ]
}