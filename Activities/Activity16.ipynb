{
  "nbformat": 4,
  "nbformat_minor": 0,
  "metadata": {
    "colab": {
      "name": "Activity16.ipynb",
      "provenance": [],
      "authorship_tag": "ABX9TyNCb4CMfnGrwA299Dfu/ybT",
      "include_colab_link": true
    },
    "kernelspec": {
      "name": "python3",
      "display_name": "Python 3"
    }
  },
  "cells": [
    {
      "cell_type": "markdown",
      "metadata": {
        "id": "view-in-github",
        "colab_type": "text"
      },
      "source": [
        "<a href=\"https://colab.research.google.com/github/mykon23/AI-2020/blob/master/Activities/Activity16.ipynb\" target=\"_parent\"><img src=\"https://colab.research.google.com/assets/colab-badge.svg\" alt=\"Open In Colab\"/></a>"
      ]
    },
    {
      "cell_type": "markdown",
      "metadata": {
        "id": "QfKKC3BxyeEh"
      },
      "source": [
        "##Page Rank Algorithm"
      ]
    },
    {
      "cell_type": "markdown",
      "metadata": {
        "id": "VUAageyLy4J7"
      },
      "source": [
        "Define pages"
      ]
    },
    {
      "cell_type": "code",
      "metadata": {
        "id": "EqKXT3PrybYP"
      },
      "source": [
        "##Pages are structure to have their Page ID and its out links\n",
        "pages = { 'a': {'out': ['b', 'c']},\n",
        "         'b': {'out': ['d']},\n",
        "         'c': {'out': ['a', 'b', 'd']},\n",
        "         'd': {'out': ['c']} }"
      ],
      "execution_count": 1,
      "outputs": []
    },
    {
      "cell_type": "markdown",
      "metadata": {
        "id": "EobXBW7czJJ8"
      },
      "source": [
        "Implement Page Rank Algorithm"
      ]
    },
    {
      "cell_type": "code",
      "metadata": {
        "id": "Lag0rgV6zIf-"
      },
      "source": [
        "def do_page_rank(pages, d):\n",
        "\n",
        "    page_id = pages.keys()\n",
        "\n",
        "    ##Set the in links for each page and initilize rank\n",
        "    page_in = {}\n",
        "    page_rank = {}\n",
        "    for k in page_id:\n",
        "        page_in[k] = [ p for p in page_id if k in pages[p]['out'] ]\n",
        "        page_rank[k] = 1.0\n",
        "\n",
        "    ##Ensure damping factor is bounded\n",
        "    assert(d > 0 and d < 1)\n",
        "    base = ( 1 - d )/len(pages)\n",
        "\n",
        "    ##Set a tolerance for the updates\n",
        "    TOL = 0.000000000001\n",
        "    update = True\n",
        "\n",
        "    ##Perform the Page Rank updates\n",
        "    while update:\n",
        "        for k in page_id:\n",
        "            rank = sum( [ page_rank[p]/len(pages[p]['out']) for p in page_in[k] ] )\n",
        "            rank *= d\n",
        "            rank += base\n",
        "\n",
        "            ##Check whether calculated rank is worthwhile\n",
        "            if abs( rank - page_rank[k] ) < TOL:\n",
        "              update = False\n",
        "              break\n",
        "\n",
        "            page_rank[k] = rank\n",
        "\n",
        "    return page_rank\n"
      ],
      "execution_count": 2,
      "outputs": []
    },
    {
      "cell_type": "code",
      "metadata": {
        "id": "7iwft2F3zRuI"
      },
      "source": [
        "page_rank = do_page_rank(pages, 0.7)"
      ],
      "execution_count": 3,
      "outputs": []
    },
    {
      "cell_type": "code",
      "metadata": {
        "id": "IHE6ZnkgzYW1",
        "outputId": "65d9e081-4ea4-42f3-be5a-9edc2c1e0453",
        "colab": {
          "base_uri": "https://localhost:8080/",
          "height": 166
        }
      },
      "source": [
        "import pandas as pd\n",
        "ranks = pd.DataFrame.from_dict({'PageId': [p for p in page_rank.keys()], 'Rank': [r for r in page_rank.values()] })\n",
        "ranks.sort_values(by = ['Rank'], ascending = False).head()"
      ],
      "execution_count": 4,
      "outputs": [
        {
          "output_type": "execute_result",
          "data": {
            "text/html": [
              "<div>\n",
              "<style scoped>\n",
              "    .dataframe tbody tr th:only-of-type {\n",
              "        vertical-align: middle;\n",
              "    }\n",
              "\n",
              "    .dataframe tbody tr th {\n",
              "        vertical-align: top;\n",
              "    }\n",
              "\n",
              "    .dataframe thead th {\n",
              "        text-align: right;\n",
              "    }\n",
              "</style>\n",
              "<table border=\"1\" class=\"dataframe\">\n",
              "  <thead>\n",
              "    <tr style=\"text-align: right;\">\n",
              "      <th></th>\n",
              "      <th>PageId</th>\n",
              "      <th>Rank</th>\n",
              "    </tr>\n",
              "  </thead>\n",
              "  <tbody>\n",
              "    <tr>\n",
              "      <th>2</th>\n",
              "      <td>c</td>\n",
              "      <td>0.338571</td>\n",
              "    </tr>\n",
              "    <tr>\n",
              "      <th>3</th>\n",
              "      <td>d</td>\n",
              "      <td>0.299530</td>\n",
              "    </tr>\n",
              "    <tr>\n",
              "      <th>1</th>\n",
              "      <td>b</td>\n",
              "      <td>0.207900</td>\n",
              "    </tr>\n",
              "    <tr>\n",
              "      <th>0</th>\n",
              "      <td>a</td>\n",
              "      <td>0.154000</td>\n",
              "    </tr>\n",
              "  </tbody>\n",
              "</table>\n",
              "</div>"
            ],
            "text/plain": [
              "  PageId      Rank\n",
              "2      c  0.338571\n",
              "3      d  0.299530\n",
              "1      b  0.207900\n",
              "0      a  0.154000"
            ]
          },
          "metadata": {
            "tags": []
          },
          "execution_count": 4
        }
      ]
    }
  ]
}