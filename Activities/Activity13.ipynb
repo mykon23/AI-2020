{
  "nbformat": 4,
  "nbformat_minor": 0,
  "metadata": {
    "colab": {
      "name": "Activity13.ipynb",
      "provenance": [],
      "authorship_tag": "ABX9TyMZav39Y7N/DgbgE/wkLDfB",
      "include_colab_link": true
    },
    "kernelspec": {
      "name": "python3",
      "display_name": "Python 3"
    }
  },
  "cells": [
    {
      "cell_type": "markdown",
      "metadata": {
        "id": "view-in-github",
        "colab_type": "text"
      },
      "source": [
        "<a href=\"https://colab.research.google.com/github/mykon23/AI-2020/blob/master/Activities/Activity13.ipynb\" target=\"_parent\"><img src=\"https://colab.research.google.com/assets/colab-badge.svg\" alt=\"Open In Colab\"/></a>"
      ]
    },
    {
      "cell_type": "markdown",
      "metadata": {
        "id": "m8ETdKpcT_Pb"
      },
      "source": [
        "##Learning Curves"
      ]
    },
    {
      "cell_type": "code",
      "metadata": {
        "id": "q-42b4klT-hj",
        "outputId": "f8effe2c-d217-466d-c261-e516901944e2",
        "colab": {
          "base_uri": "https://localhost:8080/",
          "height": 353
        }
      },
      "source": [
        "!wget -O Cy-Young.csv https://github.com/mykon23/AI-2020/blob/master/Data/Cy-Young.csv?raw=True"
      ],
      "execution_count": 1,
      "outputs": [
        {
          "output_type": "stream",
          "text": [
            "--2020-10-16 02:01:26--  https://github.com/mykon23/AI-2020/blob/master/Data/Cy-Young.csv?raw=True\n",
            "Resolving github.com (github.com)... 13.114.40.48\n",
            "Connecting to github.com (github.com)|13.114.40.48|:443... connected.\n",
            "HTTP request sent, awaiting response... 302 Found\n",
            "Location: https://github.com/mykon23/AI-2020/raw/master/Data/Cy-Young.csv [following]\n",
            "--2020-10-16 02:01:26--  https://github.com/mykon23/AI-2020/raw/master/Data/Cy-Young.csv\n",
            "Reusing existing connection to github.com:443.\n",
            "HTTP request sent, awaiting response... 302 Found\n",
            "Location: https://raw.githubusercontent.com/mykon23/AI-2020/master/Data/Cy-Young.csv [following]\n",
            "--2020-10-16 02:01:27--  https://raw.githubusercontent.com/mykon23/AI-2020/master/Data/Cy-Young.csv\n",
            "Resolving raw.githubusercontent.com (raw.githubusercontent.com)... 151.101.0.133, 151.101.64.133, 151.101.128.133, ...\n",
            "Connecting to raw.githubusercontent.com (raw.githubusercontent.com)|151.101.0.133|:443... connected.\n",
            "HTTP request sent, awaiting response... 200 OK\n",
            "Length: 99771 (97K) [text/plain]\n",
            "Saving to: ‘Cy-Young.csv’\n",
            "\n",
            "Cy-Young.csv        100%[===================>]  97.43K  --.-KB/s    in 0.04s   \n",
            "\n",
            "2020-10-16 02:01:27 (2.55 MB/s) - ‘Cy-Young.csv’ saved [99771/99771]\n",
            "\n"
          ],
          "name": "stdout"
        }
      ]
    },
    {
      "cell_type": "code",
      "metadata": {
        "id": "teaXiHaiUG0m",
        "outputId": "920d5599-5c15-4146-d4c9-95c4fa4296e6",
        "colab": {
          "base_uri": "https://localhost:8080/",
          "height": 195
        }
      },
      "source": [
        "import pandas as pd\n",
        "data = pd.read_csv('Cy-Young.csv')\n",
        "data.head()"
      ],
      "execution_count": 2,
      "outputs": [
        {
          "output_type": "execute_result",
          "data": {
            "text/html": [
              "<div>\n",
              "<style scoped>\n",
              "    .dataframe tbody tr th:only-of-type {\n",
              "        vertical-align: middle;\n",
              "    }\n",
              "\n",
              "    .dataframe tbody tr th {\n",
              "        vertical-align: top;\n",
              "    }\n",
              "\n",
              "    .dataframe thead th {\n",
              "        text-align: right;\n",
              "    }\n",
              "</style>\n",
              "<table border=\"1\" class=\"dataframe\">\n",
              "  <thead>\n",
              "    <tr style=\"text-align: right;\">\n",
              "      <th></th>\n",
              "      <th>Rank</th>\n",
              "      <th>Name</th>\n",
              "      <th>Tm</th>\n",
              "      <th>Vote Pts</th>\n",
              "      <th>1st Place</th>\n",
              "      <th>Share</th>\n",
              "      <th>WAR</th>\n",
              "      <th>W</th>\n",
              "      <th>L</th>\n",
              "      <th>W-L</th>\n",
              "      <th>ERA</th>\n",
              "      <th>G</th>\n",
              "      <th>GS</th>\n",
              "      <th>GF</th>\n",
              "      <th>CG</th>\n",
              "      <th>SHO</th>\n",
              "      <th>SV</th>\n",
              "      <th>IP</th>\n",
              "      <th>H</th>\n",
              "      <th>R</th>\n",
              "      <th>ER</th>\n",
              "      <th>HR</th>\n",
              "      <th>BB</th>\n",
              "      <th>IBB</th>\n",
              "      <th>SO</th>\n",
              "      <th>HBP</th>\n",
              "      <th>BK</th>\n",
              "      <th>WP</th>\n",
              "      <th>BF</th>\n",
              "      <th>WHIP</th>\n",
              "      <th>ERA+</th>\n",
              "    </tr>\n",
              "  </thead>\n",
              "  <tbody>\n",
              "    <tr>\n",
              "      <th>0</th>\n",
              "      <td>1</td>\n",
              "      <td>Justin Verlander\\verlaju01</td>\n",
              "      <td>HOU</td>\n",
              "      <td>171</td>\n",
              "      <td>17</td>\n",
              "      <td>81</td>\n",
              "      <td>7.4</td>\n",
              "      <td>21</td>\n",
              "      <td>6</td>\n",
              "      <td>0.778</td>\n",
              "      <td>2.58</td>\n",
              "      <td>34</td>\n",
              "      <td>34</td>\n",
              "      <td>0</td>\n",
              "      <td>2</td>\n",
              "      <td>1</td>\n",
              "      <td>0</td>\n",
              "      <td>223.0</td>\n",
              "      <td>137</td>\n",
              "      <td>66</td>\n",
              "      <td>64</td>\n",
              "      <td>36</td>\n",
              "      <td>42</td>\n",
              "      <td>0</td>\n",
              "      <td>300</td>\n",
              "      <td>6</td>\n",
              "      <td>0</td>\n",
              "      <td>4</td>\n",
              "      <td>847</td>\n",
              "      <td>0.803</td>\n",
              "      <td>181</td>\n",
              "    </tr>\n",
              "    <tr>\n",
              "      <th>1</th>\n",
              "      <td>2</td>\n",
              "      <td>Gerrit Cole\\colege01</td>\n",
              "      <td>HOU</td>\n",
              "      <td>159</td>\n",
              "      <td>13</td>\n",
              "      <td>76</td>\n",
              "      <td>6.6</td>\n",
              "      <td>20</td>\n",
              "      <td>5</td>\n",
              "      <td>0.800</td>\n",
              "      <td>2.50</td>\n",
              "      <td>33</td>\n",
              "      <td>33</td>\n",
              "      <td>0</td>\n",
              "      <td>0</td>\n",
              "      <td>0</td>\n",
              "      <td>0</td>\n",
              "      <td>212.1</td>\n",
              "      <td>142</td>\n",
              "      <td>66</td>\n",
              "      <td>59</td>\n",
              "      <td>29</td>\n",
              "      <td>48</td>\n",
              "      <td>0</td>\n",
              "      <td>326</td>\n",
              "      <td>3</td>\n",
              "      <td>3</td>\n",
              "      <td>4</td>\n",
              "      <td>817</td>\n",
              "      <td>0.895</td>\n",
              "      <td>187</td>\n",
              "    </tr>\n",
              "    <tr>\n",
              "      <th>2</th>\n",
              "      <td>3</td>\n",
              "      <td>Charlie Morton\\mortoch02</td>\n",
              "      <td>TBR</td>\n",
              "      <td>75</td>\n",
              "      <td>0</td>\n",
              "      <td>36</td>\n",
              "      <td>4.9</td>\n",
              "      <td>16</td>\n",
              "      <td>6</td>\n",
              "      <td>0.727</td>\n",
              "      <td>3.05</td>\n",
              "      <td>33</td>\n",
              "      <td>33</td>\n",
              "      <td>0</td>\n",
              "      <td>0</td>\n",
              "      <td>0</td>\n",
              "      <td>0</td>\n",
              "      <td>194.2</td>\n",
              "      <td>154</td>\n",
              "      <td>71</td>\n",
              "      <td>66</td>\n",
              "      <td>15</td>\n",
              "      <td>57</td>\n",
              "      <td>0</td>\n",
              "      <td>240</td>\n",
              "      <td>12</td>\n",
              "      <td>1</td>\n",
              "      <td>5</td>\n",
              "      <td>790</td>\n",
              "      <td>1.084</td>\n",
              "      <td>146</td>\n",
              "    </tr>\n",
              "    <tr>\n",
              "      <th>3</th>\n",
              "      <td>4</td>\n",
              "      <td>Shane Bieber\\biebesh01</td>\n",
              "      <td>CLE</td>\n",
              "      <td>64</td>\n",
              "      <td>0</td>\n",
              "      <td>30</td>\n",
              "      <td>4.6</td>\n",
              "      <td>15</td>\n",
              "      <td>8</td>\n",
              "      <td>0.652</td>\n",
              "      <td>3.28</td>\n",
              "      <td>34</td>\n",
              "      <td>33</td>\n",
              "      <td>1</td>\n",
              "      <td>3</td>\n",
              "      <td>2</td>\n",
              "      <td>0</td>\n",
              "      <td>214.1</td>\n",
              "      <td>186</td>\n",
              "      <td>86</td>\n",
              "      <td>78</td>\n",
              "      <td>31</td>\n",
              "      <td>40</td>\n",
              "      <td>1</td>\n",
              "      <td>259</td>\n",
              "      <td>6</td>\n",
              "      <td>1</td>\n",
              "      <td>6</td>\n",
              "      <td>859</td>\n",
              "      <td>1.054</td>\n",
              "      <td>145</td>\n",
              "    </tr>\n",
              "    <tr>\n",
              "      <th>4</th>\n",
              "      <td>5</td>\n",
              "      <td>Lance Lynn\\lynnla01</td>\n",
              "      <td>TEX</td>\n",
              "      <td>18</td>\n",
              "      <td>0</td>\n",
              "      <td>9</td>\n",
              "      <td>7.5</td>\n",
              "      <td>16</td>\n",
              "      <td>11</td>\n",
              "      <td>0.593</td>\n",
              "      <td>3.67</td>\n",
              "      <td>33</td>\n",
              "      <td>33</td>\n",
              "      <td>0</td>\n",
              "      <td>0</td>\n",
              "      <td>0</td>\n",
              "      <td>0</td>\n",
              "      <td>208.1</td>\n",
              "      <td>195</td>\n",
              "      <td>89</td>\n",
              "      <td>85</td>\n",
              "      <td>21</td>\n",
              "      <td>59</td>\n",
              "      <td>0</td>\n",
              "      <td>246</td>\n",
              "      <td>8</td>\n",
              "      <td>0</td>\n",
              "      <td>18</td>\n",
              "      <td>875</td>\n",
              "      <td>1.219</td>\n",
              "      <td>141</td>\n",
              "    </tr>\n",
              "  </tbody>\n",
              "</table>\n",
              "</div>"
            ],
            "text/plain": [
              "   Rank                        Name   Tm  Vote Pts  ...  WP   BF   WHIP  ERA+\n",
              "0     1  Justin Verlander\\verlaju01  HOU       171  ...   4  847  0.803   181\n",
              "1     2        Gerrit Cole\\colege01  HOU       159  ...   4  817  0.895   187\n",
              "2     3    Charlie Morton\\mortoch02  TBR        75  ...   5  790  1.084   146\n",
              "3     4      Shane Bieber\\biebesh01  CLE        64  ...   6  859  1.054   145\n",
              "4     5         Lance Lynn\\lynnla01  TEX        18  ...  18  875  1.219   141\n",
              "\n",
              "[5 rows x 31 columns]"
            ]
          },
          "metadata": {
            "tags": []
          },
          "execution_count": 2
        }
      ]
    },
    {
      "cell_type": "code",
      "metadata": {
        "id": "981drB-XUZeL"
      },
      "source": [
        "##Set the features of interest\n",
        "features = ['WAR', 'ERA', 'W', 'IP', 'BB', 'SO', 'WHIP']\n",
        "output = ['Vote Pts']"
      ],
      "execution_count": 3,
      "outputs": []
    },
    {
      "cell_type": "code",
      "metadata": {
        "id": "Z_Ze1ctIWwu2"
      },
      "source": [
        "import random\n",
        "import numpy as np\n",
        "\n",
        "work_data = data[features + output].to_numpy()\n",
        "np.random.shuffle(work_data)"
      ],
      "execution_count": 4,
      "outputs": []
    },
    {
      "cell_type": "markdown",
      "metadata": {
        "id": "BT2T4njlUkmj"
      },
      "source": [
        "Define Utilities"
      ]
    },
    {
      "cell_type": "code",
      "metadata": {
        "id": "hM_4OstdUnFi"
      },
      "source": [
        "import matplotlib.pyplot as plt\n",
        "import numpy as np\n",
        "\n",
        "##Define class to split data and normalize inputs\n",
        "class DevSetUtil:\n",
        "  @staticmethod\n",
        "  def get_development_sets(dev_set, val_percent):\n",
        "    ##Define the split point for the training set and the validation set\n",
        "    split_pt = int(val_percent * len(dev_set))\n",
        "\n",
        "    ##Set the data as two new tensors to permit normlalization\n",
        "    TRAIN = np.array(dev_set[split_pt:])\n",
        "    VALID = np.array(dev_set[:split_pt])\n",
        "\n",
        "    XTRAIN = TRAIN[:, :-1]\n",
        "    XVALID = VALID[:, :-1]\n",
        "\n",
        "    ##Normalize the training set\n",
        "    mean = XTRAIN.mean(axis = 0)\n",
        "    XTRAIN -= mean\n",
        "    std = XTRAIN.std(axis = 0)\n",
        "    XTRAIN /= std\n",
        "\n",
        "    ##Normalize the validation set\n",
        "    XVALID -= mean\n",
        "    XVALID /= std\n",
        "\n",
        "    return (TRAIN, VALID)\n",
        "\n",
        "class PlotUtil:\n",
        "  @staticmethod\n",
        "  def get_learning_curve(history):\n",
        "    f, ax = plt.subplots()\n",
        "    ax.plot(history.history['loss'], '-', label = 'Training', color = 'blue')\n",
        "    ax.plot(history.history['val_loss'], '--', label = 'Validation', color = 'orange')\n",
        "    ax.set_ylabel('Loss')\n",
        "    ax.set_xlabel('epoch')\n",
        "    ax.legend()\n",
        "    return (f, ax)"
      ],
      "execution_count": 5,
      "outputs": []
    },
    {
      "cell_type": "markdown",
      "metadata": {
        "id": "IpZQmv2xYIUe"
      },
      "source": [
        "Define Neural Networks"
      ]
    },
    {
      "cell_type": "code",
      "metadata": {
        "id": "xC9Q0xKUYHjx"
      },
      "source": [
        "from tensorflow.keras.models import Sequential\n",
        "from tensorflow.keras.layers import Dense\n",
        "\n",
        "DEFAULT_EPOCHS = 256\n",
        "DEFAULT_BATCH = 64\n",
        "\n",
        "class ModelUtil:\n",
        "  @staticmethod\n",
        "  def get_network(x_dim):\n",
        "    model = Sequential()\n",
        "    model.add( Dense(6, input_dim = x_dim, activation = 'relu'))\n",
        "    model.add( Dense(3, activation='relu'))\n",
        "    model.add( Dense(1, activation = 'relu'))\n",
        "    return model\n",
        "  @staticmethod\n",
        "  def get_underfit_model(x_dim):\n",
        "    model = Sequential()\n",
        "    model.add( Dense(1, input_dim = x_dim, activation = 'relu'))\n",
        "    model.add( Dense(1, activation = 'relu'))\n",
        "    return model\n",
        "  @staticmethod\n",
        "  def get_overfit_model(x_dim):\n",
        "    model = Sequential()\n",
        "    model.add( Dense(18, input_dim = x_dim, activation = 'relu'))\n",
        "    model.add( Dense(9, input_dim = x_dim, activation = 'relu'))\n",
        "    model.add( Dense(3, activation='relu'))\n",
        "    model.add( Dense(2, activation = 'relu'))\n",
        "    model.add( Dense(1, activation = 'relu'))\n",
        "    return model"
      ],
      "execution_count": 6,
      "outputs": []
    },
    {
      "cell_type": "markdown",
      "metadata": {
        "id": "MYFxxpHfYgYD"
      },
      "source": [
        "##Validation Set Too Small"
      ]
    },
    {
      "cell_type": "code",
      "metadata": {
        "id": "JscUR4LsYjB7"
      },
      "source": [
        "##Set 97% Training and 3% Validation\n",
        "dev_set = DevSetUtil.get_development_sets(work_data, 0.02)"
      ],
      "execution_count": 7,
      "outputs": []
    },
    {
      "cell_type": "code",
      "metadata": {
        "id": "RRflZxGRc6m3"
      },
      "source": [
        "xtrain = dev_set[0][:, :-1]\n",
        "ytrain = dev_set[0][:, -1]\n",
        "valid = (dev_set[1][:, :-1], dev_set[1][:,-1])"
      ],
      "execution_count": 8,
      "outputs": []
    },
    {
      "cell_type": "code",
      "metadata": {
        "id": "raCDklOEZrKT"
      },
      "source": [
        "##Get the Network\n",
        "model = ModelUtil.get_network(len(features))\n",
        "model.compile(loss = 'mse', optimizer = 'rmsprop', metrics = ['mse'])"
      ],
      "execution_count": 9,
      "outputs": []
    },
    {
      "cell_type": "code",
      "metadata": {
        "id": "q7SWKf03aKSe"
      },
      "source": [
        "##Train the Model\n",
        "history = model.fit( xtrain, ytrain,\n",
        "                    validation_data = valid,\n",
        "                    epochs = DEFAULT_EPOCHS,\n",
        "                    batch_size = DEFAULT_BATCH,\n",
        "                    verbose = 0 )"
      ],
      "execution_count": 10,
      "outputs": []
    },
    {
      "cell_type": "code",
      "metadata": {
        "id": "OONkSP0EbcTx",
        "outputId": "6c75eb61-bca0-4a01-8c4a-4b025c90e578",
        "colab": {
          "base_uri": "https://localhost:8080/",
          "height": 295
        }
      },
      "source": [
        "##View the Learning Curves\n",
        "figs = PlotUtil.get_learning_curve(history)\n",
        "figs[1].set_title('Too Small Validation')\n",
        "figs[0].show()"
      ],
      "execution_count": 11,
      "outputs": [
        {
          "output_type": "display_data",
          "data": {
            "image/png": "[encoded data removed]",
            "text/plain": [
              "<Figure size 432x288 with 1 Axes>"
            ]
          },
          "metadata": {
            "tags": [],
            "needs_background": "light"
          }
        }
      ]
    },
    {
      "cell_type": "markdown",
      "metadata": {
        "id": "6Iz0AhEyPdQZ"
      },
      "source": [
        "The learning curves indicate that the validation set is easier to predict than the training set as the two losses are disjoint.  The contents of the validation set do not represent those of the training set and cannot be utilized as a viable metric for evaluating the model's performance.  Machine learning relies on IID and therefore a validation set that better represents the training set is required to evaluate the model."
      ]
    },
    {
      "cell_type": "markdown",
      "metadata": {
        "id": "MWJmd3Poc24Z"
      },
      "source": [
        "##Training Set Too Small"
      ]
    },
    {
      "cell_type": "code",
      "metadata": {
        "id": "n-TSAeIzc5es"
      },
      "source": [
        "##Set 10% Training and 90% Validation\n",
        "dev_set = DevSetUtil.get_development_sets(work_data, 0.90)"
      ],
      "execution_count": 43,
      "outputs": []
    },
    {
      "cell_type": "code",
      "metadata": {
        "id": "qeTFVaVKdD3f"
      },
      "source": [
        "xtrain = dev_set[0][:, :-1]\n",
        "ytrain = dev_set[0][:, -1]\n",
        "valid = (dev_set[1][:, :-1], dev_set[1][:,-1])"
      ],
      "execution_count": 44,
      "outputs": []
    },
    {
      "cell_type": "code",
      "metadata": {
        "id": "QDrPCuQPdIWb"
      },
      "source": [
        "##Get the Network\n",
        "model = ModelUtil.get_network(len(features))\n",
        "model.compile(loss = 'mse', optimizer = 'rmsprop', metrics = ['mse'])"
      ],
      "execution_count": 48,
      "outputs": []
    },
    {
      "cell_type": "code",
      "metadata": {
        "id": "dhHfcOpfdJ-I"
      },
      "source": [
        "##Train the Model\n",
        "history = model.fit( xtrain, ytrain,\n",
        "                    validation_data = valid,\n",
        "                    epochs = DEFAULT_EPOCHS * 2,\n",
        "                    batch_size = DEFAULT_BATCH,\n",
        "                    verbose = 0 )"
      ],
      "execution_count": 49,
      "outputs": []
    },
    {
      "cell_type": "code",
      "metadata": {
        "id": "VmVmD7DPdQ4_",
        "outputId": "3ae07cd2-be89-4c9d-ee01-06a584eb3454",
        "colab": {
          "base_uri": "https://localhost:8080/",
          "height": 295
        }
      },
      "source": [
        "##View the Learning Curves\n",
        "figs = PlotUtil.get_learning_curve(history)\n",
        "figs[1].set_title('Too Small Training Set')\n",
        "figs[0].show()"
      ],
      "execution_count": 50,
      "outputs": [
        {
          "output_type": "display_data",
          "data": {
            "image/png": "[encoded data removed]",
            "text/plain": [
              "<Figure size 432x288 with 1 Axes>"
            ]
          },
          "metadata": {
            "tags": [],
            "needs_background": "light"
          }
        }
      ]
    },
    {
      "cell_type": "markdown",
      "metadata": {
        "id": "a1xY50lhRmLs"
      },
      "source": [
        "A discrepency is present between the validation loss and the training loss if the model has too few samples for training.  The model appears to learn based on the slow decrease of the training loss.  The training set has too few samples for the model to learn meaningful information from the data.  The validation loss and training loss are disjoint suggesting that performance may or may not improve with additional training.  The disconnect between the losses may also be attributed to the normalization parameters acquired from the reduced training set."
      ]
    },
    {
      "cell_type": "markdown",
      "metadata": {
        "id": "pq-OHAH5do4E"
      },
      "source": [
        "##Good Learning Curve"
      ]
    },
    {
      "cell_type": "code",
      "metadata": {
        "id": "eujl8nqAeM-f"
      },
      "source": [
        "##Set 75% Training and 25% Validation\n",
        "dev_set = DevSetUtil.get_development_sets(work_data, 0.25)"
      ],
      "execution_count": 17,
      "outputs": []
    },
    {
      "cell_type": "code",
      "metadata": {
        "id": "T0EhpR_SeQww"
      },
      "source": [
        "xtrain = dev_set[0][:, :-1]\n",
        "ytrain = dev_set[0][:, -1]\n",
        "valid = (dev_set[1][:, :-1], dev_set[1][:,-1])"
      ],
      "execution_count": 18,
      "outputs": []
    },
    {
      "cell_type": "code",
      "metadata": {
        "id": "i1wDtkomeTu_"
      },
      "source": [
        "##Get the Network\n",
        "model = ModelUtil.get_network(len(features))\n",
        "model.compile(loss = 'mse', optimizer = 'rmsprop', metrics = ['mse'])"
      ],
      "execution_count": 19,
      "outputs": []
    },
    {
      "cell_type": "code",
      "metadata": {
        "id": "x2eLIQyseWgn"
      },
      "source": [
        "##Train the Model\n",
        "history = model.fit( xtrain, ytrain,\n",
        "                    validation_data = valid,\n",
        "                    epochs = DEFAULT_EPOCHS,\n",
        "                    batch_size = DEFAULT_BATCH,\n",
        "                    verbose = 0 )"
      ],
      "execution_count": 20,
      "outputs": []
    },
    {
      "cell_type": "code",
      "metadata": {
        "id": "rgDXvYS_ea_1",
        "outputId": "7ede934d-5773-42c2-c19f-f3a1eb6607ad",
        "colab": {
          "base_uri": "https://localhost:8080/",
          "height": 295
        }
      },
      "source": [
        "##View the Learning Curves\n",
        "figs = PlotUtil.get_learning_curve(history)\n",
        "figs[1].set_title('Good Learning Curve')\n",
        "figs[0].show()"
      ],
      "execution_count": 21,
      "outputs": [
        {
          "output_type": "display_data",
          "data": {
            "image/png": "[encoded data removed]",
            "text/plain": [
              "<Figure size 432x288 with 1 Axes>"
            ]
          },
          "metadata": {
            "tags": [],
            "needs_background": "light"
          }
        }
      ]
    },
    {
      "cell_type": "markdown",
      "metadata": {
        "id": "Aro16yiWLLKn"
      },
      "source": [
        "A good learning curve is produced by utilizing 75% of the data for training and the remaining 25% for validation.  The training loss and validation loss improve throughout the training such that both losses converge to a similar loss.  The size of the training set permit the model to learn meaningful information from the data.  The model is capable of generalizing the data as the loss is similar between the training set and the validation set."
      ]
    },
    {
      "cell_type": "markdown",
      "metadata": {
        "id": "q2xqZIqVdvCH"
      },
      "source": [
        "##Overfitting Model"
      ]
    },
    {
      "cell_type": "code",
      "metadata": {
        "id": "kp-EBGupgl5O"
      },
      "source": [
        "##Set 75% Training and 25% Validation\n",
        "dev_set = DevSetUtil.get_development_sets(work_data, 0.25)"
      ],
      "execution_count": 22,
      "outputs": []
    },
    {
      "cell_type": "code",
      "metadata": {
        "id": "XKoTCfd6gn5q"
      },
      "source": [
        "xtrain = dev_set[0][:, :-1]\n",
        "ytrain = dev_set[0][:, -1]\n",
        "valid = (dev_set[1][:, :-1], dev_set[1][:,-1])"
      ],
      "execution_count": 23,
      "outputs": []
    },
    {
      "cell_type": "code",
      "metadata": {
        "id": "ztBcBalHgpos"
      },
      "source": [
        "##Get the Network\n",
        "model = ModelUtil.get_overfit_model(len(features))\n",
        "model.compile(loss = 'mse', optimizer = 'rmsprop', metrics = ['mse'])"
      ],
      "execution_count": 24,
      "outputs": []
    },
    {
      "cell_type": "code",
      "metadata": {
        "id": "wn3vt6o8guSu"
      },
      "source": [
        "##Train the Model\n",
        "history = model.fit( xtrain, ytrain,\n",
        "                    validation_data = valid,\n",
        "                    epochs = DEFAULT_EPOCHS * 2,\n",
        "                    batch_size = DEFAULT_BATCH,\n",
        "                    verbose = 0 )"
      ],
      "execution_count": 25,
      "outputs": []
    },
    {
      "cell_type": "code",
      "metadata": {
        "id": "CksUbW9DgyKA",
        "outputId": "0d4d284d-901b-4f48-8db8-848d0ff5c10f",
        "colab": {
          "base_uri": "https://localhost:8080/",
          "height": 295
        }
      },
      "source": [
        "##View the Learning Curves\n",
        "figs = PlotUtil.get_learning_curve(history)\n",
        "figs[1].set_title('Overfitting Model')\n",
        "figs[0].show()"
      ],
      "execution_count": 26,
      "outputs": [
        {
          "output_type": "display_data",
          "data": {
            "image/png": "[encoded data removed]",
            "text/plain": [
              "<Figure size 432x288 with 1 Axes>"
            ]
          },
          "metadata": {
            "tags": [],
            "needs_background": "light"
          }
        }
      ]
    },
    {
      "cell_type": "markdown",
      "metadata": {
        "id": "D-w2EyK7Mlsp"
      },
      "source": [
        "A divergence between the validation loss and training loss is present within the learning curves of the overfitted model.  The validation loss and training loss were initially aligned, but a diverged prior to the 100th epoch.  The divergence continues to increase indicating that the model's objective to minimize the training loss led to the model memorizing the outputs instead of learning from the data.  The model fails to generalize the data as the training loss and validation loss are not comparable."
      ]
    },
    {
      "cell_type": "markdown",
      "metadata": {
        "id": "ucLWFbJTdz6D"
      },
      "source": [
        "##Needs Further Training"
      ]
    },
    {
      "cell_type": "code",
      "metadata": {
        "id": "f8qjKT7Ueo4v"
      },
      "source": [
        "##Set 75% Training and 25% Validation\n",
        "dev_set = DevSetUtil.get_development_sets(work_data, 0.25)"
      ],
      "execution_count": 27,
      "outputs": []
    },
    {
      "cell_type": "code",
      "metadata": {
        "id": "TERHOuB0erX8"
      },
      "source": [
        "xtrain = dev_set[0][:, :-1]\n",
        "ytrain = dev_set[0][:, -1]\n",
        "valid = (dev_set[1][:, :-1], dev_set[1][:,-1])"
      ],
      "execution_count": 28,
      "outputs": []
    },
    {
      "cell_type": "code",
      "metadata": {
        "id": "s_VI5QN-euwM"
      },
      "source": [
        "##Get the Network\n",
        "model = ModelUtil.get_network(len(features))\n",
        "model.compile(loss = 'mse', optimizer = 'rmsprop', metrics = ['mse'])"
      ],
      "execution_count": 29,
      "outputs": []
    },
    {
      "cell_type": "code",
      "metadata": {
        "id": "8efc_P9cexT2"
      },
      "source": [
        "##Train the Model\n",
        "history = model.fit( xtrain, ytrain,\n",
        "                    validation_data = valid,\n",
        "                    epochs = DEFAULT_EPOCHS//4,\n",
        "                    batch_size = DEFAULT_BATCH,\n",
        "                    verbose = 0 )"
      ],
      "execution_count": 30,
      "outputs": []
    },
    {
      "cell_type": "code",
      "metadata": {
        "id": "JpSUjPKKe1h-",
        "outputId": "18fdeff2-f305-47a3-fd10-120af9fcdeed",
        "colab": {
          "base_uri": "https://localhost:8080/",
          "height": 295
        }
      },
      "source": [
        "##View the Learning Curves\n",
        "figs = PlotUtil.get_learning_curve(history)\n",
        "figs[1].set_title('Needs Further Training')\n",
        "figs[0].show()"
      ],
      "execution_count": 31,
      "outputs": [
        {
          "output_type": "display_data",
          "data": {
            "image/png": "[encoded data removed]",
            "text/plain": [
              "<Figure size 432x288 with 1 Axes>"
            ]
          },
          "metadata": {
            "tags": [],
            "needs_background": "light"
          }
        }
      ]
    },
    {
      "cell_type": "markdown",
      "metadata": {
        "id": "wceVWFbyMQCa"
      },
      "source": [
        "The learning curves indicate that the training loss and validation loss will improve with additional training.  Both the training loss and validation loss trend downwards to potentially converge a common loss.  The loss between the training set and the validatioin set converge around the 100th epoch based on the good learning curve."
      ]
    },
    {
      "cell_type": "markdown",
      "metadata": {
        "id": "t8aYpVJ1d2yN"
      },
      "source": [
        "##Underfitting Model"
      ]
    },
    {
      "cell_type": "code",
      "metadata": {
        "id": "rqq7mn87fX2E"
      },
      "source": [
        "##Set 75% Training and 25% Validation\n",
        "dev_set = DevSetUtil.get_development_sets(work_data, 0.25)"
      ],
      "execution_count": 32,
      "outputs": []
    },
    {
      "cell_type": "code",
      "metadata": {
        "id": "cZdRBuuifamo"
      },
      "source": [
        "xtrain = dev_set[0][:, :-1]\n",
        "ytrain = dev_set[0][:, -1]\n",
        "valid = (dev_set[1][:, :-1], dev_set[1][:,-1])"
      ],
      "execution_count": 33,
      "outputs": []
    },
    {
      "cell_type": "code",
      "metadata": {
        "id": "JSGmR_BAfdbl"
      },
      "source": [
        "##Get the Network\n",
        "model = ModelUtil.get_underfit_model(len(features))\n",
        "model.compile(loss = 'mse', optimizer = 'rmsprop', metrics = ['mse'])"
      ],
      "execution_count": 40,
      "outputs": []
    },
    {
      "cell_type": "code",
      "metadata": {
        "id": "CJoC5tbhfhw8"
      },
      "source": [
        "##Train the Model\n",
        "history = model.fit( xtrain, ytrain,\n",
        "                    validation_data = valid,\n",
        "                    epochs = DEFAULT_EPOCHS,\n",
        "                    batch_size = DEFAULT_BATCH,\n",
        "                    verbose = 0 )"
      ],
      "execution_count": 41,
      "outputs": []
    },
    {
      "cell_type": "code",
      "metadata": {
        "id": "ZFYOPCL5flZB",
        "outputId": "895c49a9-c8fc-4a51-8110-4f266da08dc1",
        "colab": {
          "base_uri": "https://localhost:8080/",
          "height": 295
        }
      },
      "source": [
        "##View the Learning Curves\n",
        "figs = PlotUtil.get_learning_curve(history)\n",
        "figs[1].set_title('Underfitting Model')\n",
        "figs[0].show()"
      ],
      "execution_count": 42,
      "outputs": [
        {
          "output_type": "display_data",
          "data": {
            "image/png": "[encoded data removed]",
            "text/plain": [
              "<Figure size 432x288 with 1 Axes>"
            ]
          },
          "metadata": {
            "tags": [],
            "needs_background": "light"
          }
        }
      ]
    },
    {
      "cell_type": "markdown",
      "metadata": {
        "id": "2gTH-f2lLoBE"
      },
      "source": [
        "The underfitting model lacks the capacity to learn from the data and thus yields constant loss for both the training and validation sets.  The underfitting model does not appear to perform better than a linear regression model.  The lower validation loss is attributed to the validation set being easier to predict than those of the training set."
      ]
    }
  ]
}