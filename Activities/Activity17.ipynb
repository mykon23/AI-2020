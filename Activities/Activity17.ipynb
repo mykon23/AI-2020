{
  "nbformat": 4,
  "nbformat_minor": 0,
  "metadata": {
    "colab": {
      "name": "Activity17.ipynb",
      "provenance": [],
      "authorship_tag": "ABX9TyOUq7lUgKJCa53WLeC6kw3t",
      "include_colab_link": true
    },
    "kernelspec": {
      "name": "python3",
      "display_name": "Python 3"
    }
  },
  "cells": [
    {
      "cell_type": "markdown",
      "metadata": {
        "id": "view-in-github",
        "colab_type": "text"
      },
      "source": [
        "<a href=\"https://colab.research.google.com/github/mykon23/AI-2020/blob/master/Activities/Activity17.ipynb\" target=\"_parent\"><img src=\"https://colab.research.google.com/assets/colab-badge.svg\" alt=\"Open In Colab\"/></a>"
      ]
    },
    {
      "cell_type": "markdown",
      "metadata": {
        "id": "LpVBUTHIEO2a"
      },
      "source": [
        "##Early Stopping"
      ]
    },
    {
      "cell_type": "code",
      "metadata": {
        "id": "d9ffUIDkDg_v",
        "outputId": "0f313e64-c231-48a9-d699-55365687f727",
        "colab": {
          "base_uri": "https://localhost:8080/"
        }
      },
      "source": [
        "!wget -O Baseball.csv https://github.com/mykon23/AI-2020/blob/master/Data/Baseball.csv?raw=True"
      ],
      "execution_count": 1,
      "outputs": [
        {
          "output_type": "stream",
          "text": [
            "--2020-11-17 05:50:33--  https://github.com/mykon23/AI-2020/blob/master/Data/Baseball.csv?raw=True\n",
            "Resolving github.com (github.com)... 140.82.114.3\n",
            "Connecting to github.com (github.com)|140.82.114.3|:443... connected.\n",
            "HTTP request sent, awaiting response... 302 Found\n",
            "Location: https://github.com/mykon23/AI-2020/raw/master/Data/Baseball.csv [following]\n",
            "--2020-11-17 05:50:34--  https://github.com/mykon23/AI-2020/raw/master/Data/Baseball.csv\n",
            "Reusing existing connection to github.com:443.\n",
            "HTTP request sent, awaiting response... 302 Found\n",
            "Location: https://raw.githubusercontent.com/mykon23/AI-2020/master/Data/Baseball.csv [following]\n",
            "--2020-11-17 05:50:34--  https://raw.githubusercontent.com/mykon23/AI-2020/master/Data/Baseball.csv\n",
            "Resolving raw.githubusercontent.com (raw.githubusercontent.com)... 151.101.0.133, 151.101.64.133, 151.101.128.133, ...\n",
            "Connecting to raw.githubusercontent.com (raw.githubusercontent.com)|151.101.0.133|:443... connected.\n",
            "HTTP request sent, awaiting response... 200 OK\n",
            "Length: 67157 (66K) [text/plain]\n",
            "Saving to: ‘Baseball.csv’\n",
            "\n",
            "Baseball.csv        100%[===================>]  65.58K  --.-KB/s    in 0.01s   \n",
            "\n",
            "2020-11-17 05:50:34 (4.50 MB/s) - ‘Baseball.csv’ saved [67157/67157]\n",
            "\n"
          ],
          "name": "stdout"
        }
      ]
    },
    {
      "cell_type": "code",
      "metadata": {
        "id": "X3RVAvQWEait",
        "outputId": "b1a48973-5c7a-41bc-95a9-0d9079c776d1",
        "colab": {
          "base_uri": "https://localhost:8080/",
          "height": 204
        }
      },
      "source": [
        "import pandas as pd\n",
        "data = pd.read_csv('Baseball.csv')\n",
        "data.head()"
      ],
      "execution_count": 2,
      "outputs": [
        {
          "output_type": "execute_result",
          "data": {
            "text/html": [
              "<div>\n",
              "<style scoped>\n",
              "    .dataframe tbody tr th:only-of-type {\n",
              "        vertical-align: middle;\n",
              "    }\n",
              "\n",
              "    .dataframe tbody tr th {\n",
              "        vertical-align: top;\n",
              "    }\n",
              "\n",
              "    .dataframe thead th {\n",
              "        text-align: right;\n",
              "    }\n",
              "</style>\n",
              "<table border=\"1\" class=\"dataframe\">\n",
              "  <thead>\n",
              "    <tr style=\"text-align: right;\">\n",
              "      <th></th>\n",
              "      <th>Team</th>\n",
              "      <th>League</th>\n",
              "      <th>Year</th>\n",
              "      <th>RS</th>\n",
              "      <th>RA</th>\n",
              "      <th>W</th>\n",
              "      <th>OBP</th>\n",
              "      <th>SLG</th>\n",
              "      <th>BA</th>\n",
              "      <th>Playoffs</th>\n",
              "      <th>RankSeason</th>\n",
              "      <th>RankPlayoffs</th>\n",
              "      <th>G</th>\n",
              "      <th>OOBP</th>\n",
              "      <th>OSLG</th>\n",
              "    </tr>\n",
              "  </thead>\n",
              "  <tbody>\n",
              "    <tr>\n",
              "      <th>0</th>\n",
              "      <td>ARI</td>\n",
              "      <td>NL</td>\n",
              "      <td>2012</td>\n",
              "      <td>734</td>\n",
              "      <td>688</td>\n",
              "      <td>81</td>\n",
              "      <td>0.328</td>\n",
              "      <td>0.418</td>\n",
              "      <td>0.259</td>\n",
              "      <td>0</td>\n",
              "      <td>NaN</td>\n",
              "      <td>NaN</td>\n",
              "      <td>162</td>\n",
              "      <td>0.317</td>\n",
              "      <td>0.415</td>\n",
              "    </tr>\n",
              "    <tr>\n",
              "      <th>1</th>\n",
              "      <td>ATL</td>\n",
              "      <td>NL</td>\n",
              "      <td>2012</td>\n",
              "      <td>700</td>\n",
              "      <td>600</td>\n",
              "      <td>94</td>\n",
              "      <td>0.320</td>\n",
              "      <td>0.389</td>\n",
              "      <td>0.247</td>\n",
              "      <td>1</td>\n",
              "      <td>4.0</td>\n",
              "      <td>5.0</td>\n",
              "      <td>162</td>\n",
              "      <td>0.306</td>\n",
              "      <td>0.378</td>\n",
              "    </tr>\n",
              "    <tr>\n",
              "      <th>2</th>\n",
              "      <td>BAL</td>\n",
              "      <td>AL</td>\n",
              "      <td>2012</td>\n",
              "      <td>712</td>\n",
              "      <td>705</td>\n",
              "      <td>93</td>\n",
              "      <td>0.311</td>\n",
              "      <td>0.417</td>\n",
              "      <td>0.247</td>\n",
              "      <td>1</td>\n",
              "      <td>5.0</td>\n",
              "      <td>4.0</td>\n",
              "      <td>162</td>\n",
              "      <td>0.315</td>\n",
              "      <td>0.403</td>\n",
              "    </tr>\n",
              "    <tr>\n",
              "      <th>3</th>\n",
              "      <td>BOS</td>\n",
              "      <td>AL</td>\n",
              "      <td>2012</td>\n",
              "      <td>734</td>\n",
              "      <td>806</td>\n",
              "      <td>69</td>\n",
              "      <td>0.315</td>\n",
              "      <td>0.415</td>\n",
              "      <td>0.260</td>\n",
              "      <td>0</td>\n",
              "      <td>NaN</td>\n",
              "      <td>NaN</td>\n",
              "      <td>162</td>\n",
              "      <td>0.331</td>\n",
              "      <td>0.428</td>\n",
              "    </tr>\n",
              "    <tr>\n",
              "      <th>4</th>\n",
              "      <td>CHC</td>\n",
              "      <td>NL</td>\n",
              "      <td>2012</td>\n",
              "      <td>613</td>\n",
              "      <td>759</td>\n",
              "      <td>61</td>\n",
              "      <td>0.302</td>\n",
              "      <td>0.378</td>\n",
              "      <td>0.240</td>\n",
              "      <td>0</td>\n",
              "      <td>NaN</td>\n",
              "      <td>NaN</td>\n",
              "      <td>162</td>\n",
              "      <td>0.335</td>\n",
              "      <td>0.424</td>\n",
              "    </tr>\n",
              "  </tbody>\n",
              "</table>\n",
              "</div>"
            ],
            "text/plain": [
              "  Team League  Year   RS   RA  ...  RankSeason  RankPlayoffs    G   OOBP   OSLG\n",
              "0  ARI     NL  2012  734  688  ...         NaN           NaN  162  0.317  0.415\n",
              "1  ATL     NL  2012  700  600  ...         4.0           5.0  162  0.306  0.378\n",
              "2  BAL     AL  2012  712  705  ...         5.0           4.0  162  0.315  0.403\n",
              "3  BOS     AL  2012  734  806  ...         NaN           NaN  162  0.331  0.428\n",
              "4  CHC     NL  2012  613  759  ...         NaN           NaN  162  0.335  0.424\n",
              "\n",
              "[5 rows x 15 columns]"
            ]
          },
          "metadata": {
            "tags": []
          },
          "execution_count": 2
        }
      ]
    },
    {
      "cell_type": "code",
      "metadata": {
        "id": "GWqqjGPnEi5Y"
      },
      "source": [
        "##Get the features of interest\n",
        "features = [ 'OBP', 'SLG', 'BA' ]\n",
        "output = ['RS']"
      ],
      "execution_count": 3,
      "outputs": []
    },
    {
      "cell_type": "code",
      "metadata": {
        "id": "6vFyZJigFTdM",
        "outputId": "002ce14c-f150-4e1a-96a3-b6d6c88ce12f",
        "colab": {
          "base_uri": "https://localhost:8080/"
        }
      },
      "source": [
        "import numpy as np\n",
        "\n",
        "years = data['Year'].unique()\n",
        "val_years = np.random.choice( years, int(0.25 * len(years)), replace = False )\n",
        "print(val_years)"
      ],
      "execution_count": 4,
      "outputs": [
        {
          "output_type": "stream",
          "text": [
            "[1968 1989 1997 1977 1969 1974 2000 2006 1963 1973 1984]\n"
          ],
          "name": "stdout"
        }
      ]
    },
    {
      "cell_type": "code",
      "metadata": {
        "id": "nftB1c63Fhuq"
      },
      "source": [
        "##Establish the Training Set and the Validation Sets\n",
        "\n",
        "TRAIN = pd.DataFrame()\n",
        "VALID = pd.DataFrame()\n",
        "\n",
        "for y in years:\n",
        "  elem = data[ data['Year'] == y][features + output]\n",
        "  if y in val_years:\n",
        "    VALID = pd.concat( [VALID, elem] )\n",
        "  else:\n",
        "    TRAIN = pd.concat( [TRAIN, elem] )\n",
        "\n",
        "##Training Set\n",
        "TRAIN = TRAIN.to_numpy()\n",
        "\n",
        "##Validation Set\n",
        "VALID = VALID.to_numpy()"
      ],
      "execution_count": 5,
      "outputs": []
    },
    {
      "cell_type": "code",
      "metadata": {
        "id": "AW7VMvguFsm0"
      },
      "source": [
        "##Set Copies of numpy arrays\n",
        "XTRAIN = np.array( TRAIN[:, :-1] )\n",
        "YTRAIN = TRAIN[:, -1]\n",
        "\n",
        "XVALID = np.array( VALID[:, :-1] )\n",
        "YVALID = VALID[:, -1]"
      ],
      "execution_count": 6,
      "outputs": []
    },
    {
      "cell_type": "code",
      "metadata": {
        "id": "dNWwkeVqFxkU"
      },
      "source": [
        "##Adjust the Training Data\n",
        "mean = XTRAIN.mean(axis = 0)\n",
        "XTRAIN -= mean\n",
        "std = XTRAIN.std(axis = 0)\n",
        "XTRAIN /= std\n",
        "\n",
        "##Adjust the Validation Data\n",
        "XVALID -= mean\n",
        "XVALID /= std"
      ],
      "execution_count": 7,
      "outputs": []
    },
    {
      "cell_type": "markdown",
      "metadata": {
        "id": "35X6qTdUF1Wa"
      },
      "source": [
        "Define Evaluation Utilities"
      ]
    },
    {
      "cell_type": "code",
      "metadata": {
        "id": "Mh79TgXYF3ZI"
      },
      "source": [
        "import matplotlib.pyplot as plt\n",
        "from sklearn import metrics\n",
        "\n",
        "class PlotUtil:\n",
        "  @staticmethod\n",
        "  def get_learning_curve(history):\n",
        "    f, ax = plt.subplots()\n",
        "    ax.plot(history.history['loss'], '-', label = 'Training', color = 'blue')\n",
        "    ax.plot(history.history['val_loss'], '--', label = 'Validation', color = 'orange')\n",
        "    ax.set_ylabel('Loss')\n",
        "    ax.set_xlabel('epoch')\n",
        "    ax.set_yscale('log')\n",
        "    ax.legend()\n",
        "    return (f, ax)\n",
        "\n",
        "class RegEvalUtil:\n",
        "  @staticmethod\n",
        "  def get_eval_metrics(y_true, y_pred):\n",
        "    return { 'mse': metrics.mean_squared_error(y_true, y_pred),\n",
        "            'mae': metrics.mean_absolute_error(y_true, y_pred) }"
      ],
      "execution_count": 8,
      "outputs": []
    },
    {
      "cell_type": "markdown",
      "metadata": {
        "id": "0YjWCQGtu9AA"
      },
      "source": [
        "Define Model Utilities"
      ]
    },
    {
      "cell_type": "code",
      "metadata": {
        "id": "_w2TpZ0ySlyz"
      },
      "source": [
        "from tensorflow.keras.models import Sequential\n",
        "from tensorflow.keras.layers import Dense\n",
        "from tensorflow.keras.callbacks import EarlyStopping, ModelCheckpoint\n",
        "\n",
        "class ModelUtil:\n",
        "  @staticmethod\n",
        "  def get_model(input):\n",
        "    model = Sequential()\n",
        "    model.add( Dense(18, input_dim = input, activation='relu'))\n",
        "    model.add( Dense(6, activation='relu'))\n",
        "    model.add( Dense(3, activation = 'relu' ))\n",
        "    model.add( Dense(1, activation = 'relu' ))\n",
        "    return model\n",
        "\n",
        "DEFAULT_EPOCHS = 512\n",
        "\n",
        "##Define the callbacks\n",
        "model_callbacks = { 'cp': ModelCheckpoint(filepath = 'stop_nn.hdf5', monitor='val_loss', save_best_only = True, save_weights_only = True, verbose = 0), \n",
        "             'es': EarlyStopping(monitor='val_loss', mode='min', patience=52, verbose=0) }"
      ],
      "execution_count": 9,
      "outputs": []
    },
    {
      "cell_type": "markdown",
      "metadata": {
        "id": "dVi4KKW8SG76"
      },
      "source": [
        "##Regression Model with Early Stopping"
      ]
    },
    {
      "cell_type": "code",
      "metadata": {
        "id": "AEdQk7W2SJks",
        "outputId": "c86f2df5-7912-4a90-d4af-31a0cd1b692c",
        "colab": {
          "base_uri": "https://localhost:8080/"
        }
      },
      "source": [
        "stop_nn = ModelUtil.get_model(len(features))\n",
        "##Save the initial weights\n",
        "stop_nn.save_weights('init_weights.hdf5')\n",
        "stop_nn.compile(loss = 'mae', optimizer = 'rmsprop', metrics = ['mae'])\n",
        "stop_nn.summary()"
      ],
      "execution_count": 10,
      "outputs": [
        {
          "output_type": "stream",
          "text": [
            "Model: \"sequential\"\n",
            "_________________________________________________________________\n",
            "Layer (type)                 Output Shape              Param #   \n",
            "=================================================================\n",
            "dense (Dense)                (None, 18)                72        \n",
            "_________________________________________________________________\n",
            "dense_1 (Dense)              (None, 6)                 114       \n",
            "_________________________________________________________________\n",
            "dense_2 (Dense)              (None, 3)                 21        \n",
            "_________________________________________________________________\n",
            "dense_3 (Dense)              (None, 1)                 4         \n",
            "=================================================================\n",
            "Total params: 211\n",
            "Trainable params: 211\n",
            "Non-trainable params: 0\n",
            "_________________________________________________________________\n"
          ],
          "name": "stdout"
        }
      ]
    },
    {
      "cell_type": "code",
      "metadata": {
        "id": "EhidbraLVBsf"
      },
      "source": [
        "import time\n",
        "\n",
        "##Train the Model\n",
        "start_stop = time.time()\n",
        "history_stop = stop_nn.fit( XTRAIN, YTRAIN,\n",
        "                      validation_data = (XVALID, YVALID),\n",
        "                      epochs = DEFAULT_EPOCHS,\n",
        "                      callbacks = model_callbacks.values(),\n",
        "                      verbose = 0)\n",
        "end_stop = time.time()"
      ],
      "execution_count": 11,
      "outputs": []
    },
    {
      "cell_type": "code",
      "metadata": {
        "id": "aF87Qbg3cYER",
        "outputId": "6de07987-e0bb-46ad-e3ae-d480096f1e1e",
        "colab": {
          "base_uri": "https://localhost:8080/"
        }
      },
      "source": [
        "print(f'Epochs: {len(history_stop.history[\"loss\"])}')\n",
        "print(f'Time (s): {end_stop - start_stop:.2f}')"
      ],
      "execution_count": 12,
      "outputs": [
        {
          "output_type": "stream",
          "text": [
            "Epochs: 305\n",
            "Time (s): 15.95\n"
          ],
          "name": "stdout"
        }
      ]
    },
    {
      "cell_type": "code",
      "metadata": {
        "id": "XElDwb8RVvy6",
        "outputId": "7e26116c-ed68-4760-be6a-49b2185065b0",
        "colab": {
          "base_uri": "https://localhost:8080/",
          "height": 295
        }
      },
      "source": [
        "##View the Learning Curves\n",
        "figs = PlotUtil.get_learning_curve(history_stop)\n",
        "figs[1].set_title('NN Model With Early Stopping')\n",
        "figs[0].show()"
      ],
      "execution_count": 13,
      "outputs": [
        {
          "output_type": "display_data",
          "data": {
            "image/png": "[encoded data removed]",
            "text/plain": [
              "<Figure size 432x288 with 1 Axes>"
            ]
          },
          "metadata": {
            "tags": [],
            "needs_background": "light"
          }
        }
      ]
    },
    {
      "cell_type": "code",
      "metadata": {
        "id": "yaQeTAmGVo4h",
        "outputId": "b996e3e5-a28c-4c99-ae2f-7a1f340810a7",
        "colab": {
          "base_uri": "https://localhost:8080/",
          "height": 111
        }
      },
      "source": [
        "##Display the Loss metrics on the final model with early stopping\n",
        "train_pred = stop_nn.predict(XTRAIN)\n",
        "valid_pred = stop_nn.predict(XVALID)\n",
        "\n",
        "stop_final = pd.DataFrame.from_dict({ 'train': RegEvalUtil.get_eval_metrics(YTRAIN, train_pred),\n",
        "              'valid': RegEvalUtil.get_eval_metrics(YVALID, valid_pred)})\n",
        "stop_final.head().T"
      ],
      "execution_count": 14,
      "outputs": [
        {
          "output_type": "execute_result",
          "data": {
            "text/html": [
              "<div>\n",
              "<style scoped>\n",
              "    .dataframe tbody tr th:only-of-type {\n",
              "        vertical-align: middle;\n",
              "    }\n",
              "\n",
              "    .dataframe tbody tr th {\n",
              "        vertical-align: top;\n",
              "    }\n",
              "\n",
              "    .dataframe thead th {\n",
              "        text-align: right;\n",
              "    }\n",
              "</style>\n",
              "<table border=\"1\" class=\"dataframe\">\n",
              "  <thead>\n",
              "    <tr style=\"text-align: right;\">\n",
              "      <th></th>\n",
              "      <th>mse</th>\n",
              "      <th>mae</th>\n",
              "    </tr>\n",
              "  </thead>\n",
              "  <tbody>\n",
              "    <tr>\n",
              "      <th>train</th>\n",
              "      <td>662.028920</td>\n",
              "      <td>20.626894</td>\n",
              "    </tr>\n",
              "    <tr>\n",
              "      <th>valid</th>\n",
              "      <td>548.104808</td>\n",
              "      <td>18.805819</td>\n",
              "    </tr>\n",
              "  </tbody>\n",
              "</table>\n",
              "</div>"
            ],
            "text/plain": [
              "              mse        mae\n",
              "train  662.028920  20.626894\n",
              "valid  548.104808  18.805819"
            ]
          },
          "metadata": {
            "tags": []
          },
          "execution_count": 14
        }
      ]
    },
    {
      "cell_type": "code",
      "metadata": {
        "id": "Ts2LOdtEWZvY",
        "outputId": "957eb756-35d7-4e6a-9e34-5ef483349670",
        "colab": {
          "base_uri": "https://localhost:8080/",
          "height": 111
        }
      },
      "source": [
        "##Acquire the weights pertaining to the best model from the checkpoint\n",
        "comp_model = ModelUtil.get_model(len(features))\n",
        "comp_model.load_weights('stop_nn.hdf5')\n",
        "\n",
        "##Get the predictions of the data with the best model\n",
        "train_pred = comp_model.predict(XTRAIN)\n",
        "valid_pred = comp_model.predict(XVALID)\n",
        "\n",
        "stop_best = pd.DataFrame.from_dict({ 'train': RegEvalUtil.get_eval_metrics(YTRAIN, train_pred),\n",
        "              'valid': RegEvalUtil.get_eval_metrics(YVALID, valid_pred)})\n",
        "stop_best.head().T"
      ],
      "execution_count": 15,
      "outputs": [
        {
          "output_type": "execute_result",
          "data": {
            "text/html": [
              "<div>\n",
              "<style scoped>\n",
              "    .dataframe tbody tr th:only-of-type {\n",
              "        vertical-align: middle;\n",
              "    }\n",
              "\n",
              "    .dataframe tbody tr th {\n",
              "        vertical-align: top;\n",
              "    }\n",
              "\n",
              "    .dataframe thead th {\n",
              "        text-align: right;\n",
              "    }\n",
              "</style>\n",
              "<table border=\"1\" class=\"dataframe\">\n",
              "  <thead>\n",
              "    <tr style=\"text-align: right;\">\n",
              "      <th></th>\n",
              "      <th>mse</th>\n",
              "      <th>mae</th>\n",
              "    </tr>\n",
              "  </thead>\n",
              "  <tbody>\n",
              "    <tr>\n",
              "      <th>train</th>\n",
              "      <td>656.671282</td>\n",
              "      <td>20.412695</td>\n",
              "    </tr>\n",
              "    <tr>\n",
              "      <th>valid</th>\n",
              "      <td>527.779551</td>\n",
              "      <td>18.271230</td>\n",
              "    </tr>\n",
              "  </tbody>\n",
              "</table>\n",
              "</div>"
            ],
            "text/plain": [
              "              mse        mae\n",
              "train  656.671282  20.412695\n",
              "valid  527.779551  18.271230"
            ]
          },
          "metadata": {
            "tags": []
          },
          "execution_count": 15
        }
      ]
    },
    {
      "cell_type": "markdown",
      "metadata": {
        "id": "dGVEc5XMF7wg"
      },
      "source": [
        "##Regression Model without Early Stopping"
      ]
    },
    {
      "cell_type": "code",
      "metadata": {
        "id": "wdO4A0QjGAVY",
        "outputId": "ed882e6d-4f9b-4c3a-9408-089ce45aaca0",
        "colab": {
          "base_uri": "https://localhost:8080/"
        }
      },
      "source": [
        "##Load the initial weights\n",
        "runs_nn = ModelUtil.get_model(len(features))\n",
        "runs_nn.load_weights('init_weights.hdf5')\n",
        "runs_nn.compile(loss = 'mae', optimizer = 'rmsprop', metrics = ['mae'] )\n",
        "runs_nn.summary()"
      ],
      "execution_count": 16,
      "outputs": [
        {
          "output_type": "stream",
          "text": [
            "Model: \"sequential_2\"\n",
            "_________________________________________________________________\n",
            "Layer (type)                 Output Shape              Param #   \n",
            "=================================================================\n",
            "dense_8 (Dense)              (None, 18)                72        \n",
            "_________________________________________________________________\n",
            "dense_9 (Dense)              (None, 6)                 114       \n",
            "_________________________________________________________________\n",
            "dense_10 (Dense)             (None, 3)                 21        \n",
            "_________________________________________________________________\n",
            "dense_11 (Dense)             (None, 1)                 4         \n",
            "=================================================================\n",
            "Total params: 211\n",
            "Trainable params: 211\n",
            "Non-trainable params: 0\n",
            "_________________________________________________________________\n"
          ],
          "name": "stdout"
        }
      ]
    },
    {
      "cell_type": "code",
      "metadata": {
        "id": "NMH19QkiGKXL"
      },
      "source": [
        "import time\n",
        "\n",
        "##Train the Model\n",
        "start_runs = time.time()\n",
        "history_nn = runs_nn.fit( XTRAIN, YTRAIN,\n",
        "                      validation_data = (XVALID, YVALID),\n",
        "                      epochs = DEFAULT_EPOCHS,\n",
        "                      callbacks = [ model_callbacks['cp'] ],\n",
        "                      verbose = 0)\n",
        "end_runs = time.time()"
      ],
      "execution_count": 17,
      "outputs": []
    },
    {
      "cell_type": "code",
      "metadata": {
        "id": "JcYGCbVgc4PP",
        "outputId": "454825c1-d05f-4973-efe9-0166117c8a70",
        "colab": {
          "base_uri": "https://localhost:8080/"
        }
      },
      "source": [
        "print(f'Epochs: {len(history_nn.history[\"loss\"])}')\n",
        "print(f'Time (s): {end_runs - start_runs:.2f}')"
      ],
      "execution_count": 18,
      "outputs": [
        {
          "output_type": "stream",
          "text": [
            "Epochs: 512\n",
            "Time (s): 24.26\n"
          ],
          "name": "stdout"
        }
      ]
    },
    {
      "cell_type": "code",
      "metadata": {
        "id": "sjNszeRSGQKD",
        "outputId": "cb9ee458-e241-4734-b06a-b0148170721c",
        "colab": {
          "base_uri": "https://localhost:8080/",
          "height": 295
        }
      },
      "source": [
        "##View the Learning Curves\n",
        "figs = PlotUtil.get_learning_curve(history_nn)\n",
        "figs[1].set_title('NN Model No Early Stopping')\n",
        "figs[0].show()"
      ],
      "execution_count": 19,
      "outputs": [
        {
          "output_type": "display_data",
          "data": {
            "image/png": "[encoded data removed]",
            "text/plain": [
              "<Figure size 432x288 with 1 Axes>"
            ]
          },
          "metadata": {
            "tags": [],
            "needs_background": "light"
          }
        }
      ]
    },
    {
      "cell_type": "code",
      "metadata": {
        "id": "-1f_S96tGeO_",
        "outputId": "8ff5f039-8d6e-4b42-8785-1bce88745665",
        "colab": {
          "base_uri": "https://localhost:8080/",
          "height": 111
        }
      },
      "source": [
        "##Get the Predictions on Training and Validation\n",
        "train_pred = runs_nn.predict(XTRAIN)\n",
        "valid_pred = runs_nn.predict(XVALID)\n",
        "\n",
        "nn_metrics = pd.DataFrame.from_dict({ 'train': RegEvalUtil.get_eval_metrics(YTRAIN, train_pred),\n",
        "              'valid': RegEvalUtil.get_eval_metrics(YVALID, valid_pred)})\n",
        "nn_metrics.head().T"
      ],
      "execution_count": 20,
      "outputs": [
        {
          "output_type": "execute_result",
          "data": {
            "text/html": [
              "<div>\n",
              "<style scoped>\n",
              "    .dataframe tbody tr th:only-of-type {\n",
              "        vertical-align: middle;\n",
              "    }\n",
              "\n",
              "    .dataframe tbody tr th {\n",
              "        vertical-align: top;\n",
              "    }\n",
              "\n",
              "    .dataframe thead th {\n",
              "        text-align: right;\n",
              "    }\n",
              "</style>\n",
              "<table border=\"1\" class=\"dataframe\">\n",
              "  <thead>\n",
              "    <tr style=\"text-align: right;\">\n",
              "      <th></th>\n",
              "      <th>mse</th>\n",
              "      <th>mae</th>\n",
              "    </tr>\n",
              "  </thead>\n",
              "  <tbody>\n",
              "    <tr>\n",
              "      <th>train</th>\n",
              "      <td>658.581274</td>\n",
              "      <td>20.267613</td>\n",
              "    </tr>\n",
              "    <tr>\n",
              "      <th>valid</th>\n",
              "      <td>541.047092</td>\n",
              "      <td>18.493327</td>\n",
              "    </tr>\n",
              "  </tbody>\n",
              "</table>\n",
              "</div>"
            ],
            "text/plain": [
              "              mse        mae\n",
              "train  658.581274  20.267613\n",
              "valid  541.047092  18.493327"
            ]
          },
          "metadata": {
            "tags": []
          },
          "execution_count": 20
        }
      ]
    },
    {
      "cell_type": "code",
      "metadata": {
        "id": "_1FxIHurvtV0",
        "outputId": "050fb0c8-8b80-4d77-cd73-73e9d61510d1",
        "colab": {
          "base_uri": "https://localhost:8080/",
          "height": 111
        }
      },
      "source": [
        "##Acquire the weights pertaining to the best model from the checkpoint\n",
        "comp_model = ModelUtil.get_model(len(features))\n",
        "comp_model.load_weights('stop_nn.hdf5')\n",
        "\n",
        "##Get the predictions of the data with the best model\n",
        "train_pred = comp_model.predict(XTRAIN)\n",
        "valid_pred = comp_model.predict(XVALID)\n",
        "\n",
        "cp_best = pd.DataFrame.from_dict({ 'train': RegEvalUtil.get_eval_metrics(YTRAIN, train_pred),\n",
        "              'valid': RegEvalUtil.get_eval_metrics(YVALID, valid_pred)})\n",
        "cp_best.head().T"
      ],
      "execution_count": 21,
      "outputs": [
        {
          "output_type": "execute_result",
          "data": {
            "text/html": [
              "<div>\n",
              "<style scoped>\n",
              "    .dataframe tbody tr th:only-of-type {\n",
              "        vertical-align: middle;\n",
              "    }\n",
              "\n",
              "    .dataframe tbody tr th {\n",
              "        vertical-align: top;\n",
              "    }\n",
              "\n",
              "    .dataframe thead th {\n",
              "        text-align: right;\n",
              "    }\n",
              "</style>\n",
              "<table border=\"1\" class=\"dataframe\">\n",
              "  <thead>\n",
              "    <tr style=\"text-align: right;\">\n",
              "      <th></th>\n",
              "      <th>mse</th>\n",
              "      <th>mae</th>\n",
              "    </tr>\n",
              "  </thead>\n",
              "  <tbody>\n",
              "    <tr>\n",
              "      <th>train</th>\n",
              "      <td>656.671282</td>\n",
              "      <td>20.412695</td>\n",
              "    </tr>\n",
              "    <tr>\n",
              "      <th>valid</th>\n",
              "      <td>527.779551</td>\n",
              "      <td>18.271230</td>\n",
              "    </tr>\n",
              "  </tbody>\n",
              "</table>\n",
              "</div>"
            ],
            "text/plain": [
              "              mse        mae\n",
              "train  656.671282  20.412695\n",
              "valid  527.779551  18.271230"
            ]
          },
          "metadata": {
            "tags": []
          },
          "execution_count": 21
        }
      ]
    },
    {
      "cell_type": "markdown",
      "metadata": {
        "id": "3YDoiGMygFf3"
      },
      "source": [
        "Early stopping permits the model to cease training once a defined loss no longer improves beyond the model's patience.  The model is to train for 512 epochs if no early stopping callbacks are applied.  An early stopping callback with a patience of 48 epochs was applied to the model's training for comparison.  The training with early stopping terminates at 305 epochs compared to the training of 512 epochs.  The early stopping permits the model to cease training at 60% of the defined epochs.  The time required for each of these trainings in terms of seconds is 15.95 seconds for early stopping versus 24.26 seconds for all epochs.  The difference in time seems minimal, but the difference in epochs suggests that early stopping becomes more beneficial for training with greater epoch times."
      ]
    },
    {
      "cell_type": "markdown",
      "metadata": {
        "id": "LyMfeIN_iHUw"
      },
      "source": [
        "Four sets of trainable parameters were identified: the weights acquired from training for all epochs, the weights acquired with model checkpointing for all epochs, the weights acquired at the end of early stopping, and the weights acquired with model checkpointing and early stopping.  The initial weights for the first isntance of the model were saved and loaded onto each model prior to training to ensure a fair comparison.  Recall that the initial weights for a model are initialized randomly and it would be unfair to compare the results from one instance of a model against another instance if the initial weights differed.  It was found that the model checkpointing weights between the early stopping and the total training are the same to reduce the collection to three sets.  The weights from model checkpointing yield the minimal MAE of 18.27 on the validation set compared to the 18.49 and 18.81 of the total training and early stopping respectively.  The minimal loss on the validation set does not transfer to the training set as the other weights performed better on the training set as expected.  The training process consists of optimizing on the training loss and it is expected that the loss on the training set decreases with additional epochs.  The model checkpointing serves as a way to acquire the best set of weights prior to overfitting."
      ]
    }
  ]
}