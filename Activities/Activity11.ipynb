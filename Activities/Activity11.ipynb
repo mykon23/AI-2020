{
  "nbformat": 4,
  "nbformat_minor": 0,
  "metadata": {
    "colab": {
      "name": "Activity11.ipynb",
      "provenance": [],
      "collapsed_sections": [],
      "authorship_tag": "ABX9TyO66ZxNIFiaNT0oQL0SatSW",
      "include_colab_link": true
    },
    "kernelspec": {
      "name": "python3",
      "display_name": "Python 3"
    }
  },
  "cells": [
    {
      "cell_type": "markdown",
      "metadata": {
        "id": "view-in-github",
        "colab_type": "text"
      },
      "source": [
        "<a href=\"https://colab.research.google.com/github/mykon23/AI-2020/blob/master/Activities/Activity11.ipynb\" target=\"_parent\"><img src=\"https://colab.research.google.com/assets/colab-badge.svg\" alt=\"Open In Colab\"/></a>"
      ]
    },
    {
      "cell_type": "markdown",
      "metadata": {
        "id": "_p-lU39vK9fR"
      },
      "source": [
        "##Overfitting vs Generalization: MLB Playoff Teams"
      ]
    },
    {
      "cell_type": "code",
      "metadata": {
        "id": "v9ZaN1NcKia8",
        "outputId": "980035ca-de55-429d-f041-0b2edaaa692c",
        "colab": {
          "base_uri": "https://localhost:8080/",
          "height": 373
        }
      },
      "source": [
        "!wget -O Baseball.csv https://github.com/mykon23/AI-2020/blob/master/Data/Baseball.csv?raw=True"
      ],
      "execution_count": 1,
      "outputs": [
        {
          "output_type": "stream",
          "text": [
            "--2020-09-26 05:14:21--  https://github.com/mykon23/AI-2020/blob/master/Data/Baseball.csv?raw=True\n",
            "Resolving github.com (github.com)... 140.82.112.4\n",
            "Connecting to github.com (github.com)|140.82.112.4|:443... connected.\n",
            "HTTP request sent, awaiting response... 302 Found\n",
            "Location: https://github.com/mykon23/AI-2020/raw/master/Data/Baseball.csv [following]\n",
            "--2020-09-26 05:14:21--  https://github.com/mykon23/AI-2020/raw/master/Data/Baseball.csv\n",
            "Reusing existing connection to github.com:443.\n",
            "HTTP request sent, awaiting response... 302 Found\n",
            "Location: https://raw.githubusercontent.com/mykon23/AI-2020/master/Data/Baseball.csv [following]\n",
            "--2020-09-26 05:14:21--  https://raw.githubusercontent.com/mykon23/AI-2020/master/Data/Baseball.csv\n",
            "Resolving raw.githubusercontent.com (raw.githubusercontent.com)... 151.101.0.133, 151.101.64.133, 151.101.128.133, ...\n",
            "Connecting to raw.githubusercontent.com (raw.githubusercontent.com)|151.101.0.133|:443... connected.\n",
            "HTTP request sent, awaiting response... 200 OK\n",
            "Length: 67157 (66K) [text/plain]\n",
            "Saving to: ‘Baseball.csv’\n",
            "\n",
            "Baseball.csv        100%[===================>]  65.58K  --.-KB/s    in 0.03s   \n",
            "\n",
            "2020-09-26 05:14:22 (2.43 MB/s) - ‘Baseball.csv’ saved [67157/67157]\n",
            "\n"
          ],
          "name": "stdout"
        }
      ]
    },
    {
      "cell_type": "markdown",
      "metadata": {
        "id": "j2mJPX-HLEi9"
      },
      "source": [
        "##Binary Classification of whether an MLB Enters Playoffs (Wildcard Era)"
      ]
    },
    {
      "cell_type": "code",
      "metadata": {
        "id": "JzESSoPILD3Q",
        "outputId": "b4d15f80-f500-4a23-fe8c-9d65ceaded16",
        "colab": {
          "base_uri": "https://localhost:8080/",
          "height": 215
        }
      },
      "source": [
        "import pandas as pd\n",
        "data = pd.read_csv('Baseball.csv')\n",
        "data.head()"
      ],
      "execution_count": 2,
      "outputs": [
        {
          "output_type": "execute_result",
          "data": {
            "text/html": [
              "<div>\n",
              "<style scoped>\n",
              "    .dataframe tbody tr th:only-of-type {\n",
              "        vertical-align: middle;\n",
              "    }\n",
              "\n",
              "    .dataframe tbody tr th {\n",
              "        vertical-align: top;\n",
              "    }\n",
              "\n",
              "    .dataframe thead th {\n",
              "        text-align: right;\n",
              "    }\n",
              "</style>\n",
              "<table border=\"1\" class=\"dataframe\">\n",
              "  <thead>\n",
              "    <tr style=\"text-align: right;\">\n",
              "      <th></th>\n",
              "      <th>Team</th>\n",
              "      <th>League</th>\n",
              "      <th>Year</th>\n",
              "      <th>RS</th>\n",
              "      <th>RA</th>\n",
              "      <th>W</th>\n",
              "      <th>OBP</th>\n",
              "      <th>SLG</th>\n",
              "      <th>BA</th>\n",
              "      <th>Playoffs</th>\n",
              "      <th>RankSeason</th>\n",
              "      <th>RankPlayoffs</th>\n",
              "      <th>G</th>\n",
              "      <th>OOBP</th>\n",
              "      <th>OSLG</th>\n",
              "    </tr>\n",
              "  </thead>\n",
              "  <tbody>\n",
              "    <tr>\n",
              "      <th>0</th>\n",
              "      <td>ARI</td>\n",
              "      <td>NL</td>\n",
              "      <td>2012</td>\n",
              "      <td>734</td>\n",
              "      <td>688</td>\n",
              "      <td>81</td>\n",
              "      <td>0.328</td>\n",
              "      <td>0.418</td>\n",
              "      <td>0.259</td>\n",
              "      <td>0</td>\n",
              "      <td>NaN</td>\n",
              "      <td>NaN</td>\n",
              "      <td>162</td>\n",
              "      <td>0.317</td>\n",
              "      <td>0.415</td>\n",
              "    </tr>\n",
              "    <tr>\n",
              "      <th>1</th>\n",
              "      <td>ATL</td>\n",
              "      <td>NL</td>\n",
              "      <td>2012</td>\n",
              "      <td>700</td>\n",
              "      <td>600</td>\n",
              "      <td>94</td>\n",
              "      <td>0.320</td>\n",
              "      <td>0.389</td>\n",
              "      <td>0.247</td>\n",
              "      <td>1</td>\n",
              "      <td>4.0</td>\n",
              "      <td>5.0</td>\n",
              "      <td>162</td>\n",
              "      <td>0.306</td>\n",
              "      <td>0.378</td>\n",
              "    </tr>\n",
              "    <tr>\n",
              "      <th>2</th>\n",
              "      <td>BAL</td>\n",
              "      <td>AL</td>\n",
              "      <td>2012</td>\n",
              "      <td>712</td>\n",
              "      <td>705</td>\n",
              "      <td>93</td>\n",
              "      <td>0.311</td>\n",
              "      <td>0.417</td>\n",
              "      <td>0.247</td>\n",
              "      <td>1</td>\n",
              "      <td>5.0</td>\n",
              "      <td>4.0</td>\n",
              "      <td>162</td>\n",
              "      <td>0.315</td>\n",
              "      <td>0.403</td>\n",
              "    </tr>\n",
              "    <tr>\n",
              "      <th>3</th>\n",
              "      <td>BOS</td>\n",
              "      <td>AL</td>\n",
              "      <td>2012</td>\n",
              "      <td>734</td>\n",
              "      <td>806</td>\n",
              "      <td>69</td>\n",
              "      <td>0.315</td>\n",
              "      <td>0.415</td>\n",
              "      <td>0.260</td>\n",
              "      <td>0</td>\n",
              "      <td>NaN</td>\n",
              "      <td>NaN</td>\n",
              "      <td>162</td>\n",
              "      <td>0.331</td>\n",
              "      <td>0.428</td>\n",
              "    </tr>\n",
              "    <tr>\n",
              "      <th>4</th>\n",
              "      <td>CHC</td>\n",
              "      <td>NL</td>\n",
              "      <td>2012</td>\n",
              "      <td>613</td>\n",
              "      <td>759</td>\n",
              "      <td>61</td>\n",
              "      <td>0.302</td>\n",
              "      <td>0.378</td>\n",
              "      <td>0.240</td>\n",
              "      <td>0</td>\n",
              "      <td>NaN</td>\n",
              "      <td>NaN</td>\n",
              "      <td>162</td>\n",
              "      <td>0.335</td>\n",
              "      <td>0.424</td>\n",
              "    </tr>\n",
              "  </tbody>\n",
              "</table>\n",
              "</div>"
            ],
            "text/plain": [
              "  Team League  Year   RS   RA  ...  RankSeason  RankPlayoffs    G   OOBP   OSLG\n",
              "0  ARI     NL  2012  734  688  ...         NaN           NaN  162  0.317  0.415\n",
              "1  ATL     NL  2012  700  600  ...         4.0           5.0  162  0.306  0.378\n",
              "2  BAL     AL  2012  712  705  ...         5.0           4.0  162  0.315  0.403\n",
              "3  BOS     AL  2012  734  806  ...         NaN           NaN  162  0.331  0.428\n",
              "4  CHC     NL  2012  613  759  ...         NaN           NaN  162  0.335  0.424\n",
              "\n",
              "[5 rows x 15 columns]"
            ]
          },
          "metadata": {
            "tags": []
          },
          "execution_count": 2
        }
      ]
    },
    {
      "cell_type": "markdown",
      "metadata": {
        "id": "ytsVK5Nlmb0k"
      },
      "source": [
        "Get the Data of Interest"
      ]
    },
    {
      "cell_type": "code",
      "metadata": {
        "id": "M6dJEr4hLoUq",
        "outputId": "82847adb-f20a-46d1-b381-cc76282e0884",
        "colab": {
          "base_uri": "https://localhost:8080/",
          "height": 195
        }
      },
      "source": [
        "##Get the features of interest\n",
        "features = [ 'RS', 'RA', 'W', 'OBP', 'SLG', 'BA' ]\n",
        "\n",
        "##Binary classiciation to determine if playoff team\n",
        "output = [ 'Playoffs' ]\n",
        "\n",
        "##Only get data from wildcard era introduced in 1994.  8+ teams enter\n",
        "work_data = data[ data['Year'] > 1994 ]\n",
        "work_data = work_data[ ['Year'] + features + output ]\n",
        "work_data.head()"
      ],
      "execution_count": 3,
      "outputs": [
        {
          "output_type": "execute_result",
          "data": {
            "text/html": [
              "<div>\n",
              "<style scoped>\n",
              "    .dataframe tbody tr th:only-of-type {\n",
              "        vertical-align: middle;\n",
              "    }\n",
              "\n",
              "    .dataframe tbody tr th {\n",
              "        vertical-align: top;\n",
              "    }\n",
              "\n",
              "    .dataframe thead th {\n",
              "        text-align: right;\n",
              "    }\n",
              "</style>\n",
              "<table border=\"1\" class=\"dataframe\">\n",
              "  <thead>\n",
              "    <tr style=\"text-align: right;\">\n",
              "      <th></th>\n",
              "      <th>Year</th>\n",
              "      <th>RS</th>\n",
              "      <th>RA</th>\n",
              "      <th>W</th>\n",
              "      <th>OBP</th>\n",
              "      <th>SLG</th>\n",
              "      <th>BA</th>\n",
              "      <th>Playoffs</th>\n",
              "    </tr>\n",
              "  </thead>\n",
              "  <tbody>\n",
              "    <tr>\n",
              "      <th>0</th>\n",
              "      <td>2012</td>\n",
              "      <td>734</td>\n",
              "      <td>688</td>\n",
              "      <td>81</td>\n",
              "      <td>0.328</td>\n",
              "      <td>0.418</td>\n",
              "      <td>0.259</td>\n",
              "      <td>0</td>\n",
              "    </tr>\n",
              "    <tr>\n",
              "      <th>1</th>\n",
              "      <td>2012</td>\n",
              "      <td>700</td>\n",
              "      <td>600</td>\n",
              "      <td>94</td>\n",
              "      <td>0.320</td>\n",
              "      <td>0.389</td>\n",
              "      <td>0.247</td>\n",
              "      <td>1</td>\n",
              "    </tr>\n",
              "    <tr>\n",
              "      <th>2</th>\n",
              "      <td>2012</td>\n",
              "      <td>712</td>\n",
              "      <td>705</td>\n",
              "      <td>93</td>\n",
              "      <td>0.311</td>\n",
              "      <td>0.417</td>\n",
              "      <td>0.247</td>\n",
              "      <td>1</td>\n",
              "    </tr>\n",
              "    <tr>\n",
              "      <th>3</th>\n",
              "      <td>2012</td>\n",
              "      <td>734</td>\n",
              "      <td>806</td>\n",
              "      <td>69</td>\n",
              "      <td>0.315</td>\n",
              "      <td>0.415</td>\n",
              "      <td>0.260</td>\n",
              "      <td>0</td>\n",
              "    </tr>\n",
              "    <tr>\n",
              "      <th>4</th>\n",
              "      <td>2012</td>\n",
              "      <td>613</td>\n",
              "      <td>759</td>\n",
              "      <td>61</td>\n",
              "      <td>0.302</td>\n",
              "      <td>0.378</td>\n",
              "      <td>0.240</td>\n",
              "      <td>0</td>\n",
              "    </tr>\n",
              "  </tbody>\n",
              "</table>\n",
              "</div>"
            ],
            "text/plain": [
              "   Year   RS   RA   W    OBP    SLG     BA  Playoffs\n",
              "0  2012  734  688  81  0.328  0.418  0.259         0\n",
              "1  2012  700  600  94  0.320  0.389  0.247         1\n",
              "2  2012  712  705  93  0.311  0.417  0.247         1\n",
              "3  2012  734  806  69  0.315  0.415  0.260         0\n",
              "4  2012  613  759  61  0.302  0.378  0.240         0"
            ]
          },
          "metadata": {
            "tags": []
          },
          "execution_count": 3
        }
      ]
    },
    {
      "cell_type": "markdown",
      "metadata": {
        "id": "x1ZtQb1Qmf1c"
      },
      "source": [
        "Split the Data into Training Data and Validation Data"
      ]
    },
    {
      "cell_type": "code",
      "metadata": {
        "id": "DgfeO4ScNaBC",
        "outputId": "bf4a88c7-5d82-4271-c3ef-bab857241f57",
        "colab": {
          "base_uri": "https://localhost:8080/",
          "height": 34
        }
      },
      "source": [
        "import numpy as np\n",
        "\n",
        "##Validation set will be split according to random years.  No shuffling of data.\n",
        "years = work_data['Year'].unique()\n",
        "val_years = np.random.choice( years, int(0.25 * len(years)), replace=False )\n",
        "print(val_years)"
      ],
      "execution_count": 4,
      "outputs": [
        {
          "output_type": "stream",
          "text": [
            "[2011 1996 2003 2004]\n"
          ],
          "name": "stdout"
        }
      ]
    },
    {
      "cell_type": "code",
      "metadata": {
        "id": "Xa0To7LlPwTi"
      },
      "source": [
        "##Establish the Training Set and the Validation Sets\n",
        "\n",
        "TRAIN = pd.DataFrame()\n",
        "VALID = pd.DataFrame()\n",
        "\n",
        "for y in years:\n",
        "  elem = work_data[ work_data['Year'] == y ][ features + output ]\n",
        "  if y in val_years:\n",
        "    VALID = pd.concat( [VALID, elem] )\n",
        "  else:\n",
        "    TRAIN = pd.concat( [TRAIN, elem] )\n",
        "\n",
        "##Training Set\n",
        "TRAIN = TRAIN.to_numpy()\n",
        "XTRAIN = TRAIN[:, :-1]\n",
        "YTRAIN = TRAIN[:, -1]\n",
        "\n",
        "##Valdiation Set\n",
        "VALID = VALID.to_numpy()\n",
        "XVALID = VALID[:, :-1]\n",
        "YVALID = VALID[:, -1]"
      ],
      "execution_count": 5,
      "outputs": []
    },
    {
      "cell_type": "code",
      "metadata": {
        "id": "TgWPJe1yogw0",
        "outputId": "1cdbf829-4732-4e35-90c6-b5df1a51c2ac",
        "colab": {
          "base_uri": "https://localhost:8080/",
          "height": 67
        }
      },
      "source": [
        "##Get Baseline Accuracy\n",
        "baseline = { 'train': YTRAIN.sum()/len(YTRAIN), 'val': YVALID.sum()/len(YVALID) }\n",
        "\n",
        "print('Basline Accuracy')\n",
        "for k in baseline:\n",
        "  print(f'{k:8s} {baseline[k]:2f}')"
      ],
      "execution_count": 6,
      "outputs": [
        {
          "output_type": "stream",
          "text": [
            "Basline Accuracy\n",
            "train    0.273196\n",
            "val      0.271186\n"
          ],
          "name": "stdout"
        }
      ]
    },
    {
      "cell_type": "markdown",
      "metadata": {
        "id": "_eXh1KZQmmYj"
      },
      "source": [
        "Apply Standardization to Data Sets\n",
        "\n"
      ]
    },
    {
      "cell_type": "code",
      "metadata": {
        "id": "tJ9oMCoHnVW-"
      },
      "source": [
        "##Adjust the training data\n",
        "mean = XTRAIN.mean(axis = 0)\n",
        "XTRAIN -= mean\n",
        "std = XTRAIN.std(axis = 0)\n",
        "XTRAIN /= std\n",
        "\n",
        "##Adjust the validation data\n",
        "XVALID -= mean\n",
        "XVALID /= std"
      ],
      "execution_count": 7,
      "outputs": []
    },
    {
      "cell_type": "markdown",
      "metadata": {
        "id": "zAudwcePn5dd"
      },
      "source": [
        "##Build the Overfitting Neural Network"
      ]
    },
    {
      "cell_type": "code",
      "metadata": {
        "id": "PocRtePBn8Lm",
        "outputId": "1fce5adb-2955-4dac-e828-e21006bbc2df",
        "colab": {
          "base_uri": "https://localhost:8080/",
          "height": 286
        }
      },
      "source": [
        "from tensorflow.keras.models import Sequential\n",
        "from tensorflow.keras.layers import Dense\n",
        "\n",
        "model = Sequential()\n",
        "model.add( Dense(18, input_dim = len(XTRAIN[0]), activation='relu') )\n",
        "model.add( Dense(6, activation='relu' ))\n",
        "model.add( Dense(3, activation='relu' ))\n",
        "model.add( Dense(1, activation='sigmoid'))\n",
        "model.summary()"
      ],
      "execution_count": 8,
      "outputs": [
        {
          "output_type": "stream",
          "text": [
            "Model: \"sequential\"\n",
            "_________________________________________________________________\n",
            "Layer (type)                 Output Shape              Param #   \n",
            "=================================================================\n",
            "dense (Dense)                (None, 18)                126       \n",
            "_________________________________________________________________\n",
            "dense_1 (Dense)              (None, 6)                 114       \n",
            "_________________________________________________________________\n",
            "dense_2 (Dense)              (None, 3)                 21        \n",
            "_________________________________________________________________\n",
            "dense_3 (Dense)              (None, 1)                 4         \n",
            "=================================================================\n",
            "Total params: 265\n",
            "Trainable params: 265\n",
            "Non-trainable params: 0\n",
            "_________________________________________________________________\n"
          ],
          "name": "stdout"
        }
      ]
    },
    {
      "cell_type": "code",
      "metadata": {
        "id": "II7MAo62omjn",
        "outputId": "b039ece6-69de-4dd1-c9a3-f4075bbab7e1",
        "colab": {
          "base_uri": "https://localhost:8080/",
          "height": 533
        }
      },
      "source": [
        "from tensorflow.keras.utils import plot_model\n",
        "plot_model(model, show_layer_names = True, show_shapes = True)"
      ],
      "execution_count": 9,
      "outputs": [
        {
          "output_type": "execute_result",
          "data": {
            "image/png": "[encoded data removed]",
            "text/plain": [
              "<IPython.core.display.Image object>"
            ]
          },
          "metadata": {
            "tags": []
          },
          "execution_count": 9
        }
      ]
    },
    {
      "cell_type": "markdown",
      "metadata": {
        "id": "SnSSy7JbriJU"
      },
      "source": [
        "Train and Evaluate on the Training Data"
      ]
    },
    {
      "cell_type": "code",
      "metadata": {
        "id": "I_gyaKy7o77-",
        "outputId": "a45cd3bf-af1c-40d4-e7e3-3f8612d4abd4",
        "colab": {
          "base_uri": "https://localhost:8080/",
          "height": 54
        }
      },
      "source": [
        "##Train the model\n",
        "model.compile(loss='binary_crossentropy', optimizer='rmsprop', metrics = ['accuracy'])\n",
        "model.fit(XTRAIN, YTRAIN, epochs = 1024, verbose = 0)\n",
        "\n",
        "##Evaluate the training set accuracy\n",
        "train_acc = model.evaluate(XTRAIN, YTRAIN)"
      ],
      "execution_count": 10,
      "outputs": [
        {
          "output_type": "stream",
          "text": [
            "13/13 [==============================] - 0s 1ms/step - loss: 0.0257 - accuracy: 0.9948\n"
          ],
          "name": "stdout"
        }
      ]
    },
    {
      "cell_type": "markdown",
      "metadata": {
        "id": "FON0TeGCrkus"
      },
      "source": [
        "Evaluate on the Validation Set"
      ]
    },
    {
      "cell_type": "code",
      "metadata": {
        "id": "YIq0avu_rpNf",
        "outputId": "59e4a368-47e1-4d34-c577-cadefe4d6bee",
        "colab": {
          "base_uri": "https://localhost:8080/",
          "height": 54
        }
      },
      "source": [
        "##Evaluate the validation Set\n",
        "val_acc = model.evaluate(XVALID, YVALID)"
      ],
      "execution_count": 11,
      "outputs": [
        {
          "output_type": "stream",
          "text": [
            "4/4 [==============================] - 0s 2ms/step - loss: 1.0192 - accuracy: 0.8559\n"
          ],
          "name": "stdout"
        }
      ]
    },
    {
      "cell_type": "markdown",
      "metadata": {
        "id": "VmOeaXKluqCz"
      },
      "source": [
        "The model is more accurate on the training set than on the validation set.  The loss on the validation set is much greater than the loss on the training set."
      ]
    },
    {
      "cell_type": "markdown",
      "metadata": {
        "id": "q2TlqCLxqUqU"
      },
      "source": [
        "##Evaluate Model Performance Metrics"
      ]
    },
    {
      "cell_type": "code",
      "metadata": {
        "id": "cgrHsLORq64S"
      },
      "source": [
        "##Get the predictions the model makes for each data set\n",
        "PTRAIN = model.predict(XTRAIN)\n",
        "PVALID = model.predict(XVALID)"
      ],
      "execution_count": 12,
      "outputs": []
    },
    {
      "cell_type": "code",
      "metadata": {
        "id": "GoWiFPUHqabK"
      },
      "source": [
        "from sklearn.metrics import accuracy_score, precision_score, recall_score\n",
        "\n",
        "##Functionto return metrics of interest for evaluation\n",
        "def get_metrics(y, pred):\n",
        "  return { 'accuracy': accuracy_score(y, pred.round()),\n",
        "          'precision': precision_score(y, pred.round()),\n",
        "          'recall': recall_score(y, pred.round()) }\n",
        "\n",
        "train_metrics = get_metrics(YTRAIN, PTRAIN)\n",
        "valid_metrics = get_metrics(YVALID, PVALID)\n"
      ],
      "execution_count": 13,
      "outputs": []
    },
    {
      "cell_type": "code",
      "metadata": {
        "id": "4nlnUZtqr3P0",
        "outputId": "ebc277e4-2e5d-4627-c99c-99f389d5d51e",
        "colab": {
          "base_uri": "https://localhost:8080/",
          "height": 84
        }
      },
      "source": [
        "print(f'{\"Metric\":10s} {\"Train\":8s} {\"Val\":8s}')\n",
        "for k in sorted(train_metrics.keys()):\n",
        "  print(f'{k:10s} {train_metrics[k]:2f} {valid_metrics[k]:2f}')"
      ],
      "execution_count": 14,
      "outputs": [
        {
          "output_type": "stream",
          "text": [
            "Metric     Train    Val     \n",
            "accuracy   0.994845 0.855932\n",
            "precision  0.981481 0.727273\n",
            "recall     1.000000 0.750000\n"
          ],
          "name": "stdout"
        }
      ]
    },
    {
      "cell_type": "markdown",
      "metadata": {
        "id": "_SLCB1yrt_0Q"
      },
      "source": [
        "The overfitted model performs better on the training set than the validation set in terms of accuracy, precision, and recall.  The accuracy measurement is respectable on the validation though the loss is significantly greater on the validation set than on the training set.  The observed deviation in performance is a result of the model overtraining on the training data and failing to generalize.  Training a model with a simpler architecture can mitigate the problem of overtraining as its trainable parameters will generalize the data to yield a comparable performance between the training and validation sets."
      ]
    },
    {
      "cell_type": "markdown",
      "metadata": {
        "id": "Gj2wkxHrv1ij"
      },
      "source": [
        "Overtraining can be a problem because it does not yield a model that generalizes the data.  The objective of training a model is to yield a model capable of generalizing the data to yield approximate predictions for known and unkown records."
      ]
    },
    {
      "cell_type": "markdown",
      "metadata": {
        "id": "UtTYDQE8wrmT"
      },
      "source": [
        "Generalization is the model's ability to acquire accurate predictions on unknown data based on the information that the model has learned.  Overfitting is the occurance in which a model memorizes patterns within the training data that the model performs well on the training data and fails to generalize.  The model memorizes data within the training set such that the model fails to yield accurate predictions on data it has not encountered.  Overfitting may occur from an overly complicated architecture that permits the memorization of the training data or performing excessive training iterations.  Underfitting occurs when the model performs poorly on both the training set and any other test sets: validation or test sets.  Underfitting may be a result of insufficient training epochs or the model having too simple of an architecture to learn meaningful data from the training data."
      ]
    },
    {
      "cell_type": "markdown",
      "metadata": {
        "id": "AIa1IRFx0jO3"
      },
      "source": [
        "The validation set must be normalized according to the parameters acquired from the training set due both sets of data originating from the same distribution.  IID is requirement for machine learning to be feasible.  The training set contains more information that yields more accurate information about the distribution than is available in the validation set.  The mean and standard deviation may differ in the validation set due to insufficient data given that the majority of the data is reserved for the training set."
      ]
    }
  ]
}