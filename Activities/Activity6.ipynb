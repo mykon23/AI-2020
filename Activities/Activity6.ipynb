{
  "nbformat": 4,
  "nbformat_minor": 0,
  "metadata": {
    "colab": {
      "name": "Activity6.ipynb",
      "provenance": [],
      "authorship_tag": "ABX9TyNIG3xPC7z9Rxfp4ieeO8gr",
      "include_colab_link": true
    },
    "kernelspec": {
      "name": "python3",
      "display_name": "Python 3"
    }
  },
  "cells": [
    {
      "cell_type": "markdown",
      "metadata": {
        "id": "view-in-github",
        "colab_type": "text"
      },
      "source": [
        "<a href=\"https://colab.research.google.com/github/mykon23/AI-2020/blob/master/Activities/Activity6.ipynb\" target=\"_parent\"><img src=\"https://colab.research.google.com/assets/colab-badge.svg\" alt=\"Open In Colab\"/></a>"
      ]
    },
    {
      "cell_type": "code",
      "metadata": {
        "id": "kIb47KN3ZlHd",
        "colab_type": "code",
        "colab": {
          "base_uri": "https://localhost:8080/",
          "height": 353
        },
        "outputId": "9383e0f0-6651-42d9-c8ef-7d8bb6bbe172"
      },
      "source": [
        "!wget -O Baseball.csv https://github.com/mykon23/AI-2020/blob/master/Data/Baseball.csv?raw=True"
      ],
      "execution_count": 76,
      "outputs": [
        {
          "output_type": "stream",
          "text": [
            "--2020-09-12 18:24:17--  https://github.com/mykon23/AI-2020/blob/master/Data/Baseball.csv?raw=True\n",
            "Resolving github.com (github.com)... 140.82.113.4\n",
            "Connecting to github.com (github.com)|140.82.113.4|:443... connected.\n",
            "HTTP request sent, awaiting response... 302 Found\n",
            "Location: https://github.com/mykon23/AI-2020/raw/master/Data/Baseball.csv [following]\n",
            "--2020-09-12 18:24:18--  https://github.com/mykon23/AI-2020/raw/master/Data/Baseball.csv\n",
            "Reusing existing connection to github.com:443.\n",
            "HTTP request sent, awaiting response... 302 Found\n",
            "Location: https://raw.githubusercontent.com/mykon23/AI-2020/master/Data/Baseball.csv [following]\n",
            "--2020-09-12 18:24:18--  https://raw.githubusercontent.com/mykon23/AI-2020/master/Data/Baseball.csv\n",
            "Resolving raw.githubusercontent.com (raw.githubusercontent.com)... 151.101.0.133, 151.101.64.133, 151.101.128.133, ...\n",
            "Connecting to raw.githubusercontent.com (raw.githubusercontent.com)|151.101.0.133|:443... connected.\n",
            "HTTP request sent, awaiting response... 200 OK\n",
            "Length: 67157 (66K) [text/plain]\n",
            "Saving to: ‘Baseball.csv’\n",
            "\n",
            "Baseball.csv        100%[===================>]  65.58K  --.-KB/s    in 0.03s   \n",
            "\n",
            "2020-09-12 18:24:19 (2.25 MB/s) - ‘Baseball.csv’ saved [67157/67157]\n",
            "\n"
          ],
          "name": "stdout"
        }
      ]
    },
    {
      "cell_type": "code",
      "metadata": {
        "id": "tiQyYqybZ0fa",
        "colab_type": "code",
        "colab": {
          "base_uri": "https://localhost:8080/",
          "height": 195
        },
        "outputId": "9b9044dc-2ab3-4283-b114-3965565ff716"
      },
      "source": [
        "import pandas as pd\n",
        "data = pd.read_csv('Baseball.csv', delimiter=',')\n",
        "data.head()"
      ],
      "execution_count": 77,
      "outputs": [
        {
          "output_type": "execute_result",
          "data": {
            "text/html": [
              "<div>\n",
              "<style scoped>\n",
              "    .dataframe tbody tr th:only-of-type {\n",
              "        vertical-align: middle;\n",
              "    }\n",
              "\n",
              "    .dataframe tbody tr th {\n",
              "        vertical-align: top;\n",
              "    }\n",
              "\n",
              "    .dataframe thead th {\n",
              "        text-align: right;\n",
              "    }\n",
              "</style>\n",
              "<table border=\"1\" class=\"dataframe\">\n",
              "  <thead>\n",
              "    <tr style=\"text-align: right;\">\n",
              "      <th></th>\n",
              "      <th>Team</th>\n",
              "      <th>League</th>\n",
              "      <th>Year</th>\n",
              "      <th>RS</th>\n",
              "      <th>RA</th>\n",
              "      <th>W</th>\n",
              "      <th>OBP</th>\n",
              "      <th>SLG</th>\n",
              "      <th>BA</th>\n",
              "      <th>Playoffs</th>\n",
              "      <th>RankSeason</th>\n",
              "      <th>RankPlayoffs</th>\n",
              "      <th>G</th>\n",
              "      <th>OOBP</th>\n",
              "      <th>OSLG</th>\n",
              "    </tr>\n",
              "  </thead>\n",
              "  <tbody>\n",
              "    <tr>\n",
              "      <th>0</th>\n",
              "      <td>ARI</td>\n",
              "      <td>NL</td>\n",
              "      <td>2012</td>\n",
              "      <td>734</td>\n",
              "      <td>688</td>\n",
              "      <td>81</td>\n",
              "      <td>0.328</td>\n",
              "      <td>0.418</td>\n",
              "      <td>0.259</td>\n",
              "      <td>0</td>\n",
              "      <td>NaN</td>\n",
              "      <td>NaN</td>\n",
              "      <td>162</td>\n",
              "      <td>0.317</td>\n",
              "      <td>0.415</td>\n",
              "    </tr>\n",
              "    <tr>\n",
              "      <th>1</th>\n",
              "      <td>ATL</td>\n",
              "      <td>NL</td>\n",
              "      <td>2012</td>\n",
              "      <td>700</td>\n",
              "      <td>600</td>\n",
              "      <td>94</td>\n",
              "      <td>0.320</td>\n",
              "      <td>0.389</td>\n",
              "      <td>0.247</td>\n",
              "      <td>1</td>\n",
              "      <td>4.0</td>\n",
              "      <td>5.0</td>\n",
              "      <td>162</td>\n",
              "      <td>0.306</td>\n",
              "      <td>0.378</td>\n",
              "    </tr>\n",
              "    <tr>\n",
              "      <th>2</th>\n",
              "      <td>BAL</td>\n",
              "      <td>AL</td>\n",
              "      <td>2012</td>\n",
              "      <td>712</td>\n",
              "      <td>705</td>\n",
              "      <td>93</td>\n",
              "      <td>0.311</td>\n",
              "      <td>0.417</td>\n",
              "      <td>0.247</td>\n",
              "      <td>1</td>\n",
              "      <td>5.0</td>\n",
              "      <td>4.0</td>\n",
              "      <td>162</td>\n",
              "      <td>0.315</td>\n",
              "      <td>0.403</td>\n",
              "    </tr>\n",
              "    <tr>\n",
              "      <th>3</th>\n",
              "      <td>BOS</td>\n",
              "      <td>AL</td>\n",
              "      <td>2012</td>\n",
              "      <td>734</td>\n",
              "      <td>806</td>\n",
              "      <td>69</td>\n",
              "      <td>0.315</td>\n",
              "      <td>0.415</td>\n",
              "      <td>0.260</td>\n",
              "      <td>0</td>\n",
              "      <td>NaN</td>\n",
              "      <td>NaN</td>\n",
              "      <td>162</td>\n",
              "      <td>0.331</td>\n",
              "      <td>0.428</td>\n",
              "    </tr>\n",
              "    <tr>\n",
              "      <th>4</th>\n",
              "      <td>CHC</td>\n",
              "      <td>NL</td>\n",
              "      <td>2012</td>\n",
              "      <td>613</td>\n",
              "      <td>759</td>\n",
              "      <td>61</td>\n",
              "      <td>0.302</td>\n",
              "      <td>0.378</td>\n",
              "      <td>0.240</td>\n",
              "      <td>0</td>\n",
              "      <td>NaN</td>\n",
              "      <td>NaN</td>\n",
              "      <td>162</td>\n",
              "      <td>0.335</td>\n",
              "      <td>0.424</td>\n",
              "    </tr>\n",
              "  </tbody>\n",
              "</table>\n",
              "</div>"
            ],
            "text/plain": [
              "  Team League  Year   RS   RA  ...  RankSeason  RankPlayoffs    G   OOBP   OSLG\n",
              "0  ARI     NL  2012  734  688  ...         NaN           NaN  162  0.317  0.415\n",
              "1  ATL     NL  2012  700  600  ...         4.0           5.0  162  0.306  0.378\n",
              "2  BAL     AL  2012  712  705  ...         5.0           4.0  162  0.315  0.403\n",
              "3  BOS     AL  2012  734  806  ...         NaN           NaN  162  0.331  0.428\n",
              "4  CHC     NL  2012  613  759  ...         NaN           NaN  162  0.335  0.424\n",
              "\n",
              "[5 rows x 15 columns]"
            ]
          },
          "metadata": {
            "tags": []
          },
          "execution_count": 77
        }
      ]
    },
    {
      "cell_type": "code",
      "metadata": {
        "id": "4HMMVXYzaHC1",
        "colab_type": "code",
        "colab": {
          "base_uri": "https://localhost:8080/",
          "height": 252
        },
        "outputId": "d10ef481-f7d6-43bb-8d6e-db0b476fd34d"
      },
      "source": [
        "##Get the features of interest\n",
        "x_features = [ 'RS', 'RA', 'W', 'OBP', 'SLG', 'BA' ]\n",
        "y_output = [ 'Playoffs' ]\n",
        "\n",
        "##Only get the data from teams after 1994 when the wildcard was introduced\n",
        "##Prior to the wildcard game, only four or two teams made it to playoffs instead of 8\n",
        "work_data = data[ data['Year'] > 1994 ]\n",
        "work_data = work_data[ x_features + y_output ]\n",
        "print(work_data)"
      ],
      "execution_count": 78,
      "outputs": [
        {
          "output_type": "stream",
          "text": [
            "      RS   RA   W    OBP    SLG     BA  Playoffs\n",
            "0    734  688  81  0.328  0.418  0.259         0\n",
            "1    700  600  94  0.320  0.389  0.247         1\n",
            "2    712  705  93  0.311  0.417  0.247         1\n",
            "3    734  806  69  0.315  0.415  0.260         0\n",
            "4    613  759  61  0.302  0.378  0.240         0\n",
            "..   ...  ...  ..    ...    ...    ...       ...\n",
            "501  993  895  85  0.366  0.484  0.287         0\n",
            "502  752  862  68  0.331  0.388  0.253         0\n",
            "503  759  706  88  0.330  0.407  0.267         1\n",
            "504  928  799  90  0.358  0.469  0.284         1\n",
            "505  766  809  74  0.331  0.420  0.259         0\n",
            "\n",
            "[506 rows x 7 columns]\n"
          ],
          "name": "stdout"
        }
      ]
    },
    {
      "cell_type": "code",
      "metadata": {
        "id": "LXf9yDAravGR",
        "colab_type": "code",
        "colab": {}
      },
      "source": [
        "##Convert the working data into numpy array\n",
        "import numpy as np\n",
        "work_data = work_data.to_numpy().astype(np.float64)"
      ],
      "execution_count": 79,
      "outputs": []
    },
    {
      "cell_type": "code",
      "metadata": {
        "id": "r14b1f2Nb0Jw",
        "colab_type": "code",
        "colab": {}
      },
      "source": [
        "X = work_data[:, :-1]\n",
        "Y = work_data[:, -1]"
      ],
      "execution_count": 80,
      "outputs": []
    },
    {
      "cell_type": "code",
      "metadata": {
        "id": "7s9yMkxzck0K",
        "colab_type": "code",
        "colab": {}
      },
      "source": [
        "##Standardization\n",
        "mean = X.mean(axis = 0)\n",
        "X -= mean\n",
        "std = X.std(axis = 0)\n",
        "X /= std"
      ],
      "execution_count": 81,
      "outputs": []
    },
    {
      "cell_type": "code",
      "metadata": {
        "id": "XTup4oKkcQZy",
        "colab_type": "code",
        "colab": {
          "base_uri": "https://localhost:8080/",
          "height": 34
        },
        "outputId": "2d6278e5-b853-4df2-c221-e6a58adfa632"
      },
      "source": [
        "from tensorflow.keras.models import Sequential\n",
        "from tensorflow.keras.layers import Dense\n",
        "\n",
        "model = Sequential()\n",
        "model.add(Dense(1, input_dim = len(X[0, :]), activation='sigmoid'))\n",
        "model.compile(loss='binary_crossentropy', optimizer = 'rmsprop', metrics=['accuracy'])\n",
        "model.fit(X, Y, epochs = 1024, verbose = 0)"
      ],
      "execution_count": 82,
      "outputs": [
        {
          "output_type": "execute_result",
          "data": {
            "text/plain": [
              "<tensorflow.python.keras.callbacks.History at 0x7f77f1b6f2b0>"
            ]
          },
          "metadata": {
            "tags": []
          },
          "execution_count": 82
        }
      ]
    },
    {
      "cell_type": "code",
      "metadata": {
        "id": "xoOXHISwcaNd",
        "colab_type": "code",
        "colab": {
          "base_uri": "https://localhost:8080/",
          "height": 521
        },
        "outputId": "55110bbc-c276-4533-f5c0-2d86fc475fd9"
      },
      "source": [
        "##Get the preditions for the most current year in the data for 30 teams\n",
        "prediction = model.predict(X)\n",
        "for i in range(30):\n",
        "  print(f'Validation: {Y[i]}, Prediction: {prediction[i].T[0]}')"
      ],
      "execution_count": 83,
      "outputs": [
        {
          "output_type": "stream",
          "text": [
            "Validation: 0.0, Prediction: 0.022229939699172974\n",
            "Validation: 1.0, Prediction: 0.8881652355194092\n",
            "Validation: 1.0, Prediction: 0.7530145645141602\n",
            "Validation: 0.0, Prediction: 5.45075636182446e-05\n",
            "Validation: 0.0, Prediction: 1.814902930163953e-06\n",
            "Validation: 0.0, Prediction: 0.08313241600990295\n",
            "Validation: 1.0, Prediction: 0.9590075016021729\n",
            "Validation: 0.0, Prediction: 7.70863116485998e-05\n",
            "Validation: 0.0, Prediction: 7.676392669964116e-06\n",
            "Validation: 1.0, Prediction: 0.3772439956665039\n",
            "Validation: 0.0, Prediction: 1.442006833940468e-07\n",
            "Validation: 0.0, Prediction: 0.0002446174621582031\n",
            "Validation: 0.0, Prediction: 0.3911699056625366\n",
            "Validation: 0.0, Prediction: 0.169251948595047\n",
            "Validation: 0.0, Prediction: 8.029433956835419e-05\n",
            "Validation: 0.0, Prediction: 0.040606945753097534\n",
            "Validation: 0.0, Prediction: 2.4847329768817872e-05\n",
            "Validation: 0.0, Prediction: 0.0008864402770996094\n",
            "Validation: 1.0, Prediction: 0.9291223883628845\n",
            "Validation: 1.0, Prediction: 0.8526228666305542\n",
            "Validation: 0.0, Prediction: 0.01689887046813965\n",
            "Validation: 0.0, Prediction: 0.005425065755844116\n",
            "Validation: 0.0, Prediction: 0.002609342336654663\n",
            "Validation: 0.0, Prediction: 0.0008546411991119385\n",
            "Validation: 1.0, Prediction: 0.8637535572052002\n",
            "Validation: 1.0, Prediction: 0.3745337128639221\n",
            "Validation: 0.0, Prediction: 0.5756629109382629\n",
            "Validation: 1.0, Prediction: 0.7939333915710449\n",
            "Validation: 0.0, Prediction: 0.00036451220512390137\n",
            "Validation: 1.0, Prediction: 0.9717299938201904\n"
          ],
          "name": "stdout"
        }
      ]
    },
    {
      "cell_type": "markdown",
      "metadata": {
        "id": "LOXedN4siCOj",
        "colab_type": "text"
      },
      "source": [
        "The predicted values are compared to the validation values to acquire correctness.  Values that are greater than or equal to 0.5 shall map to 1.0 whereas values below 0.5 shall map to 0.0.  The values for logistic regression are reasonable as correct predictions are acquired for 27 of the 30 teams.  The incorrect predictions may be a result of the problem as the MLB favors division winners over teams with better records; i.e. The division winner may have a worse record than other second place teams, but will move onto the playoffs due to being the 'best' within their division. "
      ]
    }
  ]
}